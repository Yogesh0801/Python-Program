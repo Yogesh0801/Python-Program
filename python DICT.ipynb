{
 "cells": [
  {
   "cell_type": "code",
   "execution_count": 3,
   "metadata": {},
   "outputs": [
    {
     "name": "stdout",
     "output_type": "stream",
     "text": [
      "{1: 'apple', 2: 'ball'}\n"
     ]
    }
   ],
   "source": [
    "# empty dictionary\n",
    "my_dict = {}\n",
    "\n",
    "# dictionary with integer keys\n",
    "my_dict = {1: 'apple', 2: 'ball'}\n",
    "\n",
    "# dictionary with mixed keys\n",
    "my_dict = {'name': 'John', 1: [2, 4, 3]}\n",
    "\n",
    "# using dict()\n",
    "my_dict = dict({1:'apple', 2:'ball'})\n",
    "\n",
    "# from sequence having each item as a pair\n",
    "my_dict = dict([(1,'apple'), (2,'ball')])\n",
    "print(my_dict)"
   ]
  },
  {
   "cell_type": "code",
   "execution_count": 5,
   "metadata": {},
   "outputs": [
    {
     "name": "stdout",
     "output_type": "stream",
     "text": [
      "Jack\n",
      "26\n"
     ]
    }
   ],
   "source": [
    "# access elements from a dictionary\n",
    "# dictionary uses keys. Key can be used either inside square brackets \n",
    "# or with the get() method.\n",
    "\n",
    "my_dict = {'name1':'Jack', 'age': 26, 'name2':'bhupen'}\n",
    "\n",
    "print(my_dict['name1'])\n",
    "# Trying to access keys which doesn't exist throws error\n",
    "#print(my_dict['name1'])\n",
    "\n",
    "print(my_dict.get('age'))\n"
   ]
  },
  {
   "cell_type": "code",
   "execution_count": 3,
   "metadata": {},
   "outputs": [
    {
     "name": "stdout",
     "output_type": "stream",
     "text": [
      "{'name': 'Jack', 'age': 27}\n",
      "{'name': 'Jack', 'age': 27, 'address': 'Downtown'}\n"
     ]
    }
   ],
   "source": [
    "# change or add elements in a dictionary\n",
    "# If the key is already present, value gets updated, else a new \n",
    "# key: value pair is added to the dictionary.\n",
    "my_dict = {'name':'Jack', 'age': 26}\n",
    "\n",
    "# update value\n",
    "my_dict['age'] = 27\n",
    "\n",
    "print(my_dict)\n",
    "\n",
    "# add item\n",
    "my_dict['address'] = 'Downtown'  \n",
    "\n",
    "print(my_dict)"
   ]
  },
  {
   "cell_type": "code",
   "execution_count": null,
   "metadata": {},
   "outputs": [],
   "source": [
    "'''\n",
    "clear() - Removes all the elements from the dictionary\n",
    "copy() -Returns a copy of the dictionary\n",
    "fromkeys() - Returns a dictionary with the specified keys and value\n",
    "get()- Returns the value of the specified key\n",
    "items()- Returns a list containing a tuple for each key value pair\n",
    "keys() - Returns a list containing the dictionary's keys\n",
    "pop()- Removes the element with the specified key\n",
    "popitem()- Removes the last inserted key-value pair\n",
    "setdefault()- Returns the value of the specified key. If the key does not exist: insert the key, with the specified value\n",
    "update()- Updates the dictionary with the specified key-value pairs\n",
    "values() - Returns a list of all the values in the dictionary\n",
    "'''"
   ]
  },
  {
   "cell_type": "code",
   "execution_count": 1,
   "metadata": {},
   "outputs": [
    {
     "name": "stdout",
     "output_type": "stream",
     "text": [
      "{}\n"
     ]
    }
   ],
   "source": [
    "my_dict = {'name': 'Yashu', 'age': 25, 'city': 'Hyderabad'}\n",
    "my_dict.clear()\n",
    "print(my_dict)  # Output: {}\n"
   ]
  },
  {
   "cell_type": "code",
   "execution_count": 2,
   "metadata": {},
   "outputs": [
    {
     "name": "stdout",
     "output_type": "stream",
     "text": [
      "{'name': 'Yashu', 'age': 28, 'city': 'Hyderabad'}\n"
     ]
    }
   ],
   "source": [
    "my_dict = {'name': 'Yashu', 'age': 28, 'city': 'Hyderabad'}\n",
    "new_dict = my_dict.copy()\n",
    "print(new_dict)  # Output: {'name': 'Yashu', 'age': 28, 'city': 'Hyderabad'}\n"
   ]
  },
  {
   "cell_type": "code",
   "execution_count": 3,
   "metadata": {},
   "outputs": [
    {
     "name": "stdout",
     "output_type": "stream",
     "text": [
      "{'name': 'Unknown', 'age': 'Unknown', 'city': 'Unknown'}\n"
     ]
    }
   ],
   "source": [
    "keys = ['name', 'age', 'city']\n",
    "new_dict = dict.fromkeys(keys, 'Unknown')\n",
    "print(new_dict)  # Output: {'name': 'Unknown', 'age': 'Unknown', 'city': 'Unknown'}\n"
   ]
  },
  {
   "cell_type": "code",
   "execution_count": 4,
   "metadata": {},
   "outputs": [
    {
     "name": "stdout",
     "output_type": "stream",
     "text": [
      "Yashu\n",
      "India\n"
     ]
    }
   ],
   "source": [
    "my_dict = {'name': 'Yashu', 'age': 28, 'city': 'Hyderabad'}\n",
    "print(my_dict.get('name'))  # Output: Yashu\n",
    "print(my_dict.get('country', 'India'))  # Output: India\n"
   ]
  },
  {
   "cell_type": "code",
   "execution_count": 5,
   "metadata": {},
   "outputs": [
    {
     "name": "stdout",
     "output_type": "stream",
     "text": [
      "dict_items([('name', 'Yashu'), ('age', 28), ('city', 'Hyderabad')])\n"
     ]
    }
   ],
   "source": [
    "my_dict = {'name': 'zack', 'age': 28, 'city': 'Hyderabad'}\n",
    "print(my_dict.items())  # Output: dict_items([('name', 'Yashu'), ('age', 28), ('city', 'Hyderabad')])\n"
   ]
  },
  {
   "cell_type": "code",
   "execution_count": 2,
   "metadata": {},
   "outputs": [
    {
     "name": "stdout",
     "output_type": "stream",
     "text": [
      "dict_keys(['name', 'age', 'city'])\n"
     ]
    }
   ],
   "source": [
    "my_dict = {'name': 'zack', 'age': 28, 'city': 'Hyderabad'}\n",
    "print(my_dict.keys())  # Output: dict_keys(['name', 'age', 'city'])\n"
   ]
  },
  {
   "cell_type": "code",
   "execution_count": 7,
   "metadata": {},
   "outputs": [
    {
     "name": "stdout",
     "output_type": "stream",
     "text": [
      "28\n",
      "{'name': 'Yashu', 'city': 'Hyderabad'}\n"
     ]
    }
   ],
   "source": [
    "my_dict = {'name': 'zack', 'age': 28, 'city': 'Hyderabad'}\n",
    "age = my_dict.pop('age')\n",
    "print(age)  # Output: 28\n",
    "print(my_dict)  # Output: {'name': 'Yashu', 'city': 'Hyderabad'}\n"
   ]
  },
  {
   "cell_type": "code",
   "execution_count": 8,
   "metadata": {},
   "outputs": [
    {
     "name": "stdout",
     "output_type": "stream",
     "text": [
      "('city', 'Hyderabad')\n",
      "{'name': 'Yashu', 'age': 28}\n"
     ]
    }
   ],
   "source": [
    "my_dict = {'name': 'zack', 'age': 28, 'city': 'Hyderabad'}\n",
    "item = my_dict.popitem()\n",
    "print(item)  # Output: ('city', 'Hyderabad')\n",
    "print(my_dict)  # Output: {'name': 'Yashu', 'age': 28}\n"
   ]
  },
  {
   "cell_type": "code",
   "execution_count": 8,
   "metadata": {},
   "outputs": [
    {
     "name": "stdout",
     "output_type": "stream",
     "text": [
      "{'mob2': 'samsung', 'mob3': 'oneplus', 'mob4': 'redmi', 'mob5': 'realme', 'book1': 'python', 'book4': 'web developer', 'book5': 'DjanGO'}\n",
      "book2\n"
     ]
    }
   ],
   "source": [
    "shop = {'mob1':'iphone','mob2':'samsung','mob3':'oneplus',\n",
    "        'mob4':'redmi','mob5':'realme',\n",
    "        'book1':'python','book2':'Data science',\n",
    "         'book3':'how to become python developer',\n",
    "         'book4':'web developer','book5':'DjanGO'}\n",
    "delete_k = ['book3','mob1','book2']\n",
    "for key in delete_k:\n",
    "    del shop[key]\n",
    "print(shop)\n",
    "print(key)"
   ]
  },
  {
   "cell_type": "code",
   "execution_count": 4,
   "metadata": {},
   "outputs": [
    {
     "name": "stdout",
     "output_type": "stream",
     "text": [
      "Hyderabad\n",
      "Hyderabad\n",
      "{'name': 'Yashu', 'age': 28, 'city': 'Chennai'}\n"
     ]
    }
   ],
   "source": [
    "my_dict = {'name': 'zack', 'age': 28}\n",
    "city = my_dict.setdefault('city', 'Hyderabad')\n",
    "print(city)  # Output: Hyderabad\n",
    "my_dict['city'] = 'Chennai'\n",
    "print(city)\n",
    "print(my_dict)  # Output: {'name': 'Yashu', 'age': 28, 'city': 'Hyderabad'}\n"
   ]
  },
  {
   "cell_type": "code",
   "execution_count": 10,
   "metadata": {},
   "outputs": [
    {
     "name": "stdout",
     "output_type": "stream",
     "text": [
      "{'name': 'Yashu', 'age': 28, 'city': 'Hyderabad', 'country': 'India'}\n"
     ]
    }
   ],
   "source": [
    "my_dict = {'name': 'zack', 'age': 28}\n",
    "new_info = {'city': 'Hyderabad', 'country': 'India'}\n",
    "my_dict.update(new_info)\n",
    "print(my_dict)  # Output: {'name': 'Yashu', 'age': 28, 'city': 'Hyderabad', 'country': 'India'}\n"
   ]
  },
  {
   "cell_type": "code",
   "execution_count": 11,
   "metadata": {},
   "outputs": [
    {
     "name": "stdout",
     "output_type": "stream",
     "text": [
      "dict_values(['Yashu', 28, 'Hyderabad'])\n"
     ]
    }
   ],
   "source": [
    "my_dict = {'name': 'zack', 'age': 28, 'city': 'Hyderabad'}\n",
    "print(my_dict.values())  # Output: dict_values(['Yashu', 28, 'Hyderabad'])\n"
   ]
  },
  {
   "cell_type": "code",
   "execution_count": 12,
   "metadata": {},
   "outputs": [
    {
     "name": "stdout",
     "output_type": "stream",
     "text": [
      "3\n"
     ]
    }
   ],
   "source": [
    "my_dict = {'name': 'zack', 'age': 28, 'city': 'Hyderabad'}\n",
    "print(len(my_dict))  # Output: 3\n"
   ]
  },
  {
   "cell_type": "code",
   "execution_count": 13,
   "metadata": {},
   "outputs": [
    {
     "name": "stdout",
     "output_type": "stream",
     "text": [
      "True\n",
      "False\n"
     ]
    }
   ],
   "source": [
    "my_dict = {'name': 'zack', 'age': 28, 'city': 'Hyderabad'}\n",
    "print('name' in my_dict)  # Output: True\n",
    "print('country' in my_dict)  # Output: False\n"
   ]
  },
  {
   "cell_type": "code",
   "execution_count": 5,
   "metadata": {},
   "outputs": [
    {
     "name": "stdout",
     "output_type": "stream",
     "text": [
      "16\n",
      "(5, 25)\n"
     ]
    }
   ],
   "source": [
    "# delete or remove elements from a dictionary\n",
    "# create a dictionary\n",
    "squares = {1: 1,  2: 4, 3: 9, 4: 16, 5:25}  \n",
    "\n",
    "# remove a particular item\n",
    "print(squares.pop(4))  \n",
    "\n",
    "# remove an arbitrary item\n",
    "print(squares.popitem())\n",
    "\n",
    "# remove all items\n",
    "squares.clear()\n",
    "\n",
    "# delete the dictionary itself\n",
    "del squares\n"
   ]
  },
  {
   "cell_type": "code",
   "execution_count": 4,
   "metadata": {},
   "outputs": [
    {
     "name": "stdout",
     "output_type": "stream",
     "text": [
      "{1: 'vamsi', 2: 'akash'}\n",
      "{1: 'vamsi', 2: 'akash', 3: 'raj', 4: 'ashwin'}\n"
     ]
    }
   ],
   "source": [
    "a = {1: \"vamsi\", 2: \"pranjin\"}\n",
    "a1 = {2: \"akash\"}\n",
    "\n",
    "\n",
    "a.update(a1)\n",
    "print(a)\n",
    "\n",
    "a1 = {3: \"raj\", 4:\"ashwin\"}\n",
    "\n",
    "a.update(a1)\n",
    "print(a)"
   ]
  },
  {
   "cell_type": "code",
   "execution_count": 17,
   "metadata": {},
   "outputs": [
    {
     "data": {
      "text/plain": [
       "dict_values(['Jack', 26, 'bhupen'])"
      ]
     },
     "execution_count": 17,
     "metadata": {},
     "output_type": "execute_result"
    }
   ],
   "source": [
    "my_dict = {'name1':'Jack', 'age': 26, 'name2':'bhupen'}\n",
    "#values present \n",
    "my_dict.values()\n"
   ]
  },
  {
   "cell_type": "code",
   "execution_count": 18,
   "metadata": {},
   "outputs": [
    {
     "data": {
      "text/plain": [
       "'Jack'"
      ]
     },
     "execution_count": 18,
     "metadata": {},
     "output_type": "execute_result"
    }
   ],
   "source": [
    "#if any updates \n",
    "my_dict.update()\n",
    "\n",
    "#to get specific key value \n",
    "my_dict.get('name1')"
   ]
  },
  {
   "cell_type": "code",
   "execution_count": 19,
   "metadata": {},
   "outputs": [
    {
     "data": {
      "text/plain": [
       "dict_items([('name1', 'Jack'), ('age', 26), ('name2', 'bhupen')])"
      ]
     },
     "execution_count": 19,
     "metadata": {},
     "output_type": "execute_result"
    }
   ],
   "source": [
    "#Returns a list containing a tuple for each key value pair\n",
    "my_dict.items()"
   ]
  },
  {
   "cell_type": "code",
   "execution_count": 20,
   "metadata": {},
   "outputs": [
    {
     "data": {
      "text/plain": [
       "dict_keys(['name1', 'age', 'name2'])"
      ]
     },
     "execution_count": 20,
     "metadata": {},
     "output_type": "execute_result"
    }
   ],
   "source": [
    "#Returns a list containing the dictionary's keys\n",
    "my_dict.keys()"
   ]
  },
  {
   "cell_type": "code",
   "execution_count": 21,
   "metadata": {},
   "outputs": [
    {
     "data": {
      "text/plain": [
       "26"
      ]
     },
     "execution_count": 21,
     "metadata": {},
     "output_type": "execute_result"
    }
   ],
   "source": [
    "#Returns the value of the specified key. If the key does not exist: insert the key, with the specified value\n",
    "my_dict.setdefault(\"add\")"
   ]
  },
  {
   "cell_type": "code",
   "execution_count": 5,
   "metadata": {},
   "outputs": [
    {
     "name": "stdout",
     "output_type": "stream",
     "text": [
      "{1: (20, 30, 40, 50), 2: (20, 30, 40, 50), 3: (20, 30, 40, 50), 4: (20, 30, 40, 50)}\n"
     ]
    }
   ],
   "source": [
    "#fromkeys() - Returns a dictionary with the specified keys and value\n",
    "# dict.fromkeys(keys, value)\n",
    "key1 = (1,2,3,4)\n",
    "value1 = (20,30,40,50)\n",
    "bepec = dict.fromkeys(key1,value1)\n",
    "print(bepec)"
   ]
  },
  {
   "cell_type": "code",
   "execution_count": 5,
   "metadata": {},
   "outputs": [
    {
     "name": "stdout",
     "output_type": "stream",
     "text": [
      "IBM 146.48\n",
      "MSFT 44.11\n",
      "CSCO 25.54\n"
     ]
    }
   ],
   "source": [
    "# iterating\n",
    "stocks = {\n",
    "        'IBM': 146.48,\n",
    "        'MSFT':44.11,\n",
    "        'CSCO':25.54\n",
    "    }\n",
    "    \n",
    "# print out all the keys\n",
    "for c in stocks:\n",
    "    print(c, stocks[c])\n"
   ]
  },
  {
   "cell_type": "code",
   "execution_count": 5,
   "metadata": {},
   "outputs": [
    {
     "name": "stdout",
     "output_type": "stream",
     "text": [
      "IBM\n",
      "MSFT\n",
      "CSCO\n"
     ]
    }
   ],
   "source": [
    "for index in stocks:\n",
    "    print(index)\n",
    "    print()"
   ]
  },
  {
   "cell_type": "code",
   "execution_count": 6,
   "metadata": {
    "collapsed": true,
    "jupyter": {
     "outputs_hidden": true
    }
   },
   "outputs": [],
   "source": [
    "# nested dictionary\n",
    "users = {'user1': {'name': 'John', 'age': '27', 'sex': 'Male'},\n",
    "          'user2': {'name': 'Marie', 'age': '22', 'sex': 'Female'}}"
   ]
  },
  {
   "cell_type": "code",
   "execution_count": 8,
   "metadata": {},
   "outputs": [
    {
     "data": {
      "text/plain": [
       "{'user1': {'age': '27', 'name': 'John', 'sex': 'Male'},\n",
       " 'user2': {'age': '22', 'name': 'Marie', 'sex': 'Female'}}"
      ]
     },
     "execution_count": 8,
     "metadata": {},
     "output_type": "execute_result"
    }
   ],
   "source": [
    "users"
   ]
  },
  {
   "cell_type": "code",
   "execution_count": 9,
   "metadata": {},
   "outputs": [
    {
     "name": "stdout",
     "output_type": "stream",
     "text": [
      "John\n",
      "27\n",
      "Male\n"
     ]
    }
   ],
   "source": [
    "print(users['user1']['name'])\n",
    "print(users['user1']['age'])\n",
    "print(users['user1']['sex'])"
   ]
  },
  {
   "cell_type": "code",
   "execution_count": 10,
   "metadata": {},
   "outputs": [
    {
     "name": "stdout",
     "output_type": "stream",
     "text": [
      "Original List: \n",
      "[{'key': {'subkey': 1}}, {'key': {'subkey': 10}}, {'key': {'subkey': 5}}]\n"
     ]
    }
   ],
   "source": [
    "my_list = [{'key': {'subkey': 1}}, {'key': {'subkey': 10}}, {'key': {'subkey': 5}}]\n",
    "print(\"Original List: \")\n",
    "print(my_list)\n"
   ]
  },
  {
   "cell_type": "code",
   "execution_count": 11,
   "metadata": {},
   "outputs": [
    {
     "name": "stdout",
     "output_type": "stream",
     "text": [
      "Sorted List: \n",
      "[{'key': {'subkey': 10}}, {'key': {'subkey': 5}}, {'key': {'subkey': 1}}]\n"
     ]
    }
   ],
   "source": [
    "my_list.sort(key=lambda e: e['key']['subkey'], reverse=True)\n",
    "print(\"Sorted List: \")\n",
    "print(my_list)"
   ]
  },
  {
   "cell_type": "code",
   "execution_count": null,
   "metadata": {
    "collapsed": true,
    "jupyter": {
     "outputs_hidden": true
    }
   },
   "outputs": [],
   "source": []
  },
  {
   "cell_type": "code",
   "execution_count": null,
   "metadata": {
    "collapsed": true,
    "jupyter": {
     "outputs_hidden": true
    }
   },
   "outputs": [],
   "source": []
  }
 ],
 "metadata": {
  "kernelspec": {
   "display_name": "Python 3 (ipykernel)",
   "language": "python",
   "name": "python3"
  },
  "language_info": {
   "codemirror_mode": {
    "name": "ipython",
    "version": 3
   },
   "file_extension": ".py",
   "mimetype": "text/x-python",
   "name": "python",
   "nbconvert_exporter": "python",
   "pygments_lexer": "ipython3",
   "version": "3.10.7"
  },
  "toc": {
   "base_numbering": 1,
   "nav_menu": {},
   "number_sections": true,
   "sideBar": true,
   "skip_h1_title": false,
   "title_cell": "Table of Contents",
   "title_sidebar": "Contents",
   "toc_cell": false,
   "toc_position": {},
   "toc_section_display": true,
   "toc_window_display": false
  }
 },
 "nbformat": 4,
 "nbformat_minor": 4
}
