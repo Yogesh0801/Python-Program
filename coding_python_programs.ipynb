{
  "nbformat": 4,
  "nbformat_minor": 0,
  "metadata": {
    "colab": {
      "provenance": [],
      "include_colab_link": true
    },
    "kernelspec": {
      "name": "python3",
      "display_name": "Python 3"
    },
    "language_info": {
      "name": "python"
    }
  },
  "cells": [
    {
      "cell_type": "markdown",
      "metadata": {
        "id": "view-in-github",
        "colab_type": "text"
      },
      "source": [
        "<a href=\"https://colab.research.google.com/github/Yogesh0801/Python-Program/blob/main/coding_python_programs.ipynb\" target=\"_parent\"><img src=\"https://colab.research.google.com/assets/colab-badge.svg\" alt=\"Open In Colab\"/></a>"
      ]
    },
    {
      "cell_type": "markdown",
      "source": [
        "# ### Q(1)  Add two numbers:-(1) with pre-defined variable\n",
        "\n",
        "1.   List item\n",
        "2.   List item\n",
        "\n"
      ],
      "metadata": {
        "id": "S_sLNdAZVJMm"
      }
    },
    {
      "cell_type": "code",
      "source": [
        "a=20\n",
        "b=30\n",
        "c=a+b\n",
        "print(c)"
      ],
      "metadata": {
        "id": "iHN8WcRmoPzQ"
      },
      "execution_count": null,
      "outputs": []
    },
    {
      "cell_type": "code",
      "execution_count": null,
      "metadata": {
        "id": "u-cuc0Y2UvI3"
      },
      "outputs": [],
      "source": [
        "num=10\n",
        "num1=20\n",
        "sum=num+num1\n",
        "print(\"sum of give no:-\",sum)"
      ]
    },
    {
      "cell_type": "code",
      "source": [
        "a=10\n",
        "b=40\n",
        "print(\"sum of given no:-\",a+b)"
      ],
      "metadata": {
        "id": "XMWn1tRyVhHM",
        "colab": {
          "base_uri": "https://localhost:8080/"
        },
        "outputId": "523c40d8-a498-42f4-da8b-eab84d3d2a57"
      },
      "execution_count": null,
      "outputs": [
        {
          "output_type": "stream",
          "name": "stdout",
          "text": [
            "sum of given no:- 50\n"
          ]
        }
      ]
    },
    {
      "cell_type": "markdown",
      "source": [
        "*italicized text*### (2) with user-input:-"
      ],
      "metadata": {
        "id": "gxjWBZ94WOxz"
      }
    },
    {
      "cell_type": "code",
      "source": [
        "num1=float(input(\"enter first no:-\"))\n",
        "num2=float(input(\"enter second no:-\"))\n",
        "sum=num1+num2\n",
        "print(\"sum of the no:-\",sum)"
      ],
      "metadata": {
        "id": "SQuv5fqJWM2I",
        "colab": {
          "base_uri": "https://localhost:8080/"
        },
        "outputId": "0cb47bc7-5eae-47a9-c480-eb5d81e5bd2b"
      },
      "execution_count": null,
      "outputs": [
        {
          "output_type": "stream",
          "name": "stdout",
          "text": [
            "enter first no:-12.5\n",
            "enter second no:-34.9\n",
            "sum of the no:- 47.4\n"
          ]
        }
      ]
    },
    {
      "cell_type": "markdown",
      "source": [
        "## Q(2) python program to find the square root:-\n",
        "\n",
        "1.   List item\n",
        "2.   List item\n",
        "\n"
      ],
      "metadata": {
        "id": "1Dd3701qXVL_"
      }
    },
    {
      "cell_type": "markdown",
      "source": [
        "\n",
        "\n",
        "```\n",
        "# This is formatted as code\n",
        "```\n",
        "\n",
        "###(1) using Exponentiotion:-(**)"
      ],
      "metadata": {
        "id": "7lU8iIfHXrqZ"
      }
    },
    {
      "cell_type": "code",
      "source": [
        "num=64\n",
        "sr=num**(1/2)\n",
        "print(\"the squart root of the given no:-\",sr)"
      ],
      "metadata": {
        "id": "TR18hvEnW8bk",
        "colab": {
          "base_uri": "https://localhost:8080/"
        },
        "outputId": "766875be-f91a-40da-e149-b6a2e7706bbb"
      },
      "execution_count": null,
      "outputs": [
        {
          "output_type": "stream",
          "name": "stdout",
          "text": [
            "the squart root of the given no:- 8.0\n"
          ]
        }
      ]
    },
    {
      "cell_type": "code",
      "source": [
        "num=int(input(\"enter the no:-\"))\n",
        "sr=num**(0.5)\n",
        "print(\"squart no is:- \",sr)"
      ],
      "metadata": {
        "id": "9eY66rexYjeB",
        "colab": {
          "base_uri": "https://localhost:8080/"
        },
        "outputId": "17012167-96d1-44f8-c8c8-929b55d45789"
      },
      "execution_count": null,
      "outputs": [
        {
          "output_type": "stream",
          "name": "stdout",
          "text": [
            "enter the no:-45\n",
            "squart no is:-  6.708203932499369\n"
          ]
        }
      ]
    },
    {
      "cell_type": "markdown",
      "source": [
        "\n",
        "\n",
        "```\n",
        "# This is formatted as code\n",
        "```\n",
        "\n",
        "###(2) using math module:-"
      ],
      "metadata": {
        "id": "hTy5XPUqZHb1"
      }
    },
    {
      "cell_type": "code",
      "source": [
        "import math\n",
        "num=int(input(\"enter the no:-\"))\n",
        "sr=math.sqrt(num)\n",
        "print(\"the square root of :-\",sr)"
      ],
      "metadata": {
        "id": "VOM5RMjsY2WR"
      },
      "execution_count": null,
      "outputs": []
    },
    {
      "cell_type": "markdown",
      "source": [
        "## Q(3) python program to calculate the area of a Triangle:- "
      ],
      "metadata": {
        "id": "PJNyo5eJaOtb"
      }
    },
    {
      "cell_type": "code",
      "source": [
        "height=float(input(\"enter the height of traingle:-\"))\n",
        "Base=float(input(\"enter the base of traingle:-\"))\n",
        "area = (1/2)*height*Base\n",
        "print(\"the area of triangle:-\",area)"
      ],
      "metadata": {
        "id": "lbYGQfPpZ2na"
      },
      "execution_count": null,
      "outputs": []
    },
    {
      "cell_type": "markdown",
      "source": [
        "## Q(4) python program to solve Quadratic Equation:-"
      ],
      "metadata": {
        "id": "Zxx6Q4_RcAPa"
      }
    },
    {
      "cell_type": "markdown",
      "source": [
        "### Quadratic Equation formula:-ax**2 + bx + c = 0\n",
        "### a, b and c are real numbers\n",
        "### a! = 0"
      ],
      "metadata": {
        "id": "7ngdbvDocgGx"
      }
    },
    {
      "cell_type": "code",
      "source": [
        "import cmath\n",
        "a=int(input(\"enter a value:-\"))\n",
        "b=int(input(\"enter b value:-\"))\n",
        "c=int(input(\"enter c value:-\"))\n",
        "d= (b**2) - (4*a*c)                      # d is formula of \"discriminant\"\n",
        "root1=(-b-cmath.sqrt(d))/(2*a)\n",
        "root2=(-b+cmath.sqrt(d))/(2*a)\n",
        "print(\"this is root1:\",root1)\n",
        "print(\"this is root2:\",root2)\n",
        "print(\"the rooots are\", root1, \"and\" , root2)"
      ],
      "metadata": {
        "id": "7PWzPkAPbkT0"
      },
      "execution_count": null,
      "outputs": []
    },
    {
      "cell_type": "markdown",
      "source": [
        "## Q(5) python program to Swap Two Variables:-"
      ],
      "metadata": {
        "id": "-tcufOYMfyK5"
      }
    },
    {
      "cell_type": "markdown",
      "source": [
        "###(1) with using third variable:-"
      ],
      "metadata": {
        "id": "gAOOztdggN5p"
      }
    },
    {
      "cell_type": "code",
      "source": [
        "x=13\n",
        "y=12\n",
        "temp=x\n",
        "print(\"the value of temp variable is\",temp)\n",
        "x=y\n",
        "print(\"the value of x is\",x)\n",
        "y=temp\n",
        "print(\"the value of y is\", y)"
      ],
      "metadata": {
        "id": "0GXrCfDWeyLd"
      },
      "execution_count": null,
      "outputs": []
    },
    {
      "cell_type": "markdown",
      "source": [
        "###(2) without using third variable:-\n",
        "\n",
        "> Indented block\n",
        "\n"
      ],
      "metadata": {
        "id": "I_BJhHsdj5Xa"
      }
    },
    {
      "cell_type": "code",
      "source": [
        "x=13\n",
        "y=12\n",
        "x,y=y,x\n",
        "print(\"the value of x is:-\",x)\n",
        "print(\"the value of y is:-\",y)"
      ],
      "metadata": {
        "id": "uXzEQGkUiQ6p"
      },
      "execution_count": null,
      "outputs": []
    },
    {
      "cell_type": "markdown",
      "source": [
        "#Q(6) Python program to Generate a Random Number:-"
      ],
      "metadata": {
        "id": "sUjzW0h3kWyO"
      }
    },
    {
      "cell_type": "markdown",
      "source": [
        "### (1) using random module:-"
      ],
      "metadata": {
        "id": "hNDVfyFZlyB1"
      }
    },
    {
      "cell_type": "code",
      "source": [
        "import random\n",
        "num=random.randint(0,10)\n",
        "print(num)"
      ],
      "metadata": {
        "id": "sSKeMyQ3lxmB"
      },
      "execution_count": null,
      "outputs": []
    },
    {
      "cell_type": "markdown",
      "source": [
        "##Q(7) python program to convert kilometers to Miles:-\n",
        "\n",
        "\n",
        "\n"
      ],
      "metadata": {
        "id": "Uvy3x-qAmq_Z"
      }
    },
    {
      "cell_type": "markdown",
      "source": [
        "### 1 Kilometer = 0.621371 Mile"
      ],
      "metadata": {
        "id": "hB91ffLbnHQ3"
      }
    },
    {
      "cell_type": "code",
      "source": [
        "km=float(input(\"enter your value in kms:-\"))\n",
        "miles = (0.621371)*km\n",
        "print(km,\"kms will be\",miles,\"miles\")"
      ],
      "metadata": {
        "id": "3Ov_NdqMkMGl"
      },
      "execution_count": null,
      "outputs": []
    },
    {
      "cell_type": "markdown",
      "source": [
        "##(8) python program to convert celsius to fahrenheit:-\n",
        "\n",
        "1.   List item\n",
        "2.   List item\n",
        "\n"
      ],
      "metadata": {
        "id": "fEuGXTPao0EV"
      }
    },
    {
      "cell_type": "markdown",
      "source": [
        "### 0' celsius = 32 fahrenheit\n",
        "### (c*9/5)+32=F"
      ],
      "metadata": {
        "id": "jHesg9cTpDJ7"
      }
    },
    {
      "cell_type": "code",
      "source": [
        "celsius=int(input(\"enter temperature in celsius:-\"))\n",
        "fahrenheit = (celsius*(9/5))+32\n",
        "print(\"the converted value is\", fahrenheit,\"fahrenheit\")"
      ],
      "metadata": {
        "id": "emSFc0E0oRrA"
      },
      "execution_count": null,
      "outputs": []
    },
    {
      "cell_type": "markdown",
      "source": [
        "## Q(9) python program to check if a number is positive,Negative or 0(zero) :-\n",
        "\n",
        "1.   List item\n",
        "2.   List item\n",
        "\n"
      ],
      "metadata": {
        "id": "VyfaTrnUrJLH"
      }
    },
    {
      "cell_type": "markdown",
      "source": [
        "### using conditional statements:"
      ],
      "metadata": {
        "id": "_UGV0iHdrjBH"
      }
    },
    {
      "cell_type": "code",
      "source": [
        "num=12\n",
        "if num>0:\n",
        "  print(\"it is positive number:-\",num)\n",
        "elif num ==0:\n",
        "  print(\"it is Zero number:-\",num)\n",
        "else:\n",
        "  print(\"it is Negative number:-\",num)"
      ],
      "metadata": {
        "id": "Ukt7eUHcquqL"
      },
      "execution_count": null,
      "outputs": []
    },
    {
      "cell_type": "markdown",
      "source": [
        "## Q(10) python program to check if a Number is odd or Even:-\n",
        "\n",
        "---\n",
        "\n"
      ],
      "metadata": {
        "id": "8IFnIIB6tt3h"
      }
    },
    {
      "cell_type": "code",
      "source": [
        "num=int(input(\"enter the number:-\"))\n",
        "if num%2==0:\n",
        "  print(\"This is a even number\",num)\n",
        "else:\n",
        "  print(\"This is odd number\",num)"
      ],
      "metadata": {
        "id": "Qxku64uHtFcq"
      },
      "execution_count": null,
      "outputs": []
    },
    {
      "cell_type": "markdown",
      "source": [
        "##Q(11) python program to check Leap year:-\n",
        "\n"
      ],
      "metadata": {
        "id": "YQoQ1OW8xGkO"
      }
    },
    {
      "cell_type": "markdown",
      "source": [
        "### Normal year: 365\n",
        "### Leap year: 366 ===> once in 4 years"
      ],
      "metadata": {
        "id": "ad6_6x1sxmLi"
      }
    },
    {
      "cell_type": "code",
      "source": [
        "year=int(input(\"enter the year:-\"))\n",
        "if (year % 400 ==0) and (year % 100 ==0):\n",
        "  print(year, \"is a leap year\")\n",
        "elif (year % 4 ==0) and (year % 100 != 0):\n",
        "  print(year,\"is a leap year\")\n",
        "else:\n",
        "  print(year, \":is a normal year\")"
      ],
      "metadata": {
        "id": "hpPWOTwwwusJ"
      },
      "execution_count": null,
      "outputs": []
    },
    {
      "cell_type": "markdown",
      "source": [
        "##Q(12) python program to find the largest Among Three Numbers:-"
      ],
      "metadata": {
        "id": "fAD-OoXk048k"
      }
    },
    {
      "cell_type": "code",
      "source": [
        "num1=45\n",
        "num2=20\n",
        "num3=61\n",
        "if (num1>num2) and (num1>num3):\n",
        "  print(num1,\"is largest number\")\n",
        "elif (num2>num1) and (num2>num3):\n",
        "  print(num2,\"is largest number\")\n",
        "else:\n",
        "  print(num3,\"is largest number\")"
      ],
      "metadata": {
        "id": "DcD1IFTp0MDV"
      },
      "execution_count": null,
      "outputs": []
    },
    {
      "cell_type": "markdown",
      "source": [
        "## Q(13) python program to check prime number:-"
      ],
      "metadata": {
        "id": "hKP5kA1S8Al7"
      }
    },
    {
      "cell_type": "code",
      "source": [
        "num=int(input(\"enter a number here: \"))\n",
        "if num == 1:\n",
        "  print(\"it is not a prime number\")\n",
        "if num>1:\n",
        "  for i in range(2,num):\n",
        "    if num % i == 0:\n",
        "      print(\"it is also not a prime number\")\n",
        "      break\n",
        "  else:\n",
        "       print(\"it is a prime number\")"
      ],
      "metadata": {
        "id": "-ol4mac97oXi"
      },
      "execution_count": null,
      "outputs": []
    },
    {
      "cell_type": "code",
      "source": [
        "num1=int(input(\"enter the number:\"))\n",
        "if num1 ==1:\n",
        "  print(\"not prime\")\n",
        "if num1>1:\n",
        "  for i in range(2,num1):\n",
        "    if num1 % i== 0:\n",
        "        print(\"not prime\")\n",
        "        break\n",
        "  else:\n",
        "         print(\"prime\")"
      ],
      "metadata": {
        "id": "W1oi6i1SAbnm"
      },
      "execution_count": null,
      "outputs": []
    },
    {
      "cell_type": "markdown",
      "source": [
        "##Q(14) python program to print all prime number in an interval:-\n",
        "\n",
        "---\n",
        "\n"
      ],
      "metadata": {
        "id": "dv08nbNbCTdv"
      }
    },
    {
      "cell_type": "code",
      "source": [
        "lower=int(input(\"enter a lower limit:-\"))\n",
        "upper=int(input(\"enter a upper limit:-\"))\n",
        "for num in range(lower,upper+1):\n",
        "  if num>1:\n",
        "    for i in range(2,num):\n",
        "      if num%i==0:\n",
        "        break\n",
        "    else:\n",
        "      print(num)"
      ],
      "metadata": {
        "id": "JSqP5pAvBpG6"
      },
      "execution_count": null,
      "outputs": []
    },
    {
      "cell_type": "code",
      "source": [
        "l=int(input(\"enter lower no:-\"))\n",
        "u=int(input(\"enter upper no:-\"))\n",
        "for n in range(l,u+1):\n",
        "  if n>1:\n",
        "    for i in range(2,num):\n",
        "      if n%i==0:\n",
        "        break\n",
        "    else:\n",
        "      print(n)\n",
        "      "
      ],
      "metadata": {
        "id": "WyH4Ivxf32ws"
      },
      "execution_count": null,
      "outputs": []
    },
    {
      "cell_type": "markdown",
      "source": [
        "##Q(15) python program to find the factorial of a number:-\n",
        "\n",
        "> Indented block\n",
        "\n",
        "> Indented block\n",
        "\n",
        "\n",
        "\n"
      ],
      "metadata": {
        "id": "4CBQ4BD26fSZ"
      }
    },
    {
      "cell_type": "markdown",
      "source": [
        "###(1) using for loop:-"
      ],
      "metadata": {
        "id": "HE7OJyjf_ol5"
      }
    },
    {
      "cell_type": "code",
      "source": [
        "num=int(input(\"enter the no:-\"))\n",
        "fact=1\n",
        "if num<0:\n",
        "  print(\"The factorial does not exist\")\n",
        "if num==0:\n",
        "  print(\"The factorial of 0 is\",1)\n",
        "if num>0:\n",
        "  for i in range(1,num+1):\n",
        "    fact=fact*i\n",
        "print(\"The factorial of the given no is:-\",fact)"
      ],
      "metadata": {
        "id": "vPw93fKe5a9y"
      },
      "execution_count": null,
      "outputs": []
    },
    {
      "cell_type": "code",
      "source": [
        "n=int(input(\"enter the no:-\"))\n",
        "f=1\n",
        "if n<0:\n",
        "  print(\"factorial does not exixt\")\n",
        "if n==0:\n",
        "  print(\"factorial o is\",1)\n",
        "if n>0:\n",
        "  for j in range(1,n+1):\n",
        "    f=f*j\n",
        "print(\"the factorial is :-\",f)"
      ],
      "metadata": {
        "id": "iZg2miG7-AMZ"
      },
      "execution_count": null,
      "outputs": []
    },
    {
      "cell_type": "markdown",
      "source": [
        "###(2) using Recursion:-function ke ander fanction ko call krana recursion hota \n",
        "\n",
        "*   List item\n",
        "*   List item\n",
        "\n",
        "h"
      ],
      "metadata": {
        "id": "UpBrQm2g_wbz"
      }
    },
    {
      "cell_type": "code",
      "source": [
        "def fact(a):\n",
        "  if a==0:\n",
        "    return 1\n",
        "  else:\n",
        "    return ((a)*fact(a-1))\n",
        "num =int(input(\"enter a number here:\"))\n",
        "result=fact(num)\n",
        "print(\"the factorial is given no is:\",result)"
      ],
      "metadata": {
        "id": "tOS5ZNHl_hRQ"
      },
      "execution_count": null,
      "outputs": []
    },
    {
      "cell_type": "code",
      "source": [
        "def fact(x):\n",
        "  if x==0:\n",
        "    return 1\n",
        "  else:\n",
        "    return ((x)*fact(x-1))\n",
        "n=int(input(\"enter a number here:-\"))\n",
        "r=fact(n)\n",
        "print(\"the factorial no is:\",r)\n"
      ],
      "metadata": {
        "id": "ba2SaK6kCWgY"
      },
      "execution_count": null,
      "outputs": []
    },
    {
      "cell_type": "markdown",
      "source": [
        "##Q(16) python program to display the multiplication Table:-\n",
        "\n",
        "> Indented block\n",
        "\n"
      ],
      "metadata": {
        "id": "dUad7fJ7ErUx"
      }
    },
    {
      "cell_type": "markdown",
      "source": [
        "###(1) with for loop:-"
      ],
      "metadata": {
        "id": "ZWoAP4P2GAnX"
      }
    },
    {
      "cell_type": "code",
      "source": [
        "n=int(input(\"enter a number here:-\"))\n",
        "for i in range(1,11):\n",
        "  print (n,\"*\",i ,\"=\",n*i) "
      ],
      "metadata": {
        "id": "U7zSA8GfENct"
      },
      "execution_count": null,
      "outputs": []
    },
    {
      "cell_type": "code",
      "source": [
        "n=7\n",
        "for i in range(1,15):\n",
        "  print(n,\"x\",i,\"=\",n*i)"
      ],
      "metadata": {
        "id": "xHKMr8fcHH9d"
      },
      "execution_count": null,
      "outputs": []
    },
    {
      "cell_type": "markdown",
      "source": [
        "\n",
        "\n",
        "```\n",
        "# This is formatted as code\n",
        "```\n",
        "\n",
        "###(2) with while loop:-"
      ],
      "metadata": {
        "id": "ERnT2Z5mG_aD"
      }
    },
    {
      "cell_type": "code",
      "source": [
        "n=17\n",
        "i=0\n",
        "while i<=10:\n",
        "  print(n,\"X\",i,\"=\",n*i)\n",
        "  i+=1                        # (i=i+1)"
      ],
      "metadata": {
        "id": "xeaXEWo9G-tC"
      },
      "execution_count": null,
      "outputs": []
    },
    {
      "cell_type": "code",
      "source": [
        "n=int(input(\"enter the no:-\"))\n",
        "i=2\n",
        "while i<=11:\n",
        "  print(n,\"*\",i,\"=\",n*i)\n",
        "  i=i+1\n"
      ],
      "metadata": {
        "id": "IuiVwa3OKQQU"
      },
      "execution_count": null,
      "outputs": []
    },
    {
      "cell_type": "markdown",
      "source": [
        "##Q(17) python program to print the Fibonacci sequence:-\n",
        "\n",
        "> Indented block\n",
        "\n"
      ],
      "metadata": {
        "id": "toOHqfn9J8eb"
      }
    },
    {
      "cell_type": "code",
      "source": [
        "a=0\n",
        "b=1\n",
        "num=int(input(\"enter a no:-\"))\n",
        "if num==1:\n",
        "  print(a)\n",
        "else:\n",
        "  print(a)\n",
        "  print(b)\n",
        "  for i in range(1,num+1):\n",
        "    c=a+b\n",
        "    a=b\n",
        "    b=c\n",
        "    print(c)"
      ],
      "metadata": {
        "id": "TItxHLNdJOXK"
      },
      "execution_count": null,
      "outputs": []
    },
    {
      "cell_type": "code",
      "source": [
        "x=0\n",
        "y=1\n",
        "n=7\n",
        "for i in range(1,n+1):\n",
        "  z=x+y\n",
        "  x=y\n",
        "  y=z\n",
        "  print(z,end=\" \")\n"
      ],
      "metadata": {
        "id": "eO0x9ppzM86l"
      },
      "execution_count": null,
      "outputs": []
    },
    {
      "cell_type": "markdown",
      "source": [
        "##Q(18) python program to check Armstrong Number:-\n",
        "\n",
        "> Indented block\n",
        "\n"
      ],
      "metadata": {
        "id": "mIskOskeONm5"
      }
    },
    {
      "cell_type": "code",
      "source": [
        "num=int(input(\"enter a number here:-\"))\n",
        "sum=0\n",
        "temp=num\n",
        "while temp>0:\n",
        "  digit=temp%10\n",
        "  cube=digit ** 3\n",
        "  sum=sum+cube\n",
        "  temp//=10\n",
        "if sum==num:\n",
        "  print(\"it is an armstrong number\")\n",
        "else:\n",
        "  print(\"it is not an armstrong number\")\n"
      ],
      "metadata": {
        "id": "SvYOuFHXSwQo"
      },
      "execution_count": null,
      "outputs": []
    },
    {
      "cell_type": "code",
      "source": [
        "num=int(input(\"enter a number here: \"))\n",
        "order = len(str(num))\n",
        "sum=0\n",
        "temp=num\n",
        "while temp>0:\n",
        "  digit=temp%10\n",
        "  sum+=digit**order\n",
        "  temp//=10\n",
        "if sum==num:\n",
        "  print(\"Armstrong No\")\n",
        "else:\n",
        "  print(\"Not Armstrong No\")"
      ],
      "metadata": {
        "id": "x_H02DJKdcaC"
      },
      "execution_count": null,
      "outputs": []
    },
    {
      "cell_type": "markdown",
      "source": [
        "##Q(19) Python program to find Armstrong Number in an Interval:-\n",
        "\n",
        "> Indented block\n",
        "\n"
      ],
      "metadata": {
        "id": "2-bDvbVag7Ad"
      }
    },
    {
      "cell_type": "code",
      "source": [
        "lower=int(input(\"enter a lower number:-\"))\n",
        "upper=int(input(\"enter a upper number:-\"))\n",
        "\n",
        "for num in range(lower,upper+1):\n",
        "  order=len(str(num))\n",
        "  sum=0\n",
        "  temp=num\n",
        "  while temp>0:\n",
        "    digit=temp%10\n",
        "    sum+=digit**order\n",
        "    temp//=10\n",
        "  if sum== num:\n",
        "    print(num)\n",
        "  \n"
      ],
      "metadata": {
        "id": "9y6gOFGlgvw1"
      },
      "execution_count": null,
      "outputs": []
    },
    {
      "cell_type": "code",
      "source": [
        "l=int(input(\"enter a lower no:-\"))\n",
        "u=int(input(\"enter a upper no:-\"))\n",
        "\n",
        "for num in range(l,u+1):\n",
        "  order=len(str(num))\n",
        "  sum=0\n",
        "  temp=num\n",
        "  while temp>0:\n",
        "    digit=temp%10\n",
        "    sum+= digit**order\n",
        "    temp//=10\n",
        "  if sum==num:\n",
        "    print(\"Armstrong no:\",num)\n",
        "\n"
      ],
      "metadata": {
        "id": "FdIDrGh83uXN"
      },
      "execution_count": null,
      "outputs": []
    },
    {
      "cell_type": "markdown",
      "source": [
        "##Q(20) python program to find the sum of Natural Numbers:- positive integers \n",
        "\n",
        "*   List item\n",
        "*   List item\n",
        "\n",
        "is natural no (0 to infinite)"
      ],
      "metadata": {
        "id": "NFrAzvxT6GFQ"
      }
    },
    {
      "cell_type": "code",
      "source": [
        "num=int(input(\"enter a number here:- \"))\n",
        "\n",
        "if num<0:                                        # (6= 6+5+4+3+2+1===>>21)\n",
        "  print(\"please enter a positive no\")\n",
        "else:\n",
        "  sum=0\n",
        "  while num>0:\n",
        "    sum+=num\n",
        "    num-=1\n",
        "  print(\"sum of natural no\",sum)"
      ],
      "metadata": {
        "id": "FPrXmtde5ZWH"
      },
      "execution_count": null,
      "outputs": []
    },
    {
      "cell_type": "markdown",
      "source": [
        "##Q(21) python program to Display power of 2 using Anonymous Function/lambda function (for using tempary function):-\n",
        "###(a) map==(har function ke uper itraible ko lga ke dega),(b) list==(list format me likhne ke liye)"
      ],
      "metadata": {
        "id": "Q4lGc7Qu9tLS"
      }
    },
    {
      "cell_type": "markdown",
      "source": [
        "### using list,tuple,map,lambda function and range:-"
      ],
      "metadata": {
        "id": "SPWfJexsFCpk"
      }
    },
    {
      "cell_type": "code",
      "source": [
        "nterms= int(input(\"enter a number of terms here:-\"))\n",
        "\n",
        "result=list(map(lambda x: 2 ** x,range(nterms+1)))\n",
        "print(result)"
      ],
      "metadata": {
        "id": "Q_TBlJzX9L4w"
      },
      "execution_count": null,
      "outputs": []
    },
    {
      "cell_type": "code",
      "source": [
        "n=int(input(\"enter a no:=\"))\n",
        "r=list(map(lambda x: 3** x, range(n+1)))\n",
        "print(r)"
      ],
      "metadata": {
        "id": "_LnQifgdBA5u"
      },
      "execution_count": null,
      "outputs": []
    },
    {
      "cell_type": "code",
      "source": [
        "n=10\n",
        "r=tuple(map(lambda x: 5 ** x,range(n+1)))\n",
        "print(r)"
      ],
      "metadata": {
        "id": "4VFwBq0MBbNe"
      },
      "execution_count": null,
      "outputs": []
    },
    {
      "cell_type": "markdown",
      "source": [
        "### using for loop:-"
      ],
      "metadata": {
        "id": "c_gcV-PxE89o"
      }
    },
    {
      "cell_type": "code",
      "source": [
        "nterms=int(input(\"enter a number of terms:-\"))\n",
        "for i in range(nterms+1):\n",
        "  print(\"the value of 2 raised to power\",i,\"is=>>\",result[i])"
      ],
      "metadata": {
        "id": "0jmDLVqEB8nu"
      },
      "execution_count": null,
      "outputs": []
    },
    {
      "cell_type": "markdown",
      "source": [
        "##Q(22) python program to find Number Divisible by Another Number:-(\n",
        "\n",
        "*   List item\n",
        "*   List item\n",
        "\n"
      ],
      "metadata": {
        "id": "EL9OlZrdETEO"
      }
    },
    {
      "cell_type": "markdown",
      "source": [
        "###(1) for loop & conditional statement:-"
      ],
      "metadata": {
        "id": "0puFH2ZUE0Br"
      }
    },
    {
      "cell_type": "code",
      "source": [
        "print=(\"The numbers divisible ny 13 are:\")\n",
        "for x in range(1,100):\n",
        "   if x%13 == 0:\n",
        "      print(x)"
      ],
      "metadata": {
        "id": "wqR1IkW7GVnF"
      },
      "execution_count": null,
      "outputs": []
    },
    {
      "cell_type": "markdown",
      "source": [
        "### using lambda function(annonymes/tempary function) and filter()=(esse jo jo bhi condition satisfy ho re h use filter karke output la dega:-\n",
        "\n",
        "---\n",
        "\n"
      ],
      "metadata": {
        "id": "O2zs1uZDH3yq"
      }
    },
    {
      "cell_type": "code",
      "source": [
        "l=[39,48,26,98,33,97,87,47]\n",
        "result=list(filter(lambda x:  x % 13 == 0 ,l))\n",
        "print(\"The numbers divisible by 13 are\",result)"
      ],
      "metadata": {
        "id": "7a4SPObxHSzH"
      },
      "execution_count": null,
      "outputs": []
    },
    {
      "cell_type": "markdown",
      "source": [
        "###Q(23) python program to convert Decimal to Binary Octal and Hexadecimal:-"
      ],
      "metadata": {
        "id": "QtpCaK1JLDl5"
      }
    },
    {
      "cell_type": "code",
      "source": [
        "decimal =int(input(\"enter a number here:-\"))\n",
        "print(\"The convertion of decimal number\",decimal,\"is:\")\n",
        "print(bin(decimal),\"in binary\")\n",
        "print(oct (decimal),\"in octal\")\n",
        "print(hex(decimal),\"in hexadecimal\")"
      ],
      "metadata": {
        "id": "IqbrED0kK25S"
      },
      "execution_count": null,
      "outputs": []
    },
    {
      "cell_type": "code",
      "source": [
        "num=int(input(\"enter a number here:- \"))\n",
        "if num==13:\n",
        "  print(\"Foo\")\n",
        "elif num==35:\n",
        "  print(\"Bar\")\n",
        "elif (num==13 and num==35):\n",
        "  print(\"Foor Bar\")\n",
        "else:\n",
        "  print(\"\")"
      ],
      "metadata": {
        "id": "AJouxqvlWsUl",
        "colab": {
          "base_uri": "https://localhost:8080/"
        },
        "outputId": "581e2a13-2fb1-408f-ff2f-4f0a7c829499"
      },
      "execution_count": null,
      "outputs": [
        {
          "output_type": "stream",
          "name": "stdout",
          "text": [
            "enter a number here:- 13\n",
            "Foo\n"
          ]
        }
      ]
    },
    {
      "cell_type": "code",
      "source": [],
      "metadata": {
        "id": "Z0so0Ck1oGoL"
      },
      "execution_count": null,
      "outputs": []
    }
  ]
}