{
 "cells": [
  {
   "cell_type": "code",
   "execution_count": 1,
   "metadata": {},
   "outputs": [
    {
     "name": "stdout",
     "output_type": "stream",
     "text": [
      "hellow Unireach Internship\n"
     ]
    }
   ],
   "source": [
    "print(\"hellow Unireach Internship\")"
   ]
  },
  {
   "cell_type": "markdown",
   "metadata": {},
   "source": [
    "# Shift+Enter"
   ]
  },
  {
   "cell_type": "code",
   "execution_count": 3,
   "metadata": {},
   "outputs": [
    {
     "name": "stdout",
     "output_type": "stream",
     "text": [
      "hellow Unireach Internship\n"
     ]
    }
   ],
   "source": [
    "print(\"hellow Unireach Internship\")"
   ]
  },
  {
   "cell_type": "markdown",
   "metadata": {},
   "source": [
    "# Control+enter"
   ]
  },
  {
   "cell_type": "markdown",
   "metadata": {},
   "source": [
    "# welcome to Unireach Technologies"
   ]
  },
  {
   "cell_type": "markdown",
   "metadata": {},
   "source": [
    "# Types of Comment"
   ]
  },
  {
   "cell_type": "markdown",
   "metadata": {},
   "source": [
    "# Two Types of Comment\n",
    "1) single line comment -----------------> (#)\n",
    "2) Multi line comment  -----------------> (\"\"\"...................\"\"\")"
   ]
  },
  {
   "cell_type": "code",
   "execution_count": 8,
   "metadata": {},
   "outputs": [],
   "source": [
    "#print(\"hello Unireach\")"
   ]
  },
  {
   "cell_type": "code",
   "execution_count": 9,
   "metadata": {},
   "outputs": [
    {
     "data": {
      "text/plain": [
       "'pri(\"hello Unireach\")\\nprint(\"hello Unireach\")\\npri(\"hello Unireach\")\\npri(\"hello Unireach\")'"
      ]
     },
     "execution_count": 9,
     "metadata": {},
     "output_type": "execute_result"
    }
   ],
   "source": [
    "\"\"\"pri(\"hello Unireach\")\n",
    "print(\"hello Unireach\")\n",
    "pri(\"hello Unireach\")\n",
    "pri(\"hello Unireach\")\"\"\""
   ]
  },
  {
   "cell_type": "markdown",
   "metadata": {},
   "source": [
    "# Basic function"
   ]
  },
  {
   "cell_type": "code",
   "execution_count": 11,
   "metadata": {},
   "outputs": [
    {
     "name": "stdout",
     "output_type": "stream",
     "text": [
      "10\n",
      "<class 'int'>\n"
     ]
    }
   ],
   "source": [
    "a=10\n",
    "print(a)\n",
    "print(type(a))"
   ]
  },
  {
   "cell_type": "code",
   "execution_count": 12,
   "metadata": {},
   "outputs": [],
   "source": [
    "b=\"python\"\n",
    "c = 10.78"
   ]
  },
  {
   "cell_type": "code",
   "execution_count": 13,
   "metadata": {},
   "outputs": [
    {
     "name": "stdout",
     "output_type": "stream",
     "text": [
      "<class 'str'>\n",
      "<class 'float'>\n"
     ]
    }
   ],
   "source": [
    "print(type(b))\n",
    "print(type(c))"
   ]
  },
  {
   "cell_type": "markdown",
   "metadata": {},
   "source": [
    "#  for User input"
   ]
  },
  {
   "cell_type": "code",
   "execution_count": null,
   "metadata": {},
   "outputs": [],
   "source": [
    "a=input(\"Enter your value:  \")\n",
    "print(a)"
   ]
  },
  {
   "cell_type": "markdown",
   "metadata": {},
   "source": [
    "# Keywords in python"
   ]
  },
  {
   "cell_type": "code",
   "execution_count": null,
   "metadata": {},
   "outputs": [],
   "source": [
    "help(\"keywords\")"
   ]
  },
  {
   "cell_type": "code",
   "execution_count": null,
   "metadata": {},
   "outputs": [],
   "source": [
    "a1=7\n",
    "print(a1)"
   ]
  },
  {
   "cell_type": "markdown",
   "metadata": {},
   "source": [
    "# Data Types"
   ]
  },
  {
   "cell_type": "markdown",
   "metadata": {},
   "source": [
    "## 1 Numeric\n",
    "### Integer, Complex, Float\n",
    "## 2 Sequence\n",
    "### List, String,Tuple\n",
    "## 3 Set\n",
    "## 4 Bolean\n",
    "## 5 Dictionary"
   ]
  },
  {
   "cell_type": "markdown",
   "metadata": {},
   "source": [
    "# numeric Datatype"
   ]
  },
  {
   "cell_type": "code",
   "execution_count": null,
   "metadata": {},
   "outputs": [],
   "source": [
    "# int Datatype\n",
    "g=50\n",
    "print(g)\n",
    "print(type(g))"
   ]
  },
  {
   "cell_type": "code",
   "execution_count": null,
   "metadata": {},
   "outputs": [],
   "source": [
    "# Float Datatype\n",
    "b=50.7\n",
    "print(b)\n",
    "print(type(b))"
   ]
  },
  {
   "cell_type": "code",
   "execution_count": null,
   "metadata": {},
   "outputs": [],
   "source": [
    "# Complex Data Types\n",
    "c=6+8j\n",
    "print(c)\n",
    "print(type(c))"
   ]
  },
  {
   "cell_type": "code",
   "execution_count": null,
   "metadata": {},
   "outputs": [],
   "source": [
    "# Boolean Data types\n",
    "b= True\n",
    "print(b)\n",
    "print(type(b))"
   ]
  },
  {
   "cell_type": "code",
   "execution_count": null,
   "metadata": {},
   "outputs": [],
   "source": [
    "# set Data Types\n",
    "f={'a','5.7',8,'7.9'}\n",
    "print(f)\n",
    "print(type(f))"
   ]
  },
  {
   "cell_type": "code",
   "execution_count": null,
   "metadata": {},
   "outputs": [],
   "source": [
    "# Dictionary Data types\n",
    "x={}\n",
    "print(type(x))"
   ]
  },
  {
   "cell_type": "code",
   "execution_count": null,
   "metadata": {},
   "outputs": [],
   "source": [
    "x={\"key\":\"value\"}\n",
    "print(x)"
   ]
  },
  {
   "cell_type": "code",
   "execution_count": null,
   "metadata": {},
   "outputs": [],
   "source": [
    "x={\"name\":\"girish\"}\n",
    "print(x)"
   ]
  },
  {
   "cell_type": "markdown",
   "metadata": {},
   "source": [
    "# Sequence Data type"
   ]
  },
  {
   "cell_type": "code",
   "execution_count": null,
   "metadata": {},
   "outputs": [],
   "source": [
    "# String Data Types\n",
    "y=\"Python Program\"\n",
    "print(y)\n",
    "print(type(y))"
   ]
  },
  {
   "cell_type": "code",
   "execution_count": null,
   "metadata": {},
   "outputs": [],
   "source": [
    "# List Data Types\n",
    "l=[1,2,3,4,5,6]\n",
    "print(l)\n",
    "print(type(l))"
   ]
  },
  {
   "cell_type": "code",
   "execution_count": null,
   "metadata": {},
   "outputs": [],
   "source": [
    "# Tuple Data types\n",
    "t=('1',2,3,4,5)\n",
    "print(type(t))\n",
    "print(t)"
   ]
  },
  {
   "cell_type": "markdown",
   "metadata": {},
   "source": [
    "# Operators"
   ]
  },
  {
   "cell_type": "markdown",
   "metadata": {},
   "source": [
    "### Operators are used to perform Operatinal variable and values in python"
   ]
  },
  {
   "cell_type": "markdown",
   "metadata": {},
   "source": [
    "## Types of Operator\n",
    "* Arithmatic Operator\n",
    "* Assignment\n",
    "* Comparison\n",
    "* Logical\n",
    "* Identity\n",
    "* Membership"
   ]
  },
  {
   "cell_type": "markdown",
   "metadata": {},
   "source": [
    "## Arithematic Operator"
   ]
  },
  {
   "cell_type": "code",
   "execution_count": null,
   "metadata": {},
   "outputs": [],
   "source": [
    "# Addition Operator\n",
    "x=47\n",
    "y=72\n",
    "c=x+y\n",
    "print(x+y)\n",
    "print(c)"
   ]
  },
  {
   "cell_type": "code",
   "execution_count": null,
   "metadata": {},
   "outputs": [],
   "source": [
    "# Subtraction Operator\n",
    "a=76\n",
    "b=64\n",
    "c=a-b\n",
    "print(a-b)\n",
    "print(\"Subtracting the value: \",c)"
   ]
  },
  {
   "cell_type": "code",
   "execution_count": null,
   "metadata": {},
   "outputs": [],
   "source": [
    "# Multiplication Operator\n",
    "d=40\n",
    "n=70\n",
    "g=d*n\n",
    "print(d*n)\n",
    "print(g)"
   ]
  },
  {
   "cell_type": "code",
   "execution_count": null,
   "metadata": {},
   "outputs": [],
   "source": [
    "# Division \n",
    "a=999\n",
    "b=77\n",
    "c=a/b\n",
    "print(c)"
   ]
  },
  {
   "cell_type": "code",
   "execution_count": null,
   "metadata": {},
   "outputs": [],
   "source": [
    "# Double Division\n",
    "a=999\n",
    "b=77\n",
    "c=a//b\n",
    "print(c)"
   ]
  },
  {
   "cell_type": "code",
   "execution_count": null,
   "metadata": {},
   "outputs": [],
   "source": [
    "# Modulo Division %\n",
    "a=41\n",
    "b=5\n",
    "c=a%b\n",
    "print(c)"
   ]
  },
  {
   "cell_type": "code",
   "execution_count": null,
   "metadata": {},
   "outputs": [],
   "source": [
    "# Exponent Operator **\n",
    "a=5\n",
    "b=3\n",
    "print(a**b)\n"
   ]
  },
  {
   "cell_type": "markdown",
   "metadata": {},
   "source": [
    "# Comparison Operator"
   ]
  },
  {
   "cell_type": "code",
   "execution_count": null,
   "metadata": {},
   "outputs": [],
   "source": [
    "# Greater Then\n",
    "a=21\n",
    "b=10\n",
    "print(a>b)"
   ]
  },
  {
   "cell_type": "code",
   "execution_count": null,
   "metadata": {},
   "outputs": [],
   "source": [
    "# Less then\n",
    "print(a<b)"
   ]
  },
  {
   "cell_type": "code",
   "execution_count": null,
   "metadata": {},
   "outputs": [],
   "source": [
    "# Equality Check ==\n",
    "a=21\n",
    "b=10\n",
    "if (a == b):\n",
    "    print(\"a is Equal to b\")\n",
    "else:\n",
    "    print(\"a is not Equal to b\")"
   ]
  },
  {
   "cell_type": "code",
   "execution_count": null,
   "metadata": {},
   "outputs": [],
   "source": [
    "# Taking Value by user input\n",
    "a=int(input(\"Enter First Value: \"))\n",
    "b=int(input(\"Enter Second Value: \"))\n",
    "if (a == b):\n",
    "    print(\"a is Equal to b\")\n",
    "else:\n",
    "    print(\"a is not Equal to b\")"
   ]
  },
  {
   "cell_type": "code",
   "execution_count": null,
   "metadata": {},
   "outputs": [],
   "source": [
    "# Take the value from user and check the is less than or not\n",
    "a=int(input(\"Enter First Value: \"))\n",
    "b=int(input(\"Enter Second Value: \"))\n",
    "if (a < b):\n",
    "    print(\"a is Less Than b\")\n",
    "else:\n",
    "    print(\"a is not Less Than b\")"
   ]
  },
  {
   "cell_type": "code",
   "execution_count": null,
   "metadata": {},
   "outputs": [],
   "source": [
    "# Take the value from user and check the value is Greater than or not\n",
    "a=int(input(\"Enter First Value: \"))\n",
    "b=int(input(\"Enter Second Value: \"))\n",
    "if (a > b):\n",
    "    print(\"a is greater then b\")\n",
    "else:\n",
    "    print(\"a is not greater then b\")"
   ]
  },
  {
   "cell_type": "code",
   "execution_count": null,
   "metadata": {},
   "outputs": [],
   "source": [
    "# => Greater Then Equal\n",
    "a=int(input(\"Enter First Value: \"))\n",
    "b=int(input(\"Enter Second Value: \"))\n",
    "if (a >= b):\n",
    "    print(\"a is greater then or Equal to b\")\n",
    "else:\n",
    "    print(\"a is neither less than nor equal to b\")"
   ]
  },
  {
   "cell_type": "code",
   "execution_count": null,
   "metadata": {},
   "outputs": [],
   "source": [
    "# =<"
   ]
  },
  {
   "cell_type": "code",
   "execution_count": null,
   "metadata": {},
   "outputs": [],
   "source": [
    "# != not equal operator\n",
    "a=int(input(\"Enter First Value: \"))\n",
    "b=int(input(\"Enter Second Value: \"))\n",
    "if (a != b):\n",
    "    print(\"a is not equal to b\")\n",
    "else:\n",
    "    print(\"a is equal to b\")"
   ]
  },
  {
   "cell_type": "markdown",
   "metadata": {},
   "source": [
    "# Assignment Operator"
   ]
  },
  {
   "cell_type": "code",
   "execution_count": null,
   "metadata": {},
   "outputs": [],
   "source": [
    "#                    =, +=, *=, /=, **=, //=, %=\n",
    "a=40\n",
    "b=60\n",
    "c=a+b\n",
    "print(\"value of c is \",c)\n",
    "\n",
    "c += a\n",
    "print(\"value of c is \",c)\n",
    "\n",
    "c *= a\n",
    "print(\"value of c is \",c)\n",
    "\n",
    "c /= a\n",
    "print(\"value of c is \",c)"
   ]
  },
  {
   "cell_type": "code",
   "execution_count": null,
   "metadata": {},
   "outputs": [],
   "source": [
    "c=2\n",
    "a=4\n",
    "print(\"value of c is \",c)\n",
    "\n",
    "c**=a\n",
    "print(\"value of c is \",c)\n",
    "c //=a\n",
    "print(\"value of c is \",c)\n",
    "\n",
    "c %= a\n",
    "print(\"value of c is \",c)"
   ]
  },
  {
   "cell_type": "markdown",
   "metadata": {},
   "source": [
    "# Logical Operator\n",
    "* AND\n",
    "* OR\n",
    "* NOT"
   ]
  },
  {
   "cell_type": "code",
   "execution_count": 10,
   "metadata": {},
   "outputs": [
    {
     "name": "stdout",
     "output_type": "stream",
     "text": [
      "Both 'a' and 'b' !=0\n"
     ]
    }
   ],
   "source": [
    "# And Operator\n",
    "a=34\n",
    "b=45\n",
    "if (a and b):\n",
    "    print(\"Both 'a' and 'b' !=0\")\n",
    "else:\n",
    "    print(\"Either a or b or both are =0\")"
   ]
  },
  {
   "cell_type": "code",
   "execution_count": null,
   "metadata": {},
   "outputs": [],
   "source": [
    "# Or\n",
    "a=int(input(\"Enter the fist number :\"))\n",
    "b=int(input(\"Enter the Second number :\"))\n",
    "if (a or b):\n",
    "    print(\"At least on of a or b is not equal to 0\")\n",
    "else:\n",
    "    print(\"both a and b is equal to 0\")"
   ]
  },
  {
   "cell_type": "code",
   "execution_count": null,
   "metadata": {},
   "outputs": [],
   "source": [
    "# not operator\n",
    "a=int(input(\"Enter the fist number :\"))\n",
    "b=int(input(\"Enter the Second number :\"))\n",
    "if not(a>b):\n",
    "    print (\"a is leass than or equal to b\")\n",
    "else:\n",
    "    print(\"a is greater than b\")"
   ]
  },
  {
   "cell_type": "markdown",
   "metadata": {},
   "source": [
    "# Membership Operator\n",
    "* in\n",
    "* not in"
   ]
  },
  {
   "cell_type": "code",
   "execution_count": null,
   "metadata": {},
   "outputs": [],
   "source": [
    "# in\n",
    "list1 = [30,20,5,6,38,62,95,74]\n",
    "a=6\n",
    "if (a in list1):\n",
    "    print(\"a is available in the given list\")\n",
    "else:\n",
    "    print (\"a is not available in the given list\")\n"
   ]
  },
  {
   "cell_type": "code",
   "execution_count": null,
   "metadata": {},
   "outputs": [],
   "source": [
    "# take value from user and check the value is available in your list or not\n",
    "list1 = [30,20,5,6,38,62,95,74]\n",
    "a=int(input(\"give the number :\"))\n",
    "if (a in list1):\n",
    "    print(\"number is available in the given list\")\n",
    "else:\n",
    "    print (\"number is not available in the given list\")"
   ]
  },
  {
   "cell_type": "code",
   "execution_count": null,
   "metadata": {},
   "outputs": [],
   "source": [
    "# not operator\n",
    "list1 = [30,20,5,6,38,62,95,74]\n",
    "b=int(input(\"give the number :\"))\n",
    "if (b not in list1):\n",
    "    print(\"number is available in the given list\")\n",
    "else:\n",
    "    print (\"number is not available in the given list\")"
   ]
  },
  {
   "cell_type": "code",
   "execution_count": null,
   "metadata": {},
   "outputs": [],
   "source": [
    "x=['Apple','banana','mango','grapps','pineapple']\n",
    "print('banana' in x)\n",
    "print('banana' not in x)"
   ]
  },
  {
   "cell_type": "markdown",
   "metadata": {},
   "source": [
    "# conditional Statement\n",
    "* if\n",
    "* else\n",
    "* elif"
   ]
  },
  {
   "cell_type": "code",
   "execution_count": null,
   "metadata": {},
   "outputs": [],
   "source": [
    "# simple if\n",
    "v=11\n",
    "if (v==10):\n",
    "    print(\"value of variable is 10\")\n",
    "print('bye')"
   ]
  },
  {
   "cell_type": "code",
   "execution_count": null,
   "metadata": {},
   "outputs": [],
   "source": [
    "a=30\n",
    "if(a>=30):\n",
    "    print(\"value of variable is 25\")\n",
    "print(\"bye\")"
   ]
  },
  {
   "cell_type": "code",
   "execution_count": null,
   "metadata": {},
   "outputs": [],
   "source": [
    "# if -else\n",
    "a=int(input(\"enter the value for a :\"))\n",
    "b=int(input('enter the value for b :'))\n",
    "if a<b:\n",
    "    print(\"B is greater than a\")\n",
    "else:\n",
    "    print(\"A is greater than b\")"
   ]
  },
  {
   "cell_type": "code",
   "execution_count": null,
   "metadata": {},
   "outputs": [],
   "source": [
    "# In your college students are getting marks greater than 70 then you have to give the grade A\n",
    "# if student are getting marks greater than 65 or equal to 70 then grade B\n",
    "# if students are getting marks 60 to 65 they will get C grade\n",
    "# 55 to 65 then they will get D grade\n",
    "# or below that fail"
   ]
  },
  {
   "cell_type": "code",
   "execution_count": null,
   "metadata": {},
   "outputs": [],
   "source": [
    "# elif\n",
    "p=int(input(\"Student give your marks here :\"))\n",
    "\n",
    "if p>70:\n",
    "    print(\"A grade or Distantion\")\n",
    "elif p>=65 and p<=70:\n",
    "    print('Grade B')\n",
    "elif p>=60 and p<65:\n",
    "    print(\"C grade\")\n",
    "elif p>=55 and p<60:\n",
    "    print(\"D Grade\")\n",
    "else:\n",
    "    print(\"Fail\")"
   ]
  },
  {
   "cell_type": "code",
   "execution_count": null,
   "metadata": {},
   "outputs": [],
   "source": [
    "# for blood donation campaign is going on so they are finding person who is greater than age 18\n",
    "# and weight is greater than 50\n",
    "# if both age and weight is greater than then they will donate the blood other wise they will not \n",
    "# able to give the blood they have to say under the weight\n",
    "\n",
    "age= int(input(\"enter your age:\"))\n",
    "weg= int(input(\"enter your weight:\"))\n",
    "if age>=18:\n",
    "  if weg>=50:\n",
    "    print(\"blood donate\")\n",
    "  else:\n",
    "    print(\"under weight\")\n",
    "else:\n",
    "  print(\"under age\")"
   ]
  },
  {
   "cell_type": "markdown",
   "metadata": {},
   "source": [
    "# Indexing"
   ]
  },
  {
   "cell_type": "code",
   "execution_count": null,
   "metadata": {},
   "outputs": [],
   "source": [
    "# String\n",
    "str = 'Internship started in Unireach Technology helding by Yogesh'\n",
    "\n",
    "# triple quotes strings can extend multiple lines\n",
    "str2 = \"\"\"Hello, \n",
    "Welcome to the python classes \"\"\""
   ]
  },
  {
   "cell_type": "code",
   "execution_count": null,
   "metadata": {},
   "outputs": [],
   "source": [
    "str2"
   ]
  },
  {
   "cell_type": "code",
   "execution_count": null,
   "metadata": {},
   "outputs": [],
   "source": [
    "# indexing\n",
    "str[9]\n",
    "str[10]\n"
   ]
  },
  {
   "cell_type": "code",
   "execution_count": null,
   "metadata": {},
   "outputs": [],
   "source": [
    "len(str)"
   ]
  },
  {
   "cell_type": "code",
   "execution_count": null,
   "metadata": {},
   "outputs": [],
   "source": [
    "len(str2)"
   ]
  },
  {
   "cell_type": "code",
   "execution_count": null,
   "metadata": {},
   "outputs": [],
   "source": [
    "str[15]"
   ]
  },
  {
   "cell_type": "markdown",
   "metadata": {},
   "source": [
    "# slicing"
   ]
  },
  {
   "cell_type": "code",
   "execution_count": null,
   "metadata": {},
   "outputs": [],
   "source": [
    "str = 'Internship started in Unireach Technology helding by Yogesh'\n",
    "\n",
    "\n",
    "str2 = \"\"\"Hello, \n",
    "Welcome to the python classes \"\"\""
   ]
  },
  {
   "cell_type": "code",
   "execution_count": null,
   "metadata": {},
   "outputs": [],
   "source": [
    "print(str[2:8])\n",
    "print(str[0])\n",
    "print(str[31:42])\n",
    "print(str[31:])\n",
    "print(len(str))\n",
    "print(str[58])\n",
    "print(str[-1])\n",
    "print(str[-3:-1])\n",
    "print(str[-59:])\n",
    "print(str*2)\n",
    "print(str + \" in python\")\n"
   ]
  },
  {
   "cell_type": "code",
   "execution_count": null,
   "metadata": {},
   "outputs": [],
   "source": [
    "# Concetination\n",
    "str = 'Internship started in Unireach Technology helding by Yogesh'\n",
    "\n",
    "\n",
    "str2 = \"\"\"Hello, \n",
    "Welcome to the python classes \"\"\"\n",
    "print(str+str2)"
   ]
  },
  {
   "cell_type": "code",
   "execution_count": null,
   "metadata": {},
   "outputs": [],
   "source": [
    "# List is Mutable\n",
    "list1 = ['abcd',1234,24.6,'pdr',88,90.8]\n",
    "list2 = ['hnd',893,97.6,'7348']\n",
    "print(list1)\n",
    "print(list1[0])\n",
    "print(list1[1])\n",
    "print(list1[-1])\n",
    "print(list1[-5:])\n",
    "print(list1[1:])\n",
    "print(list2 * 3)\n",
    "print(list1 + list2)\n",
    "list1[3]=56\n",
    "print(list1)\n",
    "list2[3]='abcd'\n",
    "list2[-2]=56\n",
    "print(list2)"
   ]
  },
  {
   "cell_type": "code",
   "execution_count": null,
   "metadata": {},
   "outputs": [],
   "source": [
    "# Tuple\n",
    "tuple1 = ('abcd',6747,89.08,'tys',66,44,9)\n",
    "tuple2= (78,'yhnf')\n",
    "print(tuple1)\n",
    "print(type(tuple1))\n",
    "print(tuple1[3])\n",
    "print(tuple1[-1])\n",
    "print(tuple1[0])\n",
    "print(tuple1[:4])\n",
    "print(tuple1[2:6])\n",
    "print(tuple1 * 2)\n",
    "print(tuple1 + tuple2)\n"
   ]
  },
  {
   "cell_type": "code",
   "execution_count": null,
   "metadata": {},
   "outputs": [],
   "source": [
    "tuple1 = ('abcd',6747,89.08,'tys',66,44,9)\n",
    "tuple2= (78,'yhnf')\n",
    "tuple1[3]=66\n",
    "print(tuple1)\n",
    "# not changing the value why because tuple is immutable"
   ]
  },
  {
   "cell_type": "code",
   "execution_count": null,
   "metadata": {},
   "outputs": [],
   "source": [
    "# Dictionary is Mutable\n",
    "dict1 = {'name':'joy','rollno':1,'study':8}\n",
    "print(dict1)\n",
    "dict2={}\n",
    "dict2['name']='Alpha'\n",
    "dict2['roll_no']=2\n",
    "dict2['study']=9\n",
    "print(dict2)\n",
    "print(dict1['name'])\n",
    "print(dict1['study'])\n",
    "print(dict1.keys())\n",
    "print(dict2.keys())\n",
    "print(dict1.values())\n",
    "print(dict2.values())\n",
    "dict2['name']='Gamma'\n",
    "print(dict2)"
   ]
  },
  {
   "cell_type": "code",
   "execution_count": null,
   "metadata": {},
   "outputs": [],
   "source": [
    "# Create one String/ one List / One Tuple / One Dictionary of values at least 20 in all of these use indexing and slicing"
   ]
  },
  {
   "cell_type": "code",
   "execution_count": null,
   "metadata": {},
   "outputs": [],
   "source": []
  }
 ],
 "metadata": {
  "kernelspec": {
   "display_name": "Python 3 (ipykernel)",
   "language": "python",
   "name": "python3"
  },
  "language_info": {
   "codemirror_mode": {
    "name": "ipython",
    "version": 3
   },
   "file_extension": ".py",
   "mimetype": "text/x-python",
   "name": "python",
   "nbconvert_exporter": "python",
   "pygments_lexer": "ipython3",
   "version": "3.10.7"
  }
 },
 "nbformat": 4,
 "nbformat_minor": 4
}
