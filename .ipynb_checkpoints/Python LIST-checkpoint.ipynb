{
 "cells": [
  {
   "cell_type": "code",
   "execution_count": 10,
   "metadata": {},
   "outputs": [
    {
     "name": "stdout",
     "output_type": "stream",
     "text": [
      "Welcome to\n",
      "Bepec Solutions\n"
     ]
    }
   ],
   "source": [
    "print(\"Welcome to\" ) \n",
    "print(\"Bepec Solutions\")"
   ]
  },
  {
   "cell_type": "code",
   "execution_count": 1,
   "metadata": {},
   "outputs": [],
   "source": [
    "# empty list\n",
    "my_list = []\n",
    "\n",
    "# list of integers\n",
    "prajin = [1, 2, 3]\n",
    "\n",
    "# list with mixed datatypes\n",
    "my_list = [1, \"Hello\", 3.4]\n",
    "\n",
    "# nested list\n",
    "n_list = [\"Happy\", [2,0,1,5]]"
   ]
  },
  {
   "cell_type": "code",
   "execution_count": 2,
   "metadata": {},
   "outputs": [
    {
     "name": "stdout",
     "output_type": "stream",
     "text": [
      "I have 4 items to purchase.\n",
      "These items are: --> apple : mango : carrot : banana : "
     ]
    }
   ],
   "source": [
    "shoplist = ['apple', 'mango', 'carrot', 'banana']\n",
    "print('I have', len(shoplist), 'items to purchase.')\n",
    "\n",
    "print('These items are:', end=' --> ')\n",
    "# print('These items are:')\n",
    "\n",
    "for item in shoplist:\n",
    "    print(item, end=' : ')\n",
    "    #print(item)"
   ]
  },
  {
   "cell_type": "code",
   "execution_count": 13,
   "metadata": {},
   "outputs": [
    {
     "name": "stdout",
     "output_type": "stream",
     "text": [
      "Welcome to ::  Bepec Solutions\n"
     ]
    }
   ],
   "source": [
    "# By default python’s print() function ends with a newline. \n",
    "# how to print without newline.\n",
    "\n",
    "# Python’s print() function comes with a parameter called ‘end’. \n",
    "# By default, the value of this parameter is ‘\\n’, i.e. the new line character. \n",
    "# You can end a print statement with any character/string using this parameter.\n",
    "# ends the output with a <space> \n",
    "print(\"Welcome to\", end = ' :: ' ) \n",
    "print(\" Bepec Solutions\")"
   ]
  },
  {
   "cell_type": "code",
   "execution_count": 14,
   "metadata": {},
   "outputs": [
    {
     "name": "stdout",
     "output_type": "stream",
     "text": [
      "\n",
      "I also have to buy rice.\n",
      "My shopping list is now ['apple', 'mango', 'carrot', 'banana', 'rice']\n",
      "My shopping list is now ['apple', 'mango', 'carrot', 'banana', 'rice', 'table', 'chair', 'pen']\n",
      "My shopping list is now ['apple', 'mango', 'carrot', 'banana', 'rice', 'table', 'chair', 'pen', 'a', 'b', 'c']\n"
     ]
    }
   ],
   "source": [
    "# append to list\n",
    "# add one item to a list using append() method or \n",
    "# add several items using extend()\n",
    "print('\\nI also have to buy rice.')\n",
    "\n",
    "shoplist = ['apple', 'mango', 'carrot', 'banana']\n",
    "\n",
    "shoplist.append('rice')\n",
    "print('My shopping list is now', shoplist)\n",
    "\n",
    "shoplist.extend(['table', 'chair', 'pen'])\n",
    "print('My shopping list is now', shoplist)\n",
    "\n",
    "# use + operator to combine two lists. This is also called concatenation.\n",
    "shoplist1 = ['a', 'b', 'c']\n",
    "\n",
    "shoplist = shoplist + shoplist1\n",
    "print('My shopping list is now', shoplist)\n"
   ]
  },
  {
   "cell_type": "code",
   "execution_count": null,
   "metadata": {},
   "outputs": [],
   "source": []
  },
  {
   "cell_type": "code",
   "execution_count": 15,
   "metadata": {},
   "outputs": [
    {
     "name": "stdout",
     "output_type": "stream",
     "text": [
      "['apple', 'mango', 'carrot', 'banana', 'rice', 'table', 'chair', 'pen', 'a', 'b', 'c']\n"
     ]
    }
   ],
   "source": [
    "print(shoplist)"
   ]
  },
  {
   "cell_type": "code",
   "execution_count": 16,
   "metadata": {},
   "outputs": [
    {
     "name": "stdout",
     "output_type": "stream",
     "text": [
      "apple\n",
      "mango\n",
      "a\n",
      "g\n"
     ]
    }
   ],
   "source": [
    "\n",
    "# accessing a list\n",
    "print(shoplist[0])\n",
    "print(shoplist[1])\n",
    "\n",
    "print(shoplist[2][1])    \n",
    "\n",
    "print(shoplist[1][3])"
   ]
  },
  {
   "cell_type": "code",
   "execution_count": 17,
   "metadata": {},
   "outputs": [
    {
     "name": "stdout",
     "output_type": "stream",
     "text": [
      "c\n",
      "chair\n"
     ]
    }
   ],
   "source": [
    "# Negative indexing\n",
    "# Python allows negative indexing for its sequences. \n",
    "# The index of -1 refers to the last item, -2 to the second last item and so on.\n",
    "print(shoplist[-1])\n",
    "print(shoplist[-5])"
   ]
  },
  {
   "cell_type": "code",
   "execution_count": 18,
   "metadata": {},
   "outputs": [
    {
     "name": "stdout",
     "output_type": "stream",
     "text": [
      "['apple', 'mango', 'carrot', 'banana', 'rice', 'table', 'chair', 'pen', 'a', 'b', 'c']\n"
     ]
    }
   ],
   "source": [
    "print(shoplist)"
   ]
  },
  {
   "cell_type": "code",
   "execution_count": 19,
   "metadata": {},
   "outputs": [
    {
     "name": "stdout",
     "output_type": "stream",
     "text": [
      "['apple', 'mango', 'carrot']\n",
      "['carrot', 'banana', 'rice', 'table', 'chair', 'pen', 'a', 'b', 'c']\n",
      "['apple', 'mango', 'carrot', 'banana', 'rice', 'table', 'chair', 'pen', 'a', 'b', 'c']\n"
     ]
    }
   ],
   "source": [
    "# slice lists \n",
    "# elements beginning to 3rd\n",
    "print(shoplist[:3])\n",
    "\n",
    "# elements 2nd to end\n",
    "print(shoplist[2:])\n",
    "\n",
    "# elements beginning to end\n",
    "print(shoplist[:])"
   ]
  },
  {
   "cell_type": "code",
   "execution_count": 20,
   "metadata": {},
   "outputs": [
    {
     "name": "stdout",
     "output_type": "stream",
     "text": [
      "I will sort my list now\n",
      "Sorted shopping list is ['a', 'apple', 'b', 'banana', 'c', 'carrot', 'chair', 'mango', 'pen', 'rice', 'table']\n"
     ]
    }
   ],
   "source": [
    "# sort the list\n",
    "print('I will sort my list now')\n",
    "shoplist.sort()\n",
    "\n",
    "print('Sorted shopping list is', shoplist)\n"
   ]
  },
  {
   "cell_type": "code",
   "execution_count": 21,
   "metadata": {},
   "outputs": [
    {
     "name": "stdout",
     "output_type": "stream",
     "text": [
      "['a', 'new item', 'b', 'banana', 'c', 'carrot', 'chair', 'mango', 'pen', 'rice', 'table']\n"
     ]
    }
   ],
   "source": [
    "# make changes to list\n",
    "shoplist[1] = \"new item\"\n",
    "print(shoplist[:])"
   ]
  },
  {
   "cell_type": "code",
   "execution_count": 22,
   "metadata": {
    "scrolled": true
   },
   "outputs": [
    {
     "name": "stdout",
     "output_type": "stream",
     "text": [
      "The first item I will buy is a\n",
      "I bought the a\n",
      "My shopping list is now ['new item', 'b', 'banana', 'c', 'carrot', 'chair', 'mango', 'pen', 'rice', 'table']\n"
     ]
    }
   ],
   "source": [
    "# delete a list item\n",
    "print('The first item I will buy is', shoplist[0])\n",
    "olditem = shoplist[0]\n",
    "\n",
    "del shoplist[0]\n",
    "print('I bought the', olditem)\n",
    "print('My shopping list is now', shoplist)"
   ]
  },
  {
   "cell_type": "code",
   "execution_count": 23,
   "metadata": {},
   "outputs": [],
   "source": [
    "# Remove method: takes a value as input, searches for it, \n",
    "# removes the first match. If the item is not found it errors out\n",
    "\n",
    "# del function: removes an item at a specific index, can delete all elements or a slice\n",
    "# pop method: by default, it removes and returns the last element but you \n",
    "# can pop any element by providing an index"
   ]
  },
  {
   "cell_type": "code",
   "execution_count": 24,
   "metadata": {},
   "outputs": [
    {
     "name": "stdout",
     "output_type": "stream",
     "text": [
      "Example 1 : A = [1, 2, 3, 4]\n"
     ]
    }
   ],
   "source": [
    "A = [1, 2, 4, 3, 4]\n",
    "A.remove(4)\n",
    "\n",
    "# This will print [1, 2, 3, 4]\n",
    "print(\"Example 1 : A = {}\".format(A))"
   ]
  },
  {
   "cell_type": "code",
   "execution_count": 25,
   "metadata": {},
   "outputs": [
    {
     "name": "stdout",
     "output_type": "stream",
     "text": [
      "Example 2 : A = [1, 2, 3, 4]\n"
     ]
    }
   ],
   "source": [
    "# (2) Delete an item with index\n",
    "A = [1, 2, 4, 3, 4]\n",
    "del A[2]\n",
    "\n",
    "# This will print [1, 2, 3, 4]\n",
    "print(\"Example 2 : A = {}\".format(A))"
   ]
  },
  {
   "cell_type": "code",
   "execution_count": 26,
   "metadata": {},
   "outputs": [
    {
     "name": "stdout",
     "output_type": "stream",
     "text": [
      "Example 3 : A = []\n"
     ]
    }
   ],
   "source": [
    "# (3) Delete all items\n",
    "A = [1, 2, 4, 3, 4]\n",
    "del A[:]\n",
    "\n",
    "# This will print []\n",
    "print(\"Example 3 : A = {}\".format(A))"
   ]
  },
  {
   "cell_type": "code",
   "execution_count": 27,
   "metadata": {},
   "outputs": [
    {
     "name": "stdout",
     "output_type": "stream",
     "text": [
      "Example 4 : A = [1, 3, 4]\n"
     ]
    }
   ],
   "source": [
    "# (4) Delete a slice 2, 4\n",
    "A = [1, 2, 4, 3, 4]\n",
    "del A[1:3]\n",
    "\n",
    "# This will print [1, 3, 4]\n",
    "print(\"Example 4 : A = {}\".format(A))"
   ]
  },
  {
   "cell_type": "code",
   "execution_count": 28,
   "metadata": {},
   "outputs": [
    {
     "name": "stdout",
     "output_type": "stream",
     "text": [
      "Example 5 : A = [1, 2, 4, 3]\n",
      "Example 5 : x = 4\n"
     ]
    }
   ],
   "source": [
    "# (5) pop: remove and get the last item\n",
    "A = [1, 2, 4, 3, 4]\n",
    "x = A.pop()\n",
    "\n",
    "# This will print [1, 2, 4, 3]\n",
    "print(\"Example 5 : A = {}\".format(A))\n",
    "\n",
    "# This will print 4\n",
    "print(\"Example 5 : x = {}\".format(x))"
   ]
  },
  {
   "cell_type": "code",
   "execution_count": 29,
   "metadata": {},
   "outputs": [
    {
     "name": "stdout",
     "output_type": "stream",
     "text": [
      "Example 6 : A = [1, 4, 3, 4]\n",
      "Example 6 : x = 2\n"
     ]
    }
   ],
   "source": [
    "# (6) pop with index: remove and get the second item\n",
    "A = [1, 2, 4, 3, 4]\n",
    "x = A.pop(1)\n",
    "\n",
    "# This will print [1, 4, 3, 4]\n",
    "print(\"Example 6 : A = {}\".format(A))\n",
    "# This will print 2\n",
    "print(\"Example 6 : x = {}\".format(x))"
   ]
  },
  {
   "cell_type": "code",
   "execution_count": 30,
   "metadata": {},
   "outputs": [
    {
     "data": {
      "text/plain": [
       "'\\nappend() - Add an element to the end of the list\\nextend() - Add all elements of a list to the another list\\ninsert()- I nsert an item at the defined index\\nremove() - Removes an item from the list\\npop() - Removes and returns an element at the given index\\nclear() - Removes all items from the list\\nindex() - Returns the index of the first matched item\\ncount() - Returns the count of number of items passed as an argument\\nsort() - Sort items in a list in ascending order\\nreverse() - Reverse the order of items in the list\\ncopy() - Returns a shallow copy of the list\\n'"
      ]
     },
     "execution_count": 30,
     "metadata": {},
     "output_type": "execute_result"
    }
   ],
   "source": [
    "# Python List Methods\n",
    "# Methods that are available with list object \n",
    "\n",
    "# Are accessed as list.method().\n",
    "'''\n",
    "append() - Add an element to the end of the list\n",
    "extend() - Add all elements of a list to the another list\n",
    "insert()- I nsert an item at the defined index\n",
    "remove() - Removes an item from the list\n",
    "pop() - Removes and returns an element at the given index\n",
    "clear() - Removes all items from the list\n",
    "index() - Returns the index of the first matched item\n",
    "count() - Returns the count of number of items passed as an argument\n",
    "sort() - Sort items in a list in ascending order\n",
    "reverse() - Reverse the order of items in the list\n",
    "copy() - Returns a shallow copy of the list\n",
    "'''"
   ]
  },
  {
   "cell_type": "markdown",
   "metadata": {
    "collapsed": true
   },
   "source": [
    "## Methods "
   ]
  },
  {
   "cell_type": "code",
   "execution_count": 31,
   "metadata": {},
   "outputs": [
    {
     "name": "stdout",
     "output_type": "stream",
     "text": [
      "My shopping list is now ['new item', 'b', 'INSERTED ITEM', 'banana', 'c', 'carrot', 'chair', 'mango', 'pen', 'rice', 'table']\n"
     ]
    }
   ],
   "source": [
    "# insert() \t\t- Insert an item at the defined index\n",
    "shoplist.insert(2, \"INSERTED ITEM\")\n",
    "print('My shopping list is now', shoplist)"
   ]
  },
  {
   "cell_type": "code",
   "execution_count": 32,
   "metadata": {},
   "outputs": [
    {
     "name": "stdout",
     "output_type": "stream",
     "text": [
      "My shopping list is now ['new item', 'b', 'banana', 'c', 'carrot', 'chair', 'mango', 'pen', 'rice', 'table']\n"
     ]
    }
   ],
   "source": [
    "# remove() - Removes an item from the list\n",
    "shoplist.remove(\"INSERTED ITEM\")\n",
    "print('My shopping list is now', shoplist)"
   ]
  },
  {
   "cell_type": "code",
   "execution_count": 33,
   "metadata": {},
   "outputs": [
    {
     "name": "stdout",
     "output_type": "stream",
     "text": [
      "My shopping list is now ['new item', 'b', 'banana', 'c', 'carrot', 'chair', 'mango', 'pen', 'rice']\n"
     ]
    }
   ],
   "source": [
    "# pop() - Removes and returns an element at the given index\n",
    "shoplist.pop()\n",
    "print('My shopping list is now', shoplist)"
   ]
  },
  {
   "cell_type": "code",
   "execution_count": 34,
   "metadata": {},
   "outputs": [
    {
     "name": "stdout",
     "output_type": "stream",
     "text": [
      "position of matched item is :  4\n"
     ]
    }
   ],
   "source": [
    "# index() - Returns the index of the first matched item\n",
    "pos = shoplist.index('carrot')\n",
    "print('position of matched item is : ', pos)"
   ]
  },
  {
   "cell_type": "code",
   "execution_count": 4,
   "metadata": {},
   "outputs": [
    {
     "data": {
      "text/plain": [
       "6"
      ]
     },
     "execution_count": 4,
     "metadata": {},
     "output_type": "execute_result"
    }
   ],
   "source": [
    "list1 = [1,2,2,4,5,6,2,6,8]\n",
    "list1.index(item, start, stop)\n",
    "list1.index(2,3,9)"
   ]
  },
  {
   "cell_type": "code",
   "execution_count": 7,
   "metadata": {},
   "outputs": [
    {
     "data": {
      "text/plain": [
       "6"
      ]
     },
     "execution_count": 7,
     "metadata": {},
     "output_type": "execute_result"
    }
   ],
   "source": [
    "# index() - Returns the index of the first matched item\n",
    "list1 = [1,2,2,4,5,6,2,6,100]\n",
    "list1.index(2,-4, -1)"
   ]
  },
  {
   "cell_type": "code",
   "execution_count": 4,
   "metadata": {},
   "outputs": [
    {
     "data": {
      "text/plain": [
       "3"
      ]
     },
     "execution_count": 4,
     "metadata": {},
     "output_type": "execute_result"
    }
   ],
   "source": [
    "#count() - Returns the count of number of items passed as an argument\n",
    "list1.count(2)"
   ]
  },
  {
   "cell_type": "code",
   "execution_count": 6,
   "metadata": {},
   "outputs": [
    {
     "data": {
      "text/plain": [
       "[1000, 100, 6, 6, 5, 4, 2, 2, 2]"
      ]
     },
     "execution_count": 6,
     "metadata": {},
     "output_type": "execute_result"
    }
   ],
   "source": [
    "#sort() - Sort items in a list in ascending order\n",
    "list1 = [1000,2,2,4,5,6,2,6,100]\n",
    "list1.sort()\n",
    "list1"
   ]
  },
  {
   "cell_type": "code",
   "execution_count": 8,
   "metadata": {},
   "outputs": [
    {
     "data": {
      "text/plain": [
       "[100, 6, 2, 6, 5, 4, 2, 2, 1]"
      ]
     },
     "execution_count": 8,
     "metadata": {},
     "output_type": "execute_result"
    }
   ],
   "source": [
    "#reverse() - Reverse the order of items in the list\n",
    "list1.reverse()\n",
    "list1"
   ]
  },
  {
   "cell_type": "code",
   "execution_count": 40,
   "metadata": {},
   "outputs": [
    {
     "name": "stdout",
     "output_type": "stream",
     "text": [
      "count of matched item is :  1\n"
     ]
    }
   ],
   "source": [
    "# count() - Returns the number of occurances of the matched item\n",
    "cnt = shoplist.count('carrot')\n",
    "print('count of matched item is : ', cnt)"
   ]
  },
  {
   "cell_type": "code",
   "execution_count": 10,
   "metadata": {},
   "outputs": [
    {
     "name": "stdout",
     "output_type": "stream",
     "text": [
      "[1, 2, 3, 9, 121]\n"
     ]
    }
   ],
   "source": [
    "list1 = [1,2,3,9,121]\n",
    "print(list1)"
   ]
  },
  {
   "cell_type": "code",
   "execution_count": 11,
   "metadata": {},
   "outputs": [
    {
     "name": "stdout",
     "output_type": "stream",
     "text": [
      "[1, 2, 3, 9, 121]\n"
     ]
    }
   ],
   "source": [
    "list2 = list1\n",
    "print(list2)"
   ]
  },
  {
   "cell_type": "code",
   "execution_count": 44,
   "metadata": {},
   "outputs": [
    {
     "name": "stdout",
     "output_type": "stream",
     "text": [
      "list1:  [1, 2, 3, 13, 121]\n",
      "list2:  [1, 2, 3, 13, 121]\n",
      "2029870500424\n",
      "2029870500424\n"
     ]
    }
   ],
   "source": [
    "list1 = [1,2,3,9,121]\n",
    "list2 = list1 #[1,2,3,13,121]\n",
    "list2[3] = 13\n",
    "print(\"list1: \", list1)\n",
    "print(\"list2: \", list2)\n",
    "print(id(list1))\n",
    "print(id(list2))"
   ]
  },
  {
   "cell_type": "code",
   "execution_count": null,
   "metadata": {},
   "outputs": [],
   "source": [
    "client- actual\n",
    "copyclient"
   ]
  },
  {
   "cell_type": "code",
   "execution_count": 42,
   "metadata": {},
   "outputs": [
    {
     "name": "stdout",
     "output_type": "stream",
     "text": [
      "list1:  [1, 2, 3, 9, 121]\n",
      "list2:  [1, 2, 3, 13, 121]\n",
      "2029869438216\n",
      "2029876199304\n"
     ]
    }
   ],
   "source": [
    "#copy() - Returns a shallow copy of the list\n",
    "list1 = [1,2,3,9,121]\n",
    "list2 = list1.copy()\n",
    "list2[3] = 13\n",
    "print(\"list1: \", list1)\n",
    "print(\"list2: \", list2)\n",
    "print(id(list1))\n",
    "print(id(list2))"
   ]
  },
  {
   "cell_type": "code",
   "execution_count": null,
   "metadata": {},
   "outputs": [],
   "source": [
    "list1 = [1,2,3,9,[4,7],121]"
   ]
  },
  {
   "cell_type": "code",
   "execution_count": 20,
   "metadata": {},
   "outputs": [
    {
     "name": "stdout",
     "output_type": "stream",
     "text": [
      "list1:  [1, 2, 3, 9, [4, 13], 121]\n",
      "list2:  [1, 2, 3, 9, [4, 13], 121]\n",
      "2164431197960\n",
      "2164427383752\n",
      "2164429699208\n",
      "2164429699208\n"
     ]
    }
   ],
   "source": [
    "# Shallow copy creates a copy of a object but both lists share the reference of same nested objects.\n",
    "list1 = [1,2,3,9,[4,7],121]\n",
    "list2 = list1.copy()\n",
    "list2[4][1] = 13\n",
    "print(\"list1: \", list1)\n",
    "print(\"list2: \", list2)\n",
    "print(id(list1))\n",
    "print(id(list2))\n",
    "print((id(list1[4])))\n",
    "print((id(list2[4])))"
   ]
  },
  {
   "cell_type": "code",
   "execution_count": 22,
   "metadata": {
    "scrolled": false
   },
   "outputs": [
    {
     "name": "stdout",
     "output_type": "stream",
     "text": [
      "list1:  [1, 2, 3, 9, [4, 13], 121]\n",
      "list3:  [1, 2, 3, 9, [4, 7], 121]\n",
      "2164431197960\n",
      "2164433669768\n",
      "2164429699208\n",
      "2164433666824\n"
     ]
    }
   ],
   "source": [
    "import copy\n",
    "list3 = copy.deepcopy(list1)\n",
    "list3[4][1] = 7\n",
    "print(\"list1: \", list1)\n",
    "print(\"list3: \", list3)\n",
    "print(id(list1))\n",
    "print(id(list3))\n",
    "print((id(list1[4])))\n",
    "print((id(list3[4])))"
   ]
  },
  {
   "attachments": {
    "copy-list-in-python1.png": {
     "image/png": "[encoded data removed]"
    }
   },
   "cell_type": "markdown",
   "metadata": {},
   "source": [
    "![copy-list-in-python1.png](attachment:copy-list-in-python1.png)"
   ]
  },
  {
   "cell_type": "code",
   "execution_count": null,
   "metadata": {},
   "outputs": [],
   "source": [
    "# creating list of \n",
    "powerList = []\n",
    "for x in range(10):\n",
    "   powerList.append(2 ** x)\n",
    "\n",
    "print(powerList)\n"
   ]
  },
  {
   "cell_type": "code",
   "execution_count": null,
   "metadata": {},
   "outputs": [],
   "source": [
    "# list comprehension\n",
    "# List comprehension consists of an expression followed by for statement \n",
    "# inside squar ** x for x in range(10)e brackets.\n",
    "powerList = [2]"
   ]
  },
  {
   "cell_type": "code",
   "execution_count": null,
   "metadata": {},
   "outputs": [],
   "source": [
    "# list comprehension with if \n",
    "powerList = [2 ** x for x in range(10) ]\n",
    "\n",
    "print(powerList)"
   ]
  },
  {
   "cell_type": "code",
   "execution_count": null,
   "metadata": {},
   "outputs": [],
   "source": [
    "for x in range(10):\n",
    "    print(x)"
   ]
  },
  {
   "cell_type": "code",
   "execution_count": null,
   "metadata": {},
   "outputs": [],
   "source": [
    "# build powerList of odd numbers\n",
    "oddpowerList = [2 ** x for x in range(20) if x % 2 == 1]\n",
    "print(oddpowerList)"
   ]
  },
  {
   "cell_type": "code",
   "execution_count": null,
   "metadata": {},
   "outputs": [],
   "source": [
    "# build powerList of even numbers\n",
    "evenpowerList = [2 ** x for x in range(20) if x % 2 == 0]\n",
    "print(evenpowerList)"
   ]
  },
  {
   "cell_type": "code",
   "execution_count": null,
   "metadata": {},
   "outputs": [],
   "source": [
    "# Iterating Through a List\n",
    "for listItem in shoplist:\n",
    "    print(\"I like - \", listItem)"
   ]
  },
  {
   "cell_type": "code",
   "execution_count": null,
   "metadata": {},
   "outputs": [],
   "source": [
    "'''\n",
    "Built-in Functions with List\n",
    "all()\tReturn True if all elements of the list are true \n",
    "        (or if the list is empty).\n",
    "any()\tReturn True if any element of the list is true. \n",
    "        If the list is empty, return False.\n",
    "enumerate()\tReturn an enumerate object. It contains the index \n",
    "            and value of all the items of list as a tuple.\n",
    "len(shoplist)\tReturn the length (the number of items) in the list.\n",
    "list()\tConvert an iterable (tuple, string, set, dictionary) to a list.\n",
    "max()\tReturn the largest item in the list.\n",
    "min()\tReturn the smallest item in the list\n",
    "sorted()\tReturn a new sorted list (does not sort the list itself).\n",
    "sum()\tReturn the sum of all elements in the list.\n",
    "'''"
   ]
  },
  {
   "cell_type": "markdown",
   "metadata": {},
   "source": [
    "## Built-in-Function"
   ]
  },
  {
   "cell_type": "code",
   "execution_count": null,
   "metadata": {},
   "outputs": [],
   "source": [
    "False = 0\n",
    "True = 1"
   ]
  },
  {
   "cell_type": "code",
   "execution_count": 4,
   "metadata": {},
   "outputs": [
    {
     "data": {
      "text/plain": [
       "False"
      ]
     },
     "execution_count": 4,
     "metadata": {},
     "output_type": "execute_result"
    }
   ],
   "source": [
    "#all()\tReturn True if all elements of the list are true \n",
    "lst = [1, 2, 3, 4, 1, 1, \"false\",False]\n",
    "all(lst)"
   ]
  },
  {
   "cell_type": "code",
   "execution_count": 8,
   "metadata": {},
   "outputs": [
    {
     "data": {
      "text/plain": [
       "False"
      ]
     },
     "execution_count": 8,
     "metadata": {},
     "output_type": "execute_result"
    }
   ],
   "source": [
    "all([True,True,True, False])"
   ]
  },
  {
   "cell_type": "code",
   "execution_count": 8,
   "metadata": {},
   "outputs": [
    {
     "data": {
      "text/plain": [
       "True"
      ]
     },
     "execution_count": 8,
     "metadata": {},
     "output_type": "execute_result"
    }
   ],
   "source": [
    "any([True,False, False])"
   ]
  },
  {
   "cell_type": "code",
   "execution_count": 4,
   "metadata": {},
   "outputs": [
    {
     "name": "stdout",
     "output_type": "stream",
     "text": [
      "[(0, 'bread'), (1, 'milk'), (2, 'butter')]\n"
     ]
    }
   ],
   "source": [
    "#enumerate()\tReturn an enumerate object. It contains the index \n",
    "#            and value of all the items of list as a tuple.\n",
    "grocery = ['bread', 'milk', 'butter']\n",
    "\n",
    "enumerateGrocery = enumerate(grocery)\n",
    "\n",
    "print(list(enumerateGrocery))"
   ]
  },
  {
   "cell_type": "code",
   "execution_count": 5,
   "metadata": {},
   "outputs": [
    {
     "name": "stdout",
     "output_type": "stream",
     "text": [
      "[(100, 'bread'), (101, 'milk'), (102, 'butter')]\n"
     ]
    }
   ],
   "source": [
    "enumerateGrocery = enumerate(grocery, 100)\n",
    "\n",
    "print(list(enumerateGrocery))"
   ]
  },
  {
   "cell_type": "code",
   "execution_count": 45,
   "metadata": {},
   "outputs": [
    {
     "data": {
      "text/plain": [
       "3"
      ]
     },
     "execution_count": 45,
     "metadata": {},
     "output_type": "execute_result"
    }
   ],
   "source": [
    "# len()\n",
    "grocery = ['bread', 'milk', 'butter']\n",
    "len(grocery)"
   ]
  },
  {
   "cell_type": "code",
   "execution_count": 35,
   "metadata": {},
   "outputs": [
    {
     "data": {
      "text/plain": [
       "'Mango'"
      ]
     },
     "execution_count": 35,
     "metadata": {},
     "output_type": "execute_result"
    }
   ],
   "source": [
    "SL = [\"Apple\",\"Mango\",\"Banana\"]\n",
    "max(SL)"
   ]
  },
  {
   "cell_type": "code",
   "execution_count": 46,
   "metadata": {},
   "outputs": [
    {
     "data": {
      "text/plain": [
       "'milk'"
      ]
     },
     "execution_count": 46,
     "metadata": {},
     "output_type": "execute_result"
    }
   ],
   "source": [
    "\n",
    "max(grocery)\n"
   ]
  },
  {
   "cell_type": "code",
   "execution_count": 47,
   "metadata": {},
   "outputs": [
    {
     "data": {
      "text/plain": [
       "'bread'"
      ]
     },
     "execution_count": 47,
     "metadata": {},
     "output_type": "execute_result"
    }
   ],
   "source": [
    "min(grocery)"
   ]
  },
  {
   "cell_type": "code",
   "execution_count": null,
   "metadata": {},
   "outputs": [],
   "source": [
    "primes = [2, 3, 5, 7]\n",
    "for prime in primes:\n",
    "    print(prime)"
   ]
  },
  {
   "cell_type": "code",
   "execution_count": null,
   "metadata": {},
   "outputs": [],
   "source": [
    "#sum \n",
    "list1 = [1,2,3,4,5,6]\n",
    "x = sum(list1)\n",
    "print(x)"
   ]
  },
  {
   "cell_type": "code",
   "execution_count": null,
   "metadata": {},
   "outputs": [],
   "source": [
    "any(list1)"
   ]
  },
  {
   "cell_type": "code",
   "execution_count": null,
   "metadata": {},
   "outputs": [],
   "source": []
  }
 ],
 "metadata": {
  "kernelspec": {
   "display_name": "Python 3 (ipykernel)",
   "language": "python",
   "name": "python3"
  },
  "language_info": {
   "codemirror_mode": {
    "name": "ipython",
    "version": 3
   },
   "file_extension": ".py",
   "mimetype": "text/x-python",
   "name": "python",
   "nbconvert_exporter": "python",
   "pygments_lexer": "ipython3",
   "version": "3.7.0"
  },
  "toc": {
   "base_numbering": 1,
   "nav_menu": {},
   "number_sections": true,
   "sideBar": true,
   "skip_h1_title": false,
   "title_cell": "Table of Contents",
   "title_sidebar": "Contents",
   "toc_cell": false,
   "toc_position": {},
   "toc_section_display": true,
   "toc_window_display": false
  }
 },
 "nbformat": 4,
 "nbformat_minor": 2
}
