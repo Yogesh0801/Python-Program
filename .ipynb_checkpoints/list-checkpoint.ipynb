{
 "cells": [
  {
   "cell_type": "code",
   "execution_count": null,
   "metadata": {
    "colab": {
     "base_uri": "https://localhost:8080/"
    },
    "id": "LC2FjmKXvbgC",
    "outputId": "cfe466fd-2768-43cb-db49-d5c5e333ce99"
   },
   "outputs": [
    {
     "data": {
      "text/plain": [
       "list"
      ]
     },
     "execution_count": 1,
     "metadata": {
      "tags": []
     },
     "output_type": "execute_result"
    }
   ],
   "source": [
    "l = []\n",
    "type(l)"
   ]
  },
  {
   "cell_type": "code",
   "execution_count": null,
   "metadata": {
    "colab": {
     "base_uri": "https://localhost:8080/"
    },
    "id": "BG4SCO3xwKdx",
    "outputId": "dcd80ba3-1e4d-4490-ac4b-48bfe3b135c7"
   },
   "outputs": [
    {
     "name": "stdout",
     "output_type": "stream",
     "text": [
      "[1, 2, 3, 4, 5]\n"
     ]
    }
   ],
   "source": [
    "l = [1,2,3,4,5]\n",
    "print(l)"
   ]
  },
  {
   "cell_type": "code",
   "execution_count": null,
   "metadata": {
    "colab": {
     "base_uri": "https://localhost:8080/"
    },
    "id": "JBUcCKLBwYgX",
    "outputId": "952aa145-bdd2-45d6-f4da-3af27bb7add4"
   },
   "outputs": [
    {
     "name": "stdout",
     "output_type": "stream",
     "text": [
      "[1, 2, 3, 4.5, 'rk']\n"
     ]
    }
   ],
   "source": [
    "l = [1,2,3,4.5, 'rk']\n",
    "print(l)"
   ]
  },
  {
   "cell_type": "code",
   "execution_count": null,
   "metadata": {
    "colab": {
     "base_uri": "https://localhost:8080/"
    },
    "id": "TkYoaABywtbf",
    "outputId": "5ca4db6b-cf9b-431f-c265-0b17ea9d705c"
   },
   "outputs": [
    {
     "name": "stdout",
     "output_type": "stream",
     "text": [
      "[1, 2, 3, 4, [2, 3, 4, 5, 6]]\n"
     ]
    }
   ],
   "source": [
    "l = [1,2,3,4,[2,3,4,5,6]]\n",
    "print(l)"
   ]
  },
  {
   "cell_type": "code",
   "execution_count": null,
   "metadata": {
    "colab": {
     "base_uri": "https://localhost:8080/"
    },
    "id": "FznmKo5lxHCC",
    "outputId": "1ac27c62-22f3-40ce-e79b-167bb68b2f19"
   },
   "outputs": [
    {
     "name": "stdout",
     "output_type": "stream",
     "text": [
      "i have 4 item to purchase\n"
     ]
    }
   ],
   "source": [
    "shoplist = ['apple', 'mango', 'carrot','banana']\n",
    "\n",
    "print(\"i have\", len(shoplist), \"item to purchase\")"
   ]
  },
  {
   "cell_type": "code",
   "execution_count": null,
   "metadata": {
    "colab": {
     "base_uri": "https://localhost:8080/"
    },
    "id": "C6914zYZxWod",
    "outputId": "b0eef78c-d000-4993-ccab-875d9a71161c"
   },
   "outputs": [
    {
     "name": "stdout",
     "output_type": "stream",
     "text": [
      "['apple', 'mango', 'carrot', 'banana', 'rice']\n"
     ]
    }
   ],
   "source": [
    "# Methods\n",
    "\n",
    "### append\n",
    "shoplist.append('rice')\n",
    "print(shoplist)"
   ]
  },
  {
   "cell_type": "code",
   "execution_count": null,
   "metadata": {
    "colab": {
     "base_uri": "https://localhost:8080/"
    },
    "id": "pq0YLCPxyl23",
    "outputId": "40222e8f-87eb-466f-a486-93a7f2971c0b"
   },
   "outputs": [
    {
     "name": "stdout",
     "output_type": "stream",
     "text": [
      "['apple', 'mango', 'carrot', 'banana', 'rice', 'pen']\n"
     ]
    }
   ],
   "source": [
    "shoplist.append('pen')\n",
    "print(shoplist)"
   ]
  },
  {
   "cell_type": "code",
   "execution_count": null,
   "metadata": {
    "colab": {
     "base_uri": "https://localhost:8080/"
    },
    "id": "MQlnPOwRy7q5",
    "outputId": "e44c641c-9edc-4cb0-be1f-cdeb8a902bd3"
   },
   "outputs": [
    {
     "name": "stdout",
     "output_type": "stream",
     "text": [
      "['apple', 'mango', 'carrot', 'banana', 'rice', 'pen', 'table', 'chair']\n"
     ]
    }
   ],
   "source": [
    "# extend\n",
    "shoplist.extend(['table', 'chair'])\n",
    "print(shoplist)"
   ]
  },
  {
   "cell_type": "code",
   "execution_count": null,
   "metadata": {
    "colab": {
     "base_uri": "https://localhost:8080/"
    },
    "id": "nfNtlVi3zLp4",
    "outputId": "00f133b6-7b87-4f49-9b2e-e780da8e3ebf"
   },
   "outputs": [
    {
     "name": "stdout",
     "output_type": "stream",
     "text": [
      "['apple', 'mango', 'carrot', 'banana', 'rice', 'pen', 'table', 'chair', ['a', 'b']]\n"
     ]
    }
   ],
   "source": [
    "shoplist.append(['a', 'b'])\n",
    "print(shoplist)"
   ]
  },
  {
   "cell_type": "code",
   "execution_count": null,
   "metadata": {
    "id": "mqCj5BtuzbwR"
   },
   "outputs": [],
   "source": [
    "shoplist1 = ['phone', 'laptop', 'charger']"
   ]
  },
  {
   "cell_type": "code",
   "execution_count": null,
   "metadata": {
    "colab": {
     "base_uri": "https://localhost:8080/"
    },
    "id": "NzkgIrkh0SS_",
    "outputId": "37920d7c-d73f-4308-ae02-66bc17916ae7"
   },
   "outputs": [
    {
     "name": "stdout",
     "output_type": "stream",
     "text": [
      "['apple', 'mango', 'carrot', 'banana', 'rice', 'pen', 'table', 'chair', ['a', 'b'], 'phone', 'laptop', 'charger']\n"
     ]
    }
   ],
   "source": [
    "# concatenation\n",
    "final_shoplist = shoplist + shoplist1\n",
    "print(final_shoplist)"
   ]
  },
  {
   "cell_type": "code",
   "execution_count": 2,
   "metadata": {
    "id": "--yBTLNs0pqQ"
   },
   "outputs": [],
   "source": [
    "# accessing a list and slicing\n",
    "\n",
    "shoplist = ['apple', 'mango', 'carrot','banana', 'table', 'chair',['phone', 'charger']]"
   ]
  },
  {
   "cell_type": "code",
   "execution_count": null,
   "metadata": {
    "colab": {
     "base_uri": "https://localhost:8080/"
    },
    "id": "nvvYp9la0Vkh",
    "outputId": "155014d1-f94e-4ccc-8a5a-0ad126123a4c"
   },
   "outputs": [
    {
     "data": {
      "text/plain": [
       "['chair', ['phone', 'charger']]"
      ]
     },
     "execution_count": 40,
     "metadata": {
      "tags": []
     },
     "output_type": "execute_result"
    }
   ],
   "source": [
    "shoplist[-2:]"
   ]
  },
  {
   "cell_type": "code",
   "execution_count": 3,
   "metadata": {
    "colab": {
     "base_uri": "https://localhost:8080/"
    },
    "id": "UP8T5NSM0-fk",
    "outputId": "b8c07e61-d177-4ce0-f026-878c0b79f1bf"
   },
   "outputs": [
    {
     "name": "stdout",
     "output_type": "stream",
     "text": [
      "['apple', 'mango', 'carrot', 'banana', 'table', 'chair', ['phone', 'charger']]\n"
     ]
    }
   ],
   "source": [
    "# insert\n",
    "print(shoplist)"
   ]
  },
  {
   "cell_type": "code",
   "execution_count": 4,
   "metadata": {
    "colab": {
     "base_uri": "https://localhost:8080/"
    },
    "id": "-2I-WHwY7QZL",
    "outputId": "bd1bbd79-c2ab-41c1-e539-47d4c3f8c938"
   },
   "outputs": [
    {
     "name": "stdout",
     "output_type": "stream",
     "text": [
      "['apple', 'sssss', 'mango', 'carrot', 'banana', 'table', 'chair', ['phone', 'charger']]\n"
     ]
    }
   ],
   "source": [
    "shoplist.insert(1, 'sssss')\n",
    "print(shoplist)"
   ]
  },
  {
   "cell_type": "code",
   "execution_count": 5,
   "metadata": {
    "id": "_BwnbWz27efF"
   },
   "outputs": [],
   "source": [
    "shoplist.insert(4,'bottle')"
   ]
  },
  {
   "cell_type": "code",
   "execution_count": 6,
   "metadata": {
    "colab": {
     "base_uri": "https://localhost:8080/"
    },
    "id": "82UIduV_7rQ5",
    "outputId": "3ae59fd6-f134-4ef9-fd3f-ae45e67a3ac9"
   },
   "outputs": [
    {
     "name": "stdout",
     "output_type": "stream",
     "text": [
      "['apple', 'sssss', 'mango', 'carrot', 'bottle', 'banana', 'table', 'chair', ['phone', 'charger']]\n"
     ]
    }
   ],
   "source": [
    "print(shoplist)"
   ]
  },
  {
   "cell_type": "code",
   "execution_count": 7,
   "metadata": {
    "id": "X_jyHe0s7tDt"
   },
   "outputs": [],
   "source": [
    "# remove\n",
    "shoplist.remove('bottle')"
   ]
  },
  {
   "cell_type": "code",
   "execution_count": 8,
   "metadata": {
    "colab": {
     "base_uri": "https://localhost:8080/"
    },
    "id": "lDOtmNUR8DNZ",
    "outputId": "38e7de26-8ce1-4f78-e400-05bc309763e0"
   },
   "outputs": [
    {
     "name": "stdout",
     "output_type": "stream",
     "text": [
      "['apple', 'sssss', 'mango', 'carrot', 'banana', 'table', 'chair', ['phone', 'charger']]\n"
     ]
    }
   ],
   "source": [
    "print(shoplist)"
   ]
  },
  {
   "cell_type": "code",
   "execution_count": 9,
   "metadata": {
    "colab": {
     "base_uri": "https://localhost:8080/",
     "height": 35
    },
    "id": "78wARzx28FB9",
    "outputId": "6dbd0dcc-692f-4a39-dceb-cf059588dc1e"
   },
   "outputs": [
    {
     "data": {
      "application/vnd.google.colaboratory.intrinsic+json": {
       "type": "string"
      },
      "text/plain": [
       "'sssss'"
      ]
     },
     "execution_count": 9,
     "metadata": {
      "tags": []
     },
     "output_type": "execute_result"
    }
   ],
   "source": [
    "#pop\n",
    "shoplist.pop(1)\n"
   ]
  },
  {
   "cell_type": "code",
   "execution_count": 10,
   "metadata": {
    "colab": {
     "base_uri": "https://localhost:8080/"
    },
    "id": "uSUuO6FJ8NUt",
    "outputId": "6a29290b-9030-469f-cf21-a06abd2b5146"
   },
   "outputs": [
    {
     "name": "stdout",
     "output_type": "stream",
     "text": [
      "['apple', 'mango', 'carrot', 'banana', 'table', 'chair', ['phone', 'charger']]\n"
     ]
    }
   ],
   "source": [
    "print(shoplist)"
   ]
  },
  {
   "cell_type": "code",
   "execution_count": 13,
   "metadata": {
    "id": "_UT6hWlq8PTm"
   },
   "outputs": [],
   "source": [
    "del shoplist[1:2]"
   ]
  },
  {
   "cell_type": "code",
   "execution_count": 14,
   "metadata": {
    "colab": {
     "base_uri": "https://localhost:8080/"
    },
    "id": "PlvHkQXJ8q0g",
    "outputId": "ce84b78c-5959-46ae-8426-afa6fd335ec1"
   },
   "outputs": [
    {
     "name": "stdout",
     "output_type": "stream",
     "text": [
      "['apple', 'carrot', 'banana', 'table', 'chair', ['phone', 'charger']]\n"
     ]
    }
   ],
   "source": [
    "print(shoplist)"
   ]
  },
  {
   "cell_type": "code",
   "execution_count": 15,
   "metadata": {
    "colab": {
     "base_uri": "https://localhost:8080/"
    },
    "id": "cr_LK5eA8-lj",
    "outputId": "493d9b47-06ac-400c-8ca2-9732c25fe321"
   },
   "outputs": [
    {
     "data": {
      "text/plain": [
       "['phone', 'charger']"
      ]
     },
     "execution_count": 15,
     "metadata": {
      "tags": []
     },
     "output_type": "execute_result"
    }
   ],
   "source": [
    "shoplist.pop()"
   ]
  },
  {
   "cell_type": "code",
   "execution_count": 16,
   "metadata": {
    "colab": {
     "base_uri": "https://localhost:8080/",
     "height": 35
    },
    "id": "VRS1xdYk9kNU",
    "outputId": "01907b15-fe4c-4703-bc41-573d96184263"
   },
   "outputs": [
    {
     "data": {
      "application/vnd.google.colaboratory.intrinsic+json": {
       "type": "string"
      },
      "text/plain": [
       "'chair'"
      ]
     },
     "execution_count": 16,
     "metadata": {
      "tags": []
     },
     "output_type": "execute_result"
    }
   ],
   "source": [
    "shoplist.pop()"
   ]
  },
  {
   "cell_type": "code",
   "execution_count": 17,
   "metadata": {
    "colab": {
     "base_uri": "https://localhost:8080/"
    },
    "id": "-O4cN38E9mx9",
    "outputId": "ac729519-8ae6-4d27-f9a6-a3be31fc6532"
   },
   "outputs": [
    {
     "name": "stdout",
     "output_type": "stream",
     "text": [
      "['apple', 'carrot', 'banana', 'table']\n"
     ]
    }
   ],
   "source": [
    "print(shoplist)"
   ]
  },
  {
   "cell_type": "code",
   "execution_count": 20,
   "metadata": {
    "colab": {
     "base_uri": "https://localhost:8080/"
    },
    "id": "CqVRf5ml9vV1",
    "outputId": "2fc790f9-4981-481c-8505-9d547b249025"
   },
   "outputs": [
    {
     "data": {
      "text/plain": [
       "2"
      ]
     },
     "execution_count": 20,
     "metadata": {
      "tags": []
     },
     "output_type": "execute_result"
    }
   ],
   "source": [
    "#index\n",
    "shoplist.index('banana')\n"
   ]
  },
  {
   "cell_type": "code",
   "execution_count": 33,
   "metadata": {
    "colab": {
     "base_uri": "https://localhost:8080/"
    },
    "id": "_wvHu9Ze-CPX",
    "outputId": "005ea45e-a8d5-45ce-deff-9a5a639b1e53"
   },
   "outputs": [
    {
     "data": {
      "text/plain": [
       "6"
      ]
     },
     "execution_count": 33,
     "metadata": {
      "tags": []
     },
     "output_type": "execute_result"
    }
   ],
   "source": [
    "a = [1,2,2,4,5,6,2,6,8]\n",
    "# index(value, start, stop)\n",
    "a.index(2, -6, -1)"
   ]
  },
  {
   "cell_type": "code",
   "execution_count": 34,
   "metadata": {
    "colab": {
     "base_uri": "https://localhost:8080/"
    },
    "id": "oJRcZSML_BS_",
    "outputId": "76aa456d-73e4-4002-8f27-23ff8c7d211e"
   },
   "outputs": [
    {
     "data": {
      "text/plain": [
       "3"
      ]
     },
     "execution_count": 34,
     "metadata": {
      "tags": []
     },
     "output_type": "execute_result"
    }
   ],
   "source": [
    "#count\n",
    "a.count(2)"
   ]
  },
  {
   "cell_type": "code",
   "execution_count": 39,
   "metadata": {
    "colab": {
     "base_uri": "https://localhost:8080/"
    },
    "id": "3lpbU8ld_zQV",
    "outputId": "1760e318-fbef-4595-86ae-fb49a441ed9d"
   },
   "outputs": [
    {
     "name": "stdout",
     "output_type": "stream",
     "text": [
      "[1, 2, 2, 2, 4, 5, 6, 6, 8]\n"
     ]
    }
   ],
   "source": [
    "a.sort()\n",
    "print(a)"
   ]
  },
  {
   "cell_type": "code",
   "execution_count": 40,
   "metadata": {
    "colab": {
     "base_uri": "https://localhost:8080/"
    },
    "id": "N233zshI_4r6",
    "outputId": "9a807e32-a347-42ba-db7a-6f0855e0fcea"
   },
   "outputs": [
    {
     "name": "stdout",
     "output_type": "stream",
     "text": [
      "[8, 6, 6, 5, 4, 2, 2, 2, 1]\n"
     ]
    }
   ],
   "source": [
    "a.reverse()\n",
    "print(a)"
   ]
  },
  {
   "cell_type": "code",
   "execution_count": 43,
   "metadata": {
    "colab": {
     "base_uri": "https://localhost:8080/"
    },
    "id": "OFH6bvAHAUVR",
    "outputId": "fd2a81d2-8146-49ac-e4ec-0be3b744de55"
   },
   "outputs": [
    {
     "name": "stdout",
     "output_type": "stream",
     "text": [
      "[]\n"
     ]
    }
   ],
   "source": [
    "a.clear()\n",
    "print(a)"
   ]
  },
  {
   "cell_type": "code",
   "execution_count": 48,
   "metadata": {
    "colab": {
     "base_uri": "https://localhost:8080/"
    },
    "id": "DMlsLilMA-AC",
    "outputId": "41f7344a-39ac-43be-c53f-a21f6da9df61"
   },
   "outputs": [
    {
     "name": "stdout",
     "output_type": "stream",
     "text": [
      "without damage\n",
      "[1, 2, 3, 4, 5]\n",
      "[1, 2, 3, 4, 5]\n",
      "with damage\n",
      "[1, 10, 3, 4, 5]\n",
      "[1, 10, 3, 4, 5]\n",
      "140171824959152\n",
      "140171824959152\n"
     ]
    }
   ],
   "source": [
    "# copy \n",
    "\n",
    "list1 = [1,2,3,4,5]\n",
    "list2 = list1\n",
    "\n",
    "\n",
    "print(\"without damage\")\n",
    "print(list1)\n",
    "print(list2)\n",
    "\n",
    "print(\"with damage\")\n",
    "list2[1] = 10\n",
    "\n",
    "print(list1)\n",
    "print(list2)\n",
    "\n",
    "\n",
    "print(id(list1))\n",
    "print(id(list2))"
   ]
  },
  {
   "cell_type": "code",
   "execution_count": 50,
   "metadata": {
    "colab": {
     "base_uri": "https://localhost:8080/"
    },
    "id": "kLDsHebWCF_k",
    "outputId": "78c528ca-1b2a-41e4-de01-30f6c0934bf4"
   },
   "outputs": [
    {
     "name": "stdout",
     "output_type": "stream",
     "text": [
      "without damage\n",
      "[1, 2, 3, 4, 5]\n",
      "[1, 2, 3, 4, 5]\n",
      "with damage\n",
      "[1, 2, 3, 4, 5]\n",
      "[1, 10, 3, 4, 5]\n"
     ]
    }
   ],
   "source": [
    "list1 = [1,2,3,4,5]\n",
    "list2 = list1.copy()\n",
    "\n",
    "\n",
    "print(\"without damage\")\n",
    "print(list1)\n",
    "print(list2)\n",
    "\n",
    "print(\"with damage\")\n",
    "list2[1] = 10\n",
    "\n",
    "print(list1)\n",
    "print(list2)"
   ]
  },
  {
   "cell_type": "code",
   "execution_count": 54,
   "metadata": {
    "colab": {
     "base_uri": "https://localhost:8080/"
    },
    "id": "ppm8UUdFDjQX",
    "outputId": "07b46377-050e-49b1-b37c-dbb0b9547828"
   },
   "outputs": [
    {
     "name": "stdout",
     "output_type": "stream",
     "text": [
      "without damage\n",
      "[1, 2, 3, 4, 5, [3, 4]]\n",
      "[1, 2, 3, 4, 5, [3, 4]]\n",
      "with damage\n",
      "[1, 2, 3, 4, 5, [3, 10]]\n",
      "[1, 2, 3, 4, 5, [3, 10]]\n",
      "140171893217872\n",
      "140171825227168\n",
      "140171824974736\n",
      "140171824974736\n"
     ]
    }
   ],
   "source": [
    "list1 = [1,2,3,4,5, [3,4]]\n",
    "list2 = list1.copy()\n",
    "\n",
    "print(\"without damage\")\n",
    "print(list1)\n",
    "print(list2)\n",
    "\n",
    "print(\"with damage\")\n",
    "list2[5][1] = 10\n",
    "\n",
    "print(list1)\n",
    "print(list2)\n",
    "\n",
    "print(id(list1))\n",
    "print(id(list2))\n",
    "print(id(list1[5]))\n",
    "print(id(list2[5]))"
   ]
  },
  {
   "cell_type": "code",
   "execution_count": 56,
   "metadata": {
    "colab": {
     "base_uri": "https://localhost:8080/"
    },
    "id": "-UI8vq5fECPN",
    "outputId": "9d3c0711-18c8-455e-cca1-6a56295487b9"
   },
   "outputs": [
    {
     "name": "stdout",
     "output_type": "stream",
     "text": [
      "[1, 2, 3, 4, 5, [3, 4]]\n",
      "[1, 2, 3, 4, 5, [3, 4]]\n",
      "with damage\n",
      "[1, 2, 3, 4, 5, [3, 4]]\n",
      "[1, 2, 3, 4, 5, [3, 10]]\n",
      "140171824755248\n",
      "140171825306352\n",
      "140171825306512\n",
      "140171825425056\n"
     ]
    }
   ],
   "source": [
    "import copy\n",
    "list1 = [1,2,3,4,5, [3,4]]\n",
    "list2 = copy.deepcopy(list1)\n",
    "print(list1)\n",
    "print(list2)\n",
    "\n",
    "print(\"with damage\")\n",
    "list2[5][1] = 10\n",
    "\n",
    "print(list1)\n",
    "print(list2)\n",
    "\n",
    "print(id(list1))\n",
    "print(id(list2))\n",
    "print(id(list1[5]))\n",
    "print(id(list2[5]))"
   ]
  },
  {
   "cell_type": "code",
   "execution_count": null,
   "metadata": {
    "id": "8InJcUn3FQ2g"
   },
   "outputs": [],
   "source": []
  }
 ],
 "metadata": {
  "colab": {
   "name": "list.ipynb",
   "provenance": []
  },
  "kernelspec": {
   "display_name": "Python 3 (ipykernel)",
   "language": "python",
   "name": "python3"
  },
  "language_info": {
   "codemirror_mode": {
    "name": "ipython",
    "version": 3
   },
   "file_extension": ".py",
   "mimetype": "text/x-python",
   "name": "python",
   "nbconvert_exporter": "python",
   "pygments_lexer": "ipython3",
   "version": "3.7.0"
  }
 },
 "nbformat": 4,
 "nbformat_minor": 1
}
