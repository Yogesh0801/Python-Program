{
 "cells": [
  {
   "cell_type": "code",
   "execution_count": 1,
   "metadata": {
    "id": "6dChoX9miVUk"
   },
   "outputs": [
    {
     "data": {
      "text/plain": [
       "['False',\n",
       " 'None',\n",
       " 'True',\n",
       " 'and',\n",
       " 'as',\n",
       " 'assert',\n",
       " 'async',\n",
       " 'await',\n",
       " 'break',\n",
       " 'class',\n",
       " 'continue',\n",
       " 'def',\n",
       " 'del',\n",
       " 'elif',\n",
       " 'else',\n",
       " 'except',\n",
       " 'finally',\n",
       " 'for',\n",
       " 'from',\n",
       " 'global',\n",
       " 'if',\n",
       " 'import',\n",
       " 'in',\n",
       " 'is',\n",
       " 'lambda',\n",
       " 'nonlocal',\n",
       " 'not',\n",
       " 'or',\n",
       " 'pass',\n",
       " 'raise',\n",
       " 'return',\n",
       " 'try',\n",
       " 'while',\n",
       " 'with',\n",
       " 'yield']"
      ]
     },
     "execution_count": 1,
     "metadata": {},
     "output_type": "execute_result"
    }
   ],
   "source": [
    "# These are inbuilt keyword in the python\n",
    "import keyword\n",
    "keyword.kwlist"
   ]
  },
  {
   "cell_type": "code",
   "execution_count": null,
   "metadata": {
    "id": "TGc1qvwRiRMX",
    "outputId": "76f3e961-a78b-45ca-bfbc-7440e972a9f5"
   },
   "outputs": [
    {
     "name": "stdout",
     "output_type": "stream",
     "text": [
      "5000\n",
      "5000\n"
     ]
    }
   ],
   "source": [
    "# global variable\n",
    "\n",
    "x=5000\n",
    "def main():\n",
    "\n",
    "    global x\n",
    "    print(x)\n",
    "\n",
    "#calling function\n",
    "main()\n",
    "print(x)"
   ]
  },
  {
   "cell_type": "code",
   "execution_count": null,
   "metadata": {
    "id": "m9kMzRtwiRMb",
    "outputId": "657fa0ad-8309-426d-f76e-973dbe5cd46c"
   },
   "outputs": [
    {
     "name": "stdout",
     "output_type": "stream",
     "text": [
      "hellow brilliant \n"
     ]
    }
   ],
   "source": [
    "print('hellow brilliant ')"
   ]
  },
  {
   "cell_type": "code",
   "execution_count": null,
   "metadata": {},
   "outputs": [],
   "source": [
    "# 1. split() Method\n",
    "# The split() method is used to break a string into a list of words or elements, based on a specified delimiter (separator). If no delimiter is specified, the default is any whitespace (space, newline, tab, etc.)."
   ]
  },
  {
   "cell_type": "code",
   "execution_count": null,
   "metadata": {},
   "outputs": [],
   "source": [
    "text = \"Hello, how are you?\"\n",
    "words = text.split()  # Splits by spaces by default\n",
    "print(words)  # Output: ['Hello,', 'how', 'are', 'you?']\n",
    "\n",
    "# Splitting by a specific delimiter, like a comma\n",
    "csv_line = \"apple,banana,cherry\"\n",
    "fruits = csv_line.split(',')\n",
    "print(fruits)  # Output: ['apple', 'banana', 'cherry']\n"
   ]
  },
  {
   "cell_type": "code",
   "execution_count": null,
   "metadata": {},
   "outputs": [],
   "source": [
    "# 2. join() Method\n",
    "# The join() method is used to combine (concatenate) a list of strings into a single string, with a specified separator between each element."
   ]
  },
  {
   "cell_type": "code",
   "execution_count": null,
   "metadata": {},
   "outputs": [],
   "source": [
    "words = ['Hello', 'how', 'are', 'you']\n",
    "sentence = \" \".join(words)  # Joins with a space separator\n",
    "print(sentence)  # Output: \"Hello how are you\"\n",
    "\n",
    "# Joining with a different separator\n",
    "path_parts = ['usr', 'bin', 'python']\n",
    "path = \"/\".join(path_parts)\n",
    "print(path)  # Output: \"usr/bin/python\"\n"
   ]
  },
  {
   "cell_type": "code",
   "execution_count": null,
   "metadata": {
    "id": "0-oIu79yiRMc"
   },
   "outputs": [],
   "source": [
    "a=70\n",
    "b=40"
   ]
  },
  {
   "cell_type": "code",
   "execution_count": null,
   "metadata": {
    "id": "bdL_uj7QiRMc",
    "outputId": "1a234140-8cba-43a1-c216-676d52b19b1c"
   },
   "outputs": [
    {
     "data": {
      "text/plain": [
       "70"
      ]
     },
     "execution_count": 4,
     "metadata": {},
     "output_type": "execute_result"
    }
   ],
   "source": [
    "a"
   ]
  },
  {
   "cell_type": "code",
   "execution_count": null,
   "metadata": {
    "id": "Q7QYuEU9iRMd",
    "outputId": "3a717dcc-ce1e-41ad-ffaf-567a5b95a784"
   },
   "outputs": [
    {
     "data": {
      "text/plain": [
       "40"
      ]
     },
     "execution_count": 5,
     "metadata": {},
     "output_type": "execute_result"
    }
   ],
   "source": [
    "b"
   ]
  },
  {
   "cell_type": "code",
   "execution_count": null,
   "metadata": {
    "id": "WLGtDzCBiRMd"
   },
   "outputs": [],
   "source": [
    "a_c=80"
   ]
  },
  {
   "cell_type": "code",
   "execution_count": null,
   "metadata": {
    "id": "d141jUN0iRMd",
    "outputId": "bd140513-1686-4065-ef1f-7dd8c1648c91"
   },
   "outputs": [
    {
     "data": {
      "text/plain": [
       "80"
      ]
     },
     "execution_count": 9,
     "metadata": {},
     "output_type": "execute_result"
    }
   ],
   "source": [
    "a_c"
   ]
  },
  {
   "cell_type": "code",
   "execution_count": null,
   "metadata": {
    "id": "HmPTZnu9iRMe",
    "outputId": "1d861058-95fd-4235-cb89-d3ad0d59c2b8"
   },
   "outputs": [
    {
     "ename": "SyntaxError",
     "evalue": "invalid syntax (<ipython-input-10-312540c992c1>, line 1)",
     "output_type": "error",
     "traceback": [
      "\u001b[1;36m  File \u001b[1;32m\"<ipython-input-10-312540c992c1>\"\u001b[1;36m, line \u001b[1;32m1\u001b[0m\n\u001b[1;33m    1h=70\u001b[0m\n\u001b[1;37m     ^\u001b[0m\n\u001b[1;31mSyntaxError\u001b[0m\u001b[1;31m:\u001b[0m invalid syntax\n"
     ]
    }
   ],
   "source": [
    "1h=70"
   ]
  },
  {
   "cell_type": "code",
   "execution_count": null,
   "metadata": {
    "id": "nDnyChZjiRMe"
   },
   "outputs": [],
   "source": [
    "h1=70\n",
    "h2='hello'\n",
    "h3 = 6.7"
   ]
  },
  {
   "cell_type": "code",
   "execution_count": null,
   "metadata": {
    "id": "ApXZAMwJiRMf",
    "outputId": "ca21f2e5-ef8b-43f7-fc02-bf47f82cdf24"
   },
   "outputs": [
    {
     "data": {
      "text/plain": [
       "6.7"
      ]
     },
     "execution_count": 19,
     "metadata": {},
     "output_type": "execute_result"
    }
   ],
   "source": [
    "h1\n",
    "h2\n",
    "h3"
   ]
  },
  {
   "cell_type": "code",
   "execution_count": null,
   "metadata": {
    "id": "JuDV2I5piRMf",
    "outputId": "a0f7f193-dbcc-4b28-d264-e7e8db721c1a"
   },
   "outputs": [
    {
     "name": "stdout",
     "output_type": "stream",
     "text": [
      "<class 'int'>\n",
      "<class 'str'>\n",
      "<class 'float'>\n"
     ]
    }
   ],
   "source": [
    "print(type(h1))\n",
    "print(type(h2))\n",
    "print(type(h3))"
   ]
  },
  {
   "cell_type": "code",
   "execution_count": null,
   "metadata": {
    "id": "qjbp5JDDiRMf"
   },
   "outputs": [],
   "source": [
    "v='4364675866878789'"
   ]
  },
  {
   "cell_type": "code",
   "execution_count": null,
   "metadata": {
    "id": "kW0-YUjCiRMg",
    "outputId": "4d60cf3d-f705-40ee-f50b-12d7f08ff0f9"
   },
   "outputs": [
    {
     "name": "stdout",
     "output_type": "stream",
     "text": [
      "<class 'str'>\n"
     ]
    }
   ],
   "source": [
    "print(type(v))"
   ]
  },
  {
   "cell_type": "code",
   "execution_count": null,
   "metadata": {
    "id": "ZXWnRRpSiRMh",
    "outputId": "4cf4c106-e5e0-4e20-e510-aae50690e0a4"
   },
   "outputs": [
    {
     "name": "stdout",
     "output_type": "stream",
     "text": [
      "4364675866878789\n"
     ]
    }
   ],
   "source": [
    "print((v))"
   ]
  },
  {
   "cell_type": "code",
   "execution_count": null,
   "metadata": {
    "id": "otix3LKDiRMh",
    "outputId": "f02f73de-c48e-40e9-92ad-05560a119003"
   },
   "outputs": [
    {
     "data": {
      "text/plain": [
       "'4364675866878789'"
      ]
     },
     "execution_count": 24,
     "metadata": {},
     "output_type": "execute_result"
    }
   ],
   "source": [
    "v"
   ]
  },
  {
   "cell_type": "code",
   "execution_count": null,
   "metadata": {
    "id": "n5uNTmjRiRMi"
   },
   "outputs": [],
   "source": [
    "c=1+3j"
   ]
  },
  {
   "cell_type": "code",
   "execution_count": null,
   "metadata": {
    "id": "vagX_viliRMi",
    "outputId": "00d967c1-5a8a-4907-bcf2-f92e7587c03c"
   },
   "outputs": [
    {
     "data": {
      "text/plain": [
       "(1+3j)"
      ]
     },
     "execution_count": 27,
     "metadata": {},
     "output_type": "execute_result"
    }
   ],
   "source": [
    "c"
   ]
  },
  {
   "cell_type": "code",
   "execution_count": null,
   "metadata": {
    "id": "PoV-8QNpiRMi",
    "outputId": "5a1ace5d-2a41-422d-fa2e-3e15a1b3c615"
   },
   "outputs": [
    {
     "name": "stdout",
     "output_type": "stream",
     "text": [
      "<class 'complex'>\n"
     ]
    }
   ],
   "source": [
    "print(type(c))"
   ]
  },
  {
   "cell_type": "code",
   "execution_count": null,
   "metadata": {
    "id": "LdzBdVw9iRMj",
    "outputId": "553bdfe8-0899-4ee8-c9ce-b109c5ffa883"
   },
   "outputs": [
    {
     "name": "stdout",
     "output_type": "stream",
     "text": [
      "welcome to brilliant\n"
     ]
    }
   ],
   "source": [
    "str = 'welcome to brilliant'\n",
    "print(str)"
   ]
  },
  {
   "cell_type": "code",
   "execution_count": null,
   "metadata": {
    "id": "dcGyBrIriRMj",
    "outputId": "5efaa538-56ac-45c8-8167-ed70443ddc69"
   },
   "outputs": [
    {
     "name": "stdout",
     "output_type": "stream",
     "text": [
      "we\n",
      "r\n",
      "ome to br\n"
     ]
    }
   ],
   "source": [
    "print(str[0:2])\n",
    "print(str[12])\n",
    "print(str[4:13])"
   ]
  },
  {
   "cell_type": "code",
   "execution_count": null,
   "metadata": {
    "id": "BWv5EZckiRMj"
   },
   "outputs": [],
   "source": [
    "list1 = [1,'hii','python',5.8]"
   ]
  },
  {
   "cell_type": "code",
   "execution_count": null,
   "metadata": {
    "id": "CbMth5c7iRMj",
    "outputId": "e5a2d1e6-8371-4014-ffa5-bb96c21c4fa0"
   },
   "outputs": [
    {
     "data": {
      "text/plain": [
       "[1, 'hii', 'python', 5.8]"
      ]
     },
     "execution_count": 43,
     "metadata": {},
     "output_type": "execute_result"
    }
   ],
   "source": [
    "list1"
   ]
  },
  {
   "cell_type": "code",
   "execution_count": null,
   "metadata": {
    "id": "vEykHvlwiRMj",
    "outputId": "c4891085-c622-4b11-9fcc-24b13ab4e166"
   },
   "outputs": [
    {
     "name": "stdout",
     "output_type": "stream",
     "text": [
      "5.8\n"
     ]
    }
   ],
   "source": [
    "# indexing\n",
    "print(list1[3])"
   ]
  },
  {
   "cell_type": "code",
   "execution_count": null,
   "metadata": {
    "id": "hVsWNDUHiRMk",
    "outputId": "37eef9f3-bb6b-457b-ca0e-27ee46a563e2"
   },
   "outputs": [
    {
     "name": "stdout",
     "output_type": "stream",
     "text": [
      "['hii', 'python']\n"
     ]
    }
   ],
   "source": [
    "# slicing\n",
    "print(list1[1:3])"
   ]
  },
  {
   "cell_type": "code",
   "execution_count": null,
   "metadata": {
    "id": "nhVnygzgiRMk"
   },
   "outputs": [],
   "source": [
    "list2 = ['4556','ewelcome',89,6.9]"
   ]
  },
  {
   "cell_type": "code",
   "execution_count": null,
   "metadata": {
    "id": "rD0_A6VjiRMk",
    "outputId": "42f57891-0b71-480a-cfd6-e94cbe21c56a"
   },
   "outputs": [
    {
     "data": {
      "text/plain": [
       "['4556', 'ewelcome', 89, 6.9]"
      ]
     },
     "execution_count": 54,
     "metadata": {},
     "output_type": "execute_result"
    }
   ],
   "source": [
    "list2"
   ]
  },
  {
   "cell_type": "code",
   "execution_count": null,
   "metadata": {
    "id": "SyGhszf3iRMk",
    "outputId": "1eba4165-ea40-4241-80b2-a869ec27c753"
   },
   "outputs": [
    {
     "name": "stdout",
     "output_type": "stream",
     "text": [
      "[1, 'hii', 'python', 5.8, '4556', 'ewelcome', 89, 6.9]\n"
     ]
    }
   ],
   "source": [
    "print(list1+list2)"
   ]
  },
  {
   "cell_type": "code",
   "execution_count": null,
   "metadata": {
    "id": "L8DzEawriRMk",
    "outputId": "d91cab2e-f400-402b-8a0d-d0edaa8be137"
   },
   "outputs": [
    {
     "name": "stdout",
     "output_type": "stream",
     "text": [
      "[1, 'hii', 'python', 5.8, 1, 'hii', 'python', 5.8, 1, 'hii', 'python', 5.8]\n"
     ]
    }
   ],
   "source": [
    "print(list1*3)"
   ]
  },
  {
   "cell_type": "code",
   "execution_count": null,
   "metadata": {
    "id": "EG5uOcZ4iRMk",
    "outputId": "d4e85217-8e04-47ba-e027-03c6003742fa"
   },
   "outputs": [
    {
     "name": "stdout",
     "output_type": "stream",
     "text": [
      "[6, 6, 6]\n"
     ]
    }
   ],
   "source": [
    "j=[6]\n",
    "print(j*3)"
   ]
  },
  {
   "cell_type": "code",
   "execution_count": null,
   "metadata": {
    "id": "KRRcDZ7siRMk",
    "outputId": "607b77d9-bf89-4b57-d187-2e79cfe3409a"
   },
   "outputs": [
    {
     "name": "stdout",
     "output_type": "stream",
     "text": [
      "18\n"
     ]
    }
   ],
   "source": [
    "h=6\n",
    "print(h*3)"
   ]
  },
  {
   "cell_type": "code",
   "execution_count": null,
   "metadata": {
    "id": "PSenDTd9iRMl",
    "outputId": "91814980-a684-4e74-c6ba-44d7dba18c83"
   },
   "outputs": [
    {
     "name": "stdout",
     "output_type": "stream",
     "text": [
      "888\n"
     ]
    }
   ],
   "source": [
    "j='8'\n",
    "print(j*3)"
   ]
  },
  {
   "cell_type": "code",
   "execution_count": null,
   "metadata": {
    "id": "VTB04jbyiRMl",
    "outputId": "f06efb93-28da-4159-f140-e04ec2fd02a7"
   },
   "outputs": [
    {
     "name": "stdout",
     "output_type": "stream",
     "text": [
      "24\n"
     ]
    }
   ],
   "source": [
    "j=int('8')\n",
    "print(j*3)"
   ]
  },
  {
   "cell_type": "code",
   "execution_count": null,
   "metadata": {
    "id": "EQTbCVIliRMl",
    "outputId": "00a2c7d3-dfe9-4203-a702-9d1df29e8425"
   },
   "outputs": [
    {
     "name": "stdout",
     "output_type": "stream",
     "text": [
      "6.86.86.8\n"
     ]
    }
   ],
   "source": [
    "j='6.8'\n",
    "print(j*3)"
   ]
  },
  {
   "cell_type": "code",
   "execution_count": null,
   "metadata": {
    "id": "kf53Hu8EiRMl",
    "outputId": "e1c3f5cc-ce2c-4256-85b5-6ee060b98347"
   },
   "outputs": [
    {
     "name": "stdout",
     "output_type": "stream",
     "text": [
      "18.0\n"
     ]
    }
   ],
   "source": [
    "j=float('6')\n",
    "print(j*3)"
   ]
  },
  {
   "cell_type": "code",
   "execution_count": null,
   "metadata": {
    "id": "JgrG5AUZiRMl",
    "outputId": "6789df98-e8b7-43e5-e68f-b48221ef1f1c"
   },
   "outputs": [
    {
     "name": "stdout",
     "output_type": "stream",
     "text": [
      "<class 'float'>\n"
     ]
    }
   ],
   "source": [
    "print(type(j))"
   ]
  },
  {
   "cell_type": "code",
   "execution_count": null,
   "metadata": {
    "id": "26VNMAfQiRMm"
   },
   "outputs": [],
   "source": [
    "tup = ('hi','python',6)"
   ]
  },
  {
   "cell_type": "code",
   "execution_count": null,
   "metadata": {
    "id": "-iWKNyo2iRMm",
    "outputId": "8dd233b5-f12a-408f-d6f4-7c11317578bf"
   },
   "outputs": [
    {
     "name": "stdout",
     "output_type": "stream",
     "text": [
      "('hi', 'python', 6)\n"
     ]
    }
   ],
   "source": [
    "print(tup)"
   ]
  },
  {
   "cell_type": "code",
   "execution_count": null,
   "metadata": {
    "id": "-OdkfFpjiRMm",
    "outputId": "1a480de0-4f7a-40c7-c247-bc458e9df126"
   },
   "outputs": [
    {
     "name": "stdout",
     "output_type": "stream",
     "text": [
      "<class 'tuple'>\n"
     ]
    }
   ],
   "source": [
    "print(type(tup))"
   ]
  },
  {
   "cell_type": "code",
   "execution_count": null,
   "metadata": {
    "id": "SvnC-cFoiRMm",
    "outputId": "abb2caaa-14bb-43ff-c8f1-54ea4a1077c5"
   },
   "outputs": [
    {
     "data": {
      "text/plain": [
       "6"
      ]
     },
     "execution_count": 73,
     "metadata": {},
     "output_type": "execute_result"
    }
   ],
   "source": [
    "tup[2]"
   ]
  },
  {
   "cell_type": "code",
   "execution_count": null,
   "metadata": {
    "id": "vNusouwsiRMq",
    "outputId": "7ac54a2f-33ac-4a2c-a987-f85359684871"
   },
   "outputs": [
    {
     "data": {
      "text/plain": [
       "'d'"
      ]
     },
     "execution_count": 76,
     "metadata": {},
     "output_type": "execute_result"
    }
   ],
   "source": [
    "t1 = (\"fghfhfdsgfdgddgdhhg\")\n",
    "t1[6]"
   ]
  },
  {
   "cell_type": "code",
   "execution_count": null,
   "metadata": {
    "id": "NIsq25OHiRMr"
   },
   "outputs": [],
   "source": [
    "d1={1:'jimmi',2:'alex',3:'john',4:'mike'}"
   ]
  },
  {
   "cell_type": "code",
   "execution_count": null,
   "metadata": {
    "id": "JcX7Ojn4iRMr",
    "outputId": "b8af9e6b-f362-4b56-ef35-e9be621e87e8"
   },
   "outputs": [
    {
     "name": "stdout",
     "output_type": "stream",
     "text": [
      "{1: 'jimmi', 2: 'alex', 3: 'john', 4: 'mike'}\n"
     ]
    }
   ],
   "source": [
    "print(d1)"
   ]
  },
  {
   "cell_type": "code",
   "execution_count": null,
   "metadata": {
    "id": "HhMMlOrMiRMr",
    "outputId": "5ab00356-5c08-4b85-e5fc-e3c46c7dbe81"
   },
   "outputs": [
    {
     "name": "stdout",
     "output_type": "stream",
     "text": [
      "dict_keys([1, 2, 3, 4])\n"
     ]
    }
   ],
   "source": [
    "print(d1.keys())"
   ]
  },
  {
   "cell_type": "code",
   "execution_count": null,
   "metadata": {
    "id": "SQrJcqdQiRMr",
    "outputId": "6ea8b028-6e40-4d29-a7ba-ddacf4286224"
   },
   "outputs": [
    {
     "name": "stdout",
     "output_type": "stream",
     "text": [
      "dict_values(['jimmi', 'alex', 'john', 'mike'])\n"
     ]
    }
   ],
   "source": [
    "print(d1.values())"
   ]
  },
  {
   "cell_type": "code",
   "execution_count": null,
   "metadata": {
    "id": "M_DvbeB2iRMr"
   },
   "outputs": [],
   "source": [
    "d1={1:'jimmi',2:'alex',3:'john',4:'mike'}"
   ]
  },
  {
   "cell_type": "code",
   "execution_count": null,
   "metadata": {
    "id": "CmtYbPgWiRMs",
    "outputId": "f2c8e470-9fb4-4b1a-8221-cfa964cd7da4"
   },
   "outputs": [
    {
     "name": "stdout",
     "output_type": "stream",
     "text": [
      "jimmi\n"
     ]
    }
   ],
   "source": [
    "print(d1[1])"
   ]
  },
  {
   "cell_type": "code",
   "execution_count": null,
   "metadata": {
    "id": "G1DIvTgfiRMs"
   },
   "outputs": [],
   "source": []
  }
 ],
 "metadata": {
  "colab": {
   "provenance": []
  },
  "kernelspec": {
   "display_name": "Python 3 (ipykernel)",
   "language": "python",
   "name": "python3"
  },
  "language_info": {
   "codemirror_mode": {
    "name": "ipython",
    "version": 3
   },
   "file_extension": ".py",
   "mimetype": "text/x-python",
   "name": "python",
   "nbconvert_exporter": "python",
   "pygments_lexer": "ipython3",
   "version": "3.10.7"
  }
 },
 "nbformat": 4,
 "nbformat_minor": 4
}
