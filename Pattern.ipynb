{
 "cells": [
  {
   "cell_type": "markdown",
   "id": "f83d0431",
   "metadata": {},
   "source": [
    "# # Q. Write a program to dispaly *'s in Right angled triangled form"
   ]
  },
  {
   "cell_type": "raw",
   "id": "42fed16c",
   "metadata": {},
   "source": [
    "* \n",
    "* * \n",
    "* * * \n",
    "* * * * \n",
    "* * * * * \n",
    "* * * * * * \n",
    "* * * * * * *"
   ]
  },
  {
   "cell_type": "code",
   "execution_count": 27,
   "id": "85fcea78",
   "metadata": {},
   "outputs": [
    {
     "name": "stdout",
     "output_type": "stream",
     "text": [
      "*\n",
      "* *\n",
      "* * *\n",
      "* * * *\n",
      "* * * * *\n",
      "* * * * * *\n",
      "* * * * * * *\n"
     ]
    }
   ],
   "source": [
    "n=7\n",
    "for i in range(n):\n",
    "    for j in range(1,i+1):\n",
    "        print(\"*\",end=\" \")\n",
    "    print(\"*\")"
   ]
  },
  {
   "cell_type": "code",
   "execution_count": 2,
   "id": "6f2264b2",
   "metadata": {},
   "outputs": [
    {
     "name": "stdout",
     "output_type": "stream",
     "text": [
      "Enter number of rows:5\n",
      "* \n",
      "* * \n",
      "* * * \n",
      "* * * * \n",
      "* * * * * \n"
     ]
    }
   ],
   "source": [
    "n = int(input(\"Enter number of rows:\")) \n",
    "for i in range(1,n+1): \n",
    "    for j in range(1,i+1): \n",
    "        print(\"*\",end=\" \") \n",
    "    print() \n"
   ]
  },
  {
   "cell_type": "code",
   "execution_count": 1,
   "id": "78bbcab5",
   "metadata": {},
   "outputs": [
    {
     "name": "stdout",
     "output_type": "stream",
     "text": [
      "* \n",
      "* * \n",
      "* * * \n",
      "* * * * \n",
      "* * * * * \n",
      "* * * * * * \n"
     ]
    }
   ],
   "source": [
    "# Alternative way:\n",
    "n = int(input(\"Enter number of rows:\")) \n",
    "for i in range(1,n+1): \n",
    "    print(\"* \" * i) "
   ]
  },
  {
   "cell_type": "raw",
   "id": "8f0b56da",
   "metadata": {},
   "source": [
    "Q. Write a program to display *'s in pyramid style(also known as equivalent triangle)\n",
    "1) * \n",
    "2) * * \n",
    "3) * * * \n",
    "4) * * * * \n",
    "5) * * * * * \n",
    "6) * * * * * * \n",
    "7) * * * * * * *"
   ]
  },
  {
   "cell_type": "code",
   "execution_count": 5,
   "id": "271a9a60",
   "metadata": {},
   "outputs": [
    {
     "name": "stdout",
     "output_type": "stream",
     "text": [
      "Enter number of rows:5\n",
      "    * \n",
      "   * * \n",
      "  * * * \n",
      " * * * * \n",
      "* * * * * \n"
     ]
    }
   ],
   "source": [
    "n = int(input(\"Enter number of rows:\")) \n",
    "for i in range(1,n+1): \n",
    "    print(\" \" * (n-i),end=\"\") \n",
    "    print(\"* \"*i)"
   ]
  },
  {
   "cell_type": "code",
   "execution_count": 52,
   "id": "5230ecc7",
   "metadata": {},
   "outputs": [
    {
     "name": "stdout",
     "output_type": "stream",
     "text": [
      "0\n",
      "1 1\n",
      "2 2 2\n",
      "3 3 3 3\n",
      "4 4 4 4 4\n"
     ]
    }
   ],
   "source": [
    "n=5\n",
    "for i in range(n):\n",
    "    for j in range(1,i+1):\n",
    "        print(i,end=\" \")\n",
    "    print(i)"
   ]
  },
  {
   "cell_type": "code",
   "execution_count": 53,
   "id": "174990d1",
   "metadata": {},
   "outputs": [
    {
     "data": {
      "text/plain": [
       "768"
      ]
     },
     "execution_count": 53,
     "metadata": {},
     "output_type": "execute_result"
    }
   ],
   "source": [
    "s=4**4\n",
    "b=4**4\n",
    "v=4**4\n",
    "f=s+b+v\n",
    "f"
   ]
  },
  {
   "cell_type": "code",
   "execution_count": 54,
   "id": "281785a5",
   "metadata": {},
   "outputs": [
    {
     "name": "stdout",
     "output_type": "stream",
     "text": [
      "768\n"
     ]
    }
   ],
   "source": [
    "print(3*4**4)"
   ]
  },
  {
   "cell_type": "code",
   "execution_count": null,
   "id": "d16ad9ce",
   "metadata": {},
   "outputs": [],
   "source": []
  }
 ],
 "metadata": {
  "kernelspec": {
   "display_name": "Python 3 (ipykernel)",
   "language": "python",
   "name": "python3"
  },
  "language_info": {
   "codemirror_mode": {
    "name": "ipython",
    "version": 3
   },
   "file_extension": ".py",
   "mimetype": "text/x-python",
   "name": "python",
   "nbconvert_exporter": "python",
   "pygments_lexer": "ipython3",
   "version": "3.10.7"
  }
 },
 "nbformat": 4,
 "nbformat_minor": 5
}
