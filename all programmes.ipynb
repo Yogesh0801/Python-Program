{
 "cells": [
  {
   "cell_type": "code",
   "execution_count": null,
   "id": "b8a6a848",
   "metadata": {},
   "outputs": [],
   "source": [
    "#palindrome\n",
    "s = input(\"enter a value or string:\")\n",
    "reverse = s[::-1]\n",
    "if(s==reverse):\n",
    "    print(\"palindrome\")\n",
    "else:\n",
    "    print(\"not a palindrome]\")"
   ]
  },
  {
   "cell_type": "code",
   "execution_count": null,
   "id": "b3bdddb9",
   "metadata": {},
   "outputs": [],
   "source": [
    "num = int(input(\"enter a number: \"))\n",
    "reversed_num = 0\n",
    "\n",
    "while num != 0:\n",
    "    digit = num % 10\n",
    "    reversed_num = reversed_num * 10 + digit\n",
    "    num //=10\n",
    "\n",
    "print(\"Reversed Number: \" + str(reversed_num))"
   ]
  },
  {
   "cell_type": "code",
   "execution_count": null,
   "id": "2e6f58ee",
   "metadata": {},
   "outputs": [],
   "source": [
    "125%10"
   ]
  },
  {
   "cell_type": "code",
   "execution_count": null,
   "id": "55f3503f",
   "metadata": {},
   "outputs": [],
   "source": [
    "# reversed_num = reversed_num * 10 + digit\n",
    "                                 0   +5\n",
    "               5\n",
    "        \n",
    "        "
   ]
  },
  {
   "cell_type": "code",
   "execution_count": null,
   "id": "f8b03bfc",
   "metadata": {},
   "outputs": [],
   "source": [
    "125//10"
   ]
  },
  {
   "cell_type": "code",
   "execution_count": null,
   "id": "0f682066",
   "metadata": {},
   "outputs": [],
   "source": [
    "def maxArea(height):\n",
    "    max_area=0\n",
    "    l = 0\n",
    "    r=len(height)-1\n",
    "    while l<r:\n",
    "        area=(r-l)*min(height[r],height[l])\n",
    "        max_area = max(max_area,area)\n",
    "        if height[l]<height[r]:\n",
    "            l +=1\n",
    "        else:\n",
    "            r -= 1\n",
    "    return max_area"
   ]
  },
  {
   "cell_type": "code",
   "execution_count": 11,
   "id": "2de1ce5d",
   "metadata": {},
   "outputs": [
    {
     "name": "stdout",
     "output_type": "stream",
     "text": [
      "6\n",
      "12\n"
     ]
    }
   ],
   "source": [
    "# Water Container\n",
    "def maxArea(A, Len) :\n",
    "    area = 0\n",
    "    for i in range(Len) :\n",
    "        for j in range(i + 1, Len) :\n",
    "            # Calculating the max area\n",
    "            area = max(area, min(A[j], A[i]) * (j - i))\n",
    "    return area\n",
    "\n",
    "# Driver code\n",
    "a = [ 1, 5, 4, 3 ]\n",
    "b = [ 3, 1, 2, 4, 5 ]\n",
    "\n",
    "len1 = len(a)\n",
    "print(maxArea(a, len1))\n",
    "\n",
    "len2 = len(b)\n",
    "print(maxArea(b, len2))\n",
    "\n"
   ]
  },
  {
   "cell_type": "code",
   "execution_count": 12,
   "id": "5cd02644",
   "metadata": {},
   "outputs": [],
   "source": [
    "def isValid(s):\n",
    "    stack = []\n",
    "    pairs = {\n",
    "        '(':')',\n",
    "        '{':'}',\n",
    "        '[':']'\n",
    "    }\n",
    "    for bracket in s:\n",
    "        if bracket in pairs:\n",
    "            stack.append(bracket)\n",
    "        elif len(stack) == 0 or \\\n",
    "             bracket != pairs[stack.pop()]:\n",
    "            return False\n",
    "    return len(stack) == 0"
   ]
  },
  {
   "cell_type": "raw",
   "id": "b52d5db0",
   "metadata": {},
   "source": [
    "Given an integer array nums, move all 0's to the end of it while maintaining the relative order of the non-zero elements.\n",
    "\n",
    "Note that you must do this in-place without making a copy of the array.\n",
    "\n",
    " \n",
    "\n",
    "Example 1:\n",
    "\n",
    "Input: nums = [0,1,0,3,12]\n",
    "Output: [1,3,12,0,0]\n",
    "Example 2:\n",
    "\n",
    "Input: nums = [0]\n",
    "Output: [0]\n",
    " \n",
    "\n",
    "Constraints:\n",
    "\n",
    "1 <= nums.length <= 104\n",
    "-231 <= nums[i] <= 231 - 1\n",
    " \n",
    "\n",
    "Follow up: Could you minimize the total number of operations done?\n",
    "\n",
    "\n",
    "\n",
    "\n",
    " def moveZeroes(self, nums):\n",
    "        \"\"\"\n",
    "        :type nums: List[int]\n",
    "        :rtype: None Do not return anything, modify nums in-place instead.\n",
    "        \"\"\""
   ]
  },
  {
   "cell_type": "code",
   "execution_count": 24,
   "id": "29bd4ce5",
   "metadata": {},
   "outputs": [
    {
     "name": "stdout",
     "output_type": "stream",
     "text": [
      "The value of x after swapping: 10\n",
      "The value of y after swapping: 5\n"
     ]
    }
   ],
   "source": [
    "# Python program to swap two variables\n",
    "\n",
    "x = 5\n",
    "y = 10\n",
    "\n",
    "# To take inputs from the user\n",
    "#x = input('Enter value of x: ')\n",
    "#y = input('Enter value of y: ')\n",
    "\n",
    "# create a temporary variable and swap the values\n",
    "temp = x #temp = 5 \n",
    "x = y #x=10\n",
    "y = temp #y = 5\n",
    "\n",
    "print('The value of x after swapping: {}'.format(x))\n",
    "print('The value of y after swapping: {}'.format(y))\n"
   ]
  },
  {
   "cell_type": "code",
   "execution_count": 20,
   "id": "ae7e13e0",
   "metadata": {},
   "outputs": [],
   "source": [
    "def moveZeroes(nums):\n",
    "        \"\"\"\n",
    "        :type nums: List[int]\n",
    "        :rtype: None Do not return anything, modify nums in-place instead.\n",
    "        \"\"\"\n",
    "        prev_idx=0\n",
    "        for i in range(len(nums)):\n",
    "            if nums[i]!=0:\n",
    "                #[5,0,8,2,0,1,3]\n",
    "                hold = nums[prev_idx] #hold = \n",
    "                nums[prev_idx]=nums[i] # nums[prev_idx]=\n",
    "                nums[i]=hold #nums[i]=1\n",
    "                prev_idx +=1\n",
    "        return nums\n",
    "                "
   ]
  },
  {
   "cell_type": "code",
   "execution_count": 25,
   "id": "13462a9d",
   "metadata": {},
   "outputs": [
    {
     "data": {
      "text/plain": [
       "[5, 8, 2, 1, 3, 0, 0]"
      ]
     },
     "execution_count": 25,
     "metadata": {},
     "output_type": "execute_result"
    }
   ],
   "source": [
    "moveZeroes(nums=[5,0,8,2,0,1,3])"
   ]
  },
  {
   "cell_type": "raw",
   "id": "93b9c709",
   "metadata": {},
   "source": [
    "Invert a binary tree.\n",
    "\n",
    "Example:\n",
    "\n",
    "Input:\n",
    "\n",
    "     4\n",
    "   /   \\\n",
    "  2     7\n",
    " / \\   / \\\n",
    "1   3 6   9\n",
    "Output:\n",
    "\n",
    "     4\n",
    "   /   \\\n",
    "  7     2\n",
    " / \\   / \\\n",
    "9   6 3   1"
   ]
  },
  {
   "cell_type": "code",
   "execution_count": 26,
   "id": "d34047a8",
   "metadata": {},
   "outputs": [
    {
     "ename": "IndentationError",
     "evalue": "expected an indented block after function definition on line 2 (2111138828.py, line 4)",
     "output_type": "error",
     "traceback": [
      "\u001b[1;36m  Cell \u001b[1;32mIn[26], line 4\u001b[1;36m\u001b[0m\n\u001b[1;33m    reverseNodes()#pass the whole tree end root\u001b[0m\n\u001b[1;37m                                               ^\u001b[0m\n\u001b[1;31mIndentationError\u001b[0m\u001b[1;31m:\u001b[0m expected an indented block after function definition on line 2\n"
     ]
    }
   ],
   "source": [
    "def invertTree(root):\n",
    "    def reverseNodes(node):\n",
    "        \n",
    "reverseNodes()#pass the whole tree end root\n",
    "return root"
   ]
  },
  {
   "cell_type": "code",
   "execution_count": 44,
   "id": "d3fc3c55",
   "metadata": {},
   "outputs": [],
   "source": [
    "def invertTree(root):\n",
    "        if not root: #Base Case\n",
    "            return root\n",
    "        invertTree(root.left) #Call the left substree\n",
    "        invertTree(root.right)  #Call the right substree\n",
    "        # Swap the nodes\n",
    "        root.left, root.right = root.right, root.left\n",
    "        return root # Return the root"
   ]
  },
  {
   "cell_type": "code",
   "execution_count": 45,
   "id": "36d3c51a",
   "metadata": {},
   "outputs": [
    {
     "ename": "AttributeError",
     "evalue": "'list' object has no attribute 'left'",
     "output_type": "error",
     "traceback": [
      "\u001b[1;31m---------------------------------------------------------------------------\u001b[0m",
      "\u001b[1;31mAttributeError\u001b[0m                            Traceback (most recent call last)",
      "Cell \u001b[1;32mIn[45], line 1\u001b[0m\n\u001b[1;32m----> 1\u001b[0m invertTree(root \u001b[38;5;241m=\u001b[39m [\u001b[38;5;241m4\u001b[39m,\u001b[38;5;241m2\u001b[39m,\u001b[38;5;241m7\u001b[39m,\u001b[38;5;241m1\u001b[39m,\u001b[38;5;241m3\u001b[39m,\u001b[38;5;241m6\u001b[39m,\u001b[38;5;241m9\u001b[39m])\n",
      "Cell \u001b[1;32mIn[44], line 4\u001b[0m, in \u001b[0;36minvertTree\u001b[1;34m(root)\u001b[0m\n\u001b[0;32m      2\u001b[0m \u001b[38;5;28;01mif\u001b[39;00m \u001b[38;5;129;01mnot\u001b[39;00m root: \u001b[38;5;66;03m#Base Case\u001b[39;00m\n\u001b[0;32m      3\u001b[0m     \u001b[38;5;28;01mreturn\u001b[39;00m root\n\u001b[1;32m----> 4\u001b[0m invertTree(root\u001b[38;5;241m.\u001b[39mleft) \u001b[38;5;66;03m#Call the left substree\u001b[39;00m\n\u001b[0;32m      5\u001b[0m invertTree(root\u001b[38;5;241m.\u001b[39mright)  \u001b[38;5;66;03m#Call the right substree\u001b[39;00m\n\u001b[0;32m      6\u001b[0m \u001b[38;5;66;03m# Swap the nodes\u001b[39;00m\n",
      "\u001b[1;31mAttributeError\u001b[0m: 'list' object has no attribute 'left'"
     ]
    }
   ],
   "source": [
    "invertTree(root = [4,2,7,1,3,6,9])"
   ]
  },
  {
   "cell_type": "code",
   "execution_count": 50,
   "id": "8becbc83",
   "metadata": {},
   "outputs": [],
   "source": [
    "def maxProfit(prices):\n",
    "        left = 0 #Buy\n",
    "        right = 1 #Sell\n",
    "        max_profit = 0\n",
    "        while right < len(prices):\n",
    "            currentProfit = prices[right] - prices[left] #our current Profit\n",
    "            if prices[left] < prices[right]:\n",
    "                max_profit =max(currentProfit,max_profit)\n",
    "            else:\n",
    "                left = right\n",
    "            right += 1\n",
    "        return max_profit"
   ]
  },
  {
   "cell_type": "code",
   "execution_count": 51,
   "id": "1173c799",
   "metadata": {},
   "outputs": [
    {
     "data": {
      "text/plain": [
       "5"
      ]
     },
     "execution_count": 51,
     "metadata": {},
     "output_type": "execute_result"
    }
   ],
   "source": [
    "maxProfit(prices=[7,1,5,3,6,4])"
   ]
  },
  {
   "cell_type": "code",
   "execution_count": 47,
   "id": "655c16a8",
   "metadata": {},
   "outputs": [],
   "source": [
    "def maxProfit(s: list[int]) -> int:\n",
    "    left = 0\n",
    "    right = len(s)-1\n",
    "    while left <right:\n",
    "        hold = s[left]\n",
    "        s[left]= s[right]\n",
    "        s[right] = hold\n",
    "        left +=1\n",
    "        right -=1\n",
    "    return s"
   ]
  },
  {
   "cell_type": "code",
   "execution_count": 46,
   "id": "0aa3faf1",
   "metadata": {},
   "outputs": [
    {
     "name": "stdout",
     "output_type": "stream",
     "text": [
      "[4, 6, 3, 5, 1, 7]\n"
     ]
    }
   ],
   "source": [
    "print(reverseString(s=[7,1,5,3,6,4]))"
   ]
  },
  {
   "cell_type": "code",
   "execution_count": null,
   "id": "8f87ef39",
   "metadata": {},
   "outputs": [],
   "source": [
    "maxProfit"
   ]
  },
  {
   "attachments": {
    "c0c86dc7-f7fa-4be7-85f9-61e629aa67ae_1643686591.6894035.jpeg": {
     "image/jpeg": "[encoded data removed]"
    }
   },
   "cell_type": "markdown",
   "id": "85c4a21f",
   "metadata": {},
   "source": [
    "![c0c86dc7-f7fa-4be7-85f9-61e629aa67ae_1643686591.6894035.jpeg](attachment:c0c86dc7-f7fa-4be7-85f9-61e629aa67ae_1643686591.6894035.jpeg)"
   ]
  },
  {
   "cell_type": "code",
   "execution_count": null,
   "id": "f4709d85",
   "metadata": {},
   "outputs": [],
   "source": [
    "def maxProfit():\n",
    "    min_price = float\n",
    "    "
   ]
  }
 ],
 "metadata": {
  "kernelspec": {
   "display_name": "Python 3 (ipykernel)",
   "language": "python",
   "name": "python3"
  },
  "language_info": {
   "codemirror_mode": {
    "name": "ipython",
    "version": 3
   },
   "file_extension": ".py",
   "mimetype": "text/x-python",
   "name": "python",
   "nbconvert_exporter": "python",
   "pygments_lexer": "ipython3",
   "version": "3.7.0"
  }
 },
 "nbformat": 4,
 "nbformat_minor": 5
}
