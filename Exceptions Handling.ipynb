{
 "cells": [
  {
   "cell_type": "code",
   "execution_count": 1,
   "id": "88fdb10b",
   "metadata": {},
   "outputs": [
    {
     "name": "stdout",
     "output_type": "stream",
     "text": [
      "stmt-1\n"
     ]
    },
    {
     "ename": "ZeroDivisionError",
     "evalue": "division by zero",
     "output_type": "error",
     "traceback": [
      "\u001b[1;31m---------------------------------------------------------------------------\u001b[0m",
      "\u001b[1;31mZeroDivisionError\u001b[0m                         Traceback (most recent call last)",
      "\u001b[1;32m~\\AppData\\Local\\Temp\\ipykernel_33100\\2988675412.py\u001b[0m in \u001b[0;36m<module>\u001b[1;34m\u001b[0m\n\u001b[0;32m      2\u001b[0m \u001b[1;33m\u001b[0m\u001b[0m\n\u001b[0;32m      3\u001b[0m \u001b[0mprint\u001b[0m\u001b[1;33m(\u001b[0m\u001b[1;34m\"stmt-1\"\u001b[0m\u001b[1;33m)\u001b[0m\u001b[1;33m\u001b[0m\u001b[0m\n\u001b[1;32m----> 4\u001b[1;33m \u001b[0mprint\u001b[0m\u001b[1;33m(\u001b[0m\u001b[1;36m10\u001b[0m\u001b[1;33m/\u001b[0m\u001b[1;36m0\u001b[0m\u001b[1;33m)\u001b[0m\u001b[1;33m\u001b[0m\u001b[0m\n\u001b[0m\u001b[0;32m      5\u001b[0m \u001b[0mprint\u001b[0m\u001b[1;33m(\u001b[0m\u001b[1;34m\"stmt-3\"\u001b[0m\u001b[1;33m)\u001b[0m\u001b[1;33m\u001b[0m\u001b[0m\n\u001b[0;32m      6\u001b[0m \u001b[1;33m\u001b[0m\u001b[0m\n",
      "\u001b[1;31mZeroDivisionError\u001b[0m: division by zero"
     ]
    }
   ],
   "source": [
    "#without try-except:\n",
    "\n",
    "print(\"stmt-1\") \n",
    "print(10/0) \n",
    "print(\"stmt-3\") \n",
    "\n",
    " \n",
    "# ZeroDivisionError: division by zero"
   ]
  },
  {
   "cell_type": "code",
   "execution_count": 2,
   "id": "16ef7b3d",
   "metadata": {},
   "outputs": [
    {
     "name": "stdout",
     "output_type": "stream",
     "text": [
      "stmt-1\n",
      "5.0\n",
      "stmt-3\n"
     ]
    }
   ],
   "source": [
    "# with try-except:\n",
    "print(\"stmt-1\") \n",
    "try: \n",
    "    print(10/0) \n",
    "except ZeroDivisionError: \n",
    "    print(10/2) \n",
    "    print(\"stmt-3\")"
   ]
  },
  {
   "cell_type": "code",
   "execution_count": 5,
   "id": "cc0b089e",
   "metadata": {},
   "outputs": [
    {
     "name": "stdout",
     "output_type": "stream",
     "text": [
      "0.8764044943820225\n"
     ]
    }
   ],
   "source": [
    "# If try with multiple except blocks available then based on raised exception the \n",
    "# corresponding except block will be executed.\n",
    "try: \n",
    "    x=int(input(\"Enter First Number: \")) \n",
    "    y=int(input(\"Enter Second Number: \")) \n",
    "    print(x/y) \n",
    "except ZeroDivisionError : \n",
    "    print(\"Can't Divide with Zero\") \n",
    "except ValueError: \n",
    "    print(\"please provide int value only\")"
   ]
  },
  {
   "cell_type": "code",
   "execution_count": null,
   "id": "583ad787",
   "metadata": {},
   "outputs": [],
   "source": [
    "# If try with multiple except blocks available then the order of these except blocks is \n",
    "# important .Python interpreter will always consider from top to bottom until matched \n",
    "# except block identified.\n",
    "# Eg:\n",
    "try: \n",
    "    x=int(input(\"Enter First Number: \")) \n",
    "    y=int(input(\"Enter Second Number: \")) \n",
    "    print(x/y) \n",
    "except ArithmeticError : \n",
    "    print(\"ArithmeticError\") \n",
    "except ZeroDivisionError: \n",
    "    print(\"ZeroDivisionError\")"
   ]
  },
  {
   "cell_type": "code",
   "execution_count": 2,
   "id": "2085b955",
   "metadata": {},
   "outputs": [],
   "source": [
    "# finally block:\n",
    "# Hence the main purpose of finally block is to maintain clean up code."
   ]
  },
  {
   "cell_type": "code",
   "execution_count": 7,
   "id": "a399bd18",
   "metadata": {},
   "outputs": [
    {
     "name": "stdout",
     "output_type": "stream",
     "text": [
      "Risky Code\n",
      "Cleanup code\n"
     ]
    }
   ],
   "source": [
    "try:\n",
    "    print('Risky Code')\n",
    "except:\n",
    "    print(\"Handling Code\")\n",
    "finally:\n",
    "    print(\"Cleanup code\")"
   ]
  },
  {
   "cell_type": "code",
   "execution_count": null,
   "id": "4b96e7a0",
   "metadata": {},
   "outputs": [],
   "source": []
  }
 ],
 "metadata": {
  "kernelspec": {
   "display_name": "Python 3 (ipykernel)",
   "language": "python",
   "name": "python3"
  },
  "language_info": {
   "codemirror_mode": {
    "name": "ipython",
    "version": 3
   },
   "file_extension": ".py",
   "mimetype": "text/x-python",
   "name": "python",
   "nbconvert_exporter": "python",
   "pygments_lexer": "ipython3",
   "version": "3.7.0"
  }
 },
 "nbformat": 4,
 "nbformat_minor": 5
}
