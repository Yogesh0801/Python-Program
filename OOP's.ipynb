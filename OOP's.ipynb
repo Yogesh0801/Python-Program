{
 "cells": [
  {
   "cell_type": "markdown",
   "id": "3d03f736",
   "metadata": {},
   "source": [
    "# Python's Object Oriented Programming (OOPs)\n"
   ]
  },
  {
   "cell_type": "markdown",
   "id": "39d4ce5f",
   "metadata": {},
   "source": [
    "## What is Class: \n",
    "⚽ In Python every thing is an object. To create objects we required some Model or Plan or Blue \n",
    "print, which is nothing but class.\n",
    "⚽ We can write a class to represent properties (attributes) and actions (behaviour) of object.\n",
    "⚽ Properties can be represented by variables\n",
    "⚽ Actions can be represented by Methods.\n",
    "⚽ Hence class contains both variables and methods."
   ]
  },
  {
   "cell_type": "code",
   "execution_count": 2,
   "id": "da98bc43",
   "metadata": {},
   "outputs": [
    {
     "name": "stdout",
     "output_type": "stream",
     "text": [
      "'' This is student class with required data\n",
      "Help on class Student in module __main__:\n",
      "\n",
      "class Student(builtins.object)\n",
      " |  '' This is student class with required data\n",
      " |  \n",
      " |  Data descriptors defined here:\n",
      " |  \n",
      " |  __dict__\n",
      " |      dictionary for instance variables (if defined)\n",
      " |  \n",
      " |  __weakref__\n",
      " |      list of weak references to the object (if defined)\n",
      "\n"
     ]
    }
   ],
   "source": [
    "class Student: \n",
    "    ''''' This is student class with required data''' \n",
    "print(Student.__doc__) \n",
    "help(Student) "
   ]
  },
  {
   "cell_type": "raw",
   "id": "f88f83d1",
   "metadata": {},
   "source": [
    "# Within the Python class we can represent data by using variables. \n",
    "There are 3 types of variables are allowed. \n",
    "1. Instance Variables (Object Level Variables)\n",
    "2. Static Variables (Class Level Variables)\n",
    "3. Local variables (Method Level Variables)\n"
   ]
  },
  {
   "cell_type": "raw",
   "id": "60b927bf",
   "metadata": {},
   "source": [
    "# Within the Python class, we can represent operations by using methods. The following are various \n",
    "types of allowed methods\n",
    "1. Instance Methods\n",
    "2. Class Methods \n",
    "3. Static Methods"
   ]
  },
  {
   "cell_type": "code",
   "execution_count": 9,
   "id": "39a9d61a",
   "metadata": {},
   "outputs": [],
   "source": [
    "class Student: \n",
    "    '''''Developed by yogesh for python demo''' \n",
    "    def __init__(self):\n",
    "        self.name='Yogesh' \n",
    "        self.age=25 \n",
    "        self.marks=80 \n",
    "\n",
    "    def talk(self):\n",
    "        print(\"Hello I am :\",self.name) \n",
    "        print(\"My Age is:\",self.age) \n",
    "        print(\"My Marks are:\",self.marks)"
   ]
  },
  {
   "cell_type": "markdown",
   "id": "ec5a41af",
   "metadata": {},
   "source": [
    "# What is Object?\n",
    "# Pysical existence of a class is nothing but object. We can create any number of objects for a class.\n",
    "# Syntax to create object: referencevariable = classname()"
   ]
  },
  {
   "cell_type": "code",
   "execution_count": 11,
   "id": "6695c318",
   "metadata": {},
   "outputs": [
    {
     "name": "stdout",
     "output_type": "stream",
     "text": [
      "Hello I am : Yogesh\n",
      "My Age is: 25\n",
      "My Marks are: 80\n"
     ]
    }
   ],
   "source": [
    "\n",
    "s = Student()\n",
    "s.talk()"
   ]
  },
  {
   "cell_type": "code",
   "execution_count": 4,
   "id": "17d85496",
   "metadata": {},
   "outputs": [],
   "source": [
    "# What is Reference Variable:\n",
    "# The variable which can be used to refer object is called reference variable.\n",
    "# By using reference variable, we can access properties and methods of object."
   ]
  },
  {
   "cell_type": "code",
   "execution_count": 3,
   "id": "6f858538",
   "metadata": {},
   "outputs": [
    {
     "name": "stdout",
     "output_type": "stream",
     "text": [
      "Hello My Name is: yogesh\n",
      "My Rollno is: 101\n",
      "My Marks are: 80\n",
      "yogesh\n",
      "ankit\n"
     ]
    }
   ],
   "source": [
    "#Program: Write a Python program to create a Student class and Creates an object to it. Call the \n",
    "#method talk() to display student details\n",
    "class Student: \n",
    "\n",
    "    def __init__(self,name,rollno,marks): \n",
    "        self.name=name \n",
    "        self.rollno=rollno \n",
    "        self.marks=marks \n",
    "\n",
    "    def talk(self): \n",
    "        print(\"Hello My Name is:\",self.name) \n",
    "        print(\"My Rollno is:\",self.rollno) \n",
    "        print(\"My Marks are:\",self.marks)\n",
    "s1=Student(\"yogesh\",101,80)\n",
    "s2=Student(\"ankit\",102,78) \n",
    "s1.talk()\n",
    "print(s1.name)  # Output: Yashu\n",
    "print(s2.name)"
   ]
  },
  {
   "cell_type": "code",
   "execution_count": 13,
   "id": "d7cea8b2",
   "metadata": {},
   "outputs": [
    {
     "name": "stdout",
     "output_type": "stream",
     "text": [
      "Buddy\n",
      "Golden Retriever\n",
      "Buddy is barking.\n"
     ]
    }
   ],
   "source": [
    "# Define a class\n",
    "class Dog:\n",
    "    # Constructor method to initialize object properties\n",
    "    def __init__(self, name, breed):\n",
    "        self.name = name  # instance variable\n",
    "        self.breed = breed  # instance variable\n",
    "    \n",
    "    # Method to display dog details\n",
    "    def bark(self):\n",
    "        return f\"{self.name} is barking.\"\n",
    "\n",
    "# Create an object (instance) of the Dog class\n",
    "my_dog = Dog(\"Buddy\", \"Golden Retriever\")\n",
    "\n",
    "# Access object properties and methods\n",
    "print(my_dog.name)  # Output: Buddy\n",
    "print(my_dog.breed)  # Output: Golden Retriever\n",
    "print(my_dog.bark())  # Output: Buddy is barking.\n"
   ]
  },
  {
   "cell_type": "code",
   "execution_count": 15,
   "id": "97c7d3b8",
   "metadata": {},
   "outputs": [
    {
     "name": "stdout",
     "output_type": "stream",
     "text": [
      "Toyota\n",
      "Camry\n",
      "2021\n",
      "2021 Toyota Camry\n"
     ]
    }
   ],
   "source": [
    "# Defining a class named 'Car'\n",
    "class Car:\n",
    "    # Method to initialize an object\n",
    "    def __init__(self, make, model, year):\n",
    "        self.make = make  # Attribute to store car make\n",
    "        self.model = model  # Attribute to store car model\n",
    "        self.year = year  # Attribute to store car year\n",
    "\n",
    "    # Method to display car details\n",
    "    def display_info(self):\n",
    "        return f\"{self.year} {self.make} {self.model}\"\n",
    "\n",
    "# No object is created yet, just a blueprint\n",
    "# Creating an object of the Car class\n",
    "my_car = Car(\"Toyota\", \"Camry\", 2021)\n",
    "\n",
    "# Accessing attributes of the object\n",
    "print(my_car.make)   # Output: Toyota\n",
    "print(my_car.model)  # Output: Camry\n",
    "print(my_car.year)   # Output: 2021\n",
    "\n",
    "# Calling a method of the object\n",
    "print(my_car.display_info())  # Output: 2021 Toyota Camry\n"
   ]
  },
  {
   "cell_type": "code",
   "execution_count": 16,
   "id": "bab948cb",
   "metadata": {},
   "outputs": [
    {
     "name": "stdout",
     "output_type": "stream",
     "text": [
      "Yashu\n",
      "25\n",
      "Hello, my name is Yashu and I am 25 years old.\n"
     ]
    }
   ],
   "source": [
    "class Student:\n",
    "    def __init__(self, name, age, student_id):\n",
    "        self.name = name       # Assigning the name to the object\n",
    "        self.age = age         # Assigning the age to the object\n",
    "        self.student_id = student_id  # Assigning the student_id to the object\n",
    "    \n",
    "    def introduce(self):\n",
    "        return f\"Hello, my name is {self.name} and I am {self.age} years old.\"\n",
    "\n",
    "# Creating an object of the Student class\n",
    "student1 = Student(\"Yashu\", 25, \"S12345\")\n",
    "\n",
    "# Accessing the object's attributes\n",
    "print(student1.name)  # Output: Yashu\n",
    "print(student1.age)   # Output: 25\n",
    "\n",
    "# Calling the object's method\n",
    "print(student1.introduce())  # Output: Hello, my name is Yashu and I am 25 years old.\n"
   ]
  },
  {
   "cell_type": "code",
   "execution_count": 17,
   "id": "58207694",
   "metadata": {},
   "outputs": [
    {
     "name": "stdout",
     "output_type": "stream",
     "text": [
      "Yashu\n",
      "Ankit\n"
     ]
    }
   ],
   "source": [
    "# Creating multiple objects\n",
    "student1 = Student(\"Yashu\", 25, \"S12345\")\n",
    "student2 = Student(\"Ankit\", 23, \"S12346\")\n",
    "\n",
    "# Each object has its own attributes\n",
    "print(student1.name)  # Output: Yashu\n",
    "print(student2.name)  # Output: Ankit\n"
   ]
  },
  {
   "cell_type": "code",
   "execution_count": 18,
   "id": "dbdb3d5c",
   "metadata": {},
   "outputs": [
    {
     "name": "stdout",
     "output_type": "stream",
     "text": [
      "26\n"
     ]
    }
   ],
   "source": [
    "# Modify an attribute of the object\n",
    "student1.age = 26\n",
    "\n",
    "# Access the modified attribute\n",
    "print(student1.age)  # Output: 26\n"
   ]
  },
  {
   "cell_type": "code",
   "execution_count": null,
   "id": "773d01fe",
   "metadata": {},
   "outputs": [],
   "source": []
  },
  {
   "cell_type": "code",
   "execution_count": null,
   "id": "8cfa00de",
   "metadata": {},
   "outputs": [],
   "source": []
  },
  {
   "cell_type": "markdown",
   "id": "97e281cf",
   "metadata": {},
   "source": [
    "# Inheritance in Python\n",
    "Inheritance is one of the fundamental concepts in object-oriented programming (OOP). It allows a new class (called a child or derived class) to inherit attributes and methods from an existing class (called a parent or base class)."
   ]
  },
  {
   "cell_type": "markdown",
   "id": "cb02c3f8",
   "metadata": {},
   "source": [
    "# What is Inheritance?\n",
    "Inheritance allows a class to inherit attributes and methods from another class, so you can create a new class that is based on an existing class without modifying the original one."
   ]
  },
  {
   "cell_type": "code",
   "execution_count": 27,
   "id": "d9ad35da",
   "metadata": {},
   "outputs": [
    {
     "name": "stdout",
     "output_type": "stream",
     "text": [
      "Buddy barks.\n"
     ]
    }
   ],
   "source": [
    "# Base class\n",
    "class Animal:\n",
    "    def __init__(self, name):\n",
    "        self.name = name\n",
    "    \n",
    "    def speak(self):\n",
    "        return f\"{self.name} makes a sound.\"\n",
    "\n",
    "# Derived class\n",
    "class Dog(Animal):\n",
    "    def speak(self):\n",
    "        return f\"{self.name} barks.\"\n",
    "\n",
    "# Create an object of the derived class\n",
    "my_dog = Dog(\"Buddy\")\n",
    "print(my_dog.speak())  # Output: Buddy barks.\n"
   ]
  },
  {
   "cell_type": "code",
   "execution_count": 19,
   "id": "46db7506",
   "metadata": {},
   "outputs": [
    {
     "name": "stdout",
     "output_type": "stream",
     "text": [
      "Buddy barks.\n",
      "Whiskers meows.\n"
     ]
    }
   ],
   "source": [
    "# Parent class\n",
    "class Animal:\n",
    "    def __init__(self, name):\n",
    "        self.name = name\n",
    "    \n",
    "    def speak(self):\n",
    "        return f\"{self.name} makes a sound.\"\n",
    "\n",
    "# Child class inheriting from Animal\n",
    "class Dog(Animal):\n",
    "    def speak(self):\n",
    "        return f\"{self.name} barks.\"\n",
    "\n",
    "# Child class inheriting from Animal\n",
    "class Cat(Animal):\n",
    "    def speak(self):\n",
    "        return f\"{self.name} meows.\"\n",
    "\n",
    "# Creating objects of child classes\n",
    "dog = Dog(\"Buddy\")\n",
    "cat = Cat(\"Whiskers\")\n",
    "\n",
    "# Accessing methods from the parent and child classes\n",
    "print(dog.speak())  # Output: Buddy barks.\n",
    "print(cat.speak())  # Output: Whiskers meows.\n"
   ]
  },
  {
   "cell_type": "code",
   "execution_count": 1,
   "id": "3400fd68",
   "metadata": {},
   "outputs": [
    {
     "name": "stdout",
     "output_type": "stream",
     "text": [
      "I am the grandfather\n",
      "I am the father\n",
      "I am the son\n"
     ]
    }
   ],
   "source": [
    "# multilevel inheritence\n",
    "class Grandfather:\n",
    "    def __init__(self, name):\n",
    "        self.name = name\n",
    "\n",
    "    def grandfather_method(self):\n",
    "        print(\"I am the grandfather\")\n",
    "\n",
    "class Father(Grandfather):\n",
    "    def __init__(self, name, age):\n",
    "        super().__init__(name)\n",
    "        self.age = age\n",
    "\n",
    "    def father_method(self):\n",
    "        print(\"I am the father\")\n",
    "\n",
    "class Son(Father):\n",
    "    def __init__(self, name, age, city):\n",
    "        super().__init__(name, age)\n",
    "        self.city = city\n",
    "\n",
    "    def son_method(self):\n",
    "        print(\"I am the son\")\n",
    "\n",
    "son = Son(\"John\", 30, \"New York\")\n",
    "son.grandfather_method()  # Output: I am the grandfather\n",
    "son.father_method()  # Output: I am the father\n",
    "son.son_method()  # Output: I am the son"
   ]
  },
  {
   "cell_type": "markdown",
   "id": "1518fa37",
   "metadata": {},
   "source": [
    "# Types of Inheritance\n",
    "Python supports several types of inheritance:\n",
    "\n",
    "* Single Inheritance: A child class inherits from one parent class.\n",
    "* Multiple Inheritance: A child class inherits from more than one parent class.\n",
    "* Multilevel Inheritance: A child class inherits from another child class, forming a chain.\n",
    "* Hierarchical Inheritance: Multiple child classes inherit from a single parent class."
   ]
  },
  {
   "cell_type": "markdown",
   "id": "8acdfef3",
   "metadata": {},
   "source": [
    "# Single Inheritance\n",
    "A single child class inherits from one parent class."
   ]
  },
  {
   "cell_type": "code",
   "execution_count": 20,
   "id": "28278141",
   "metadata": {},
   "outputs": [
    {
     "name": "stdout",
     "output_type": "stream",
     "text": [
      "The Toyota car is driving.\n"
     ]
    }
   ],
   "source": [
    "# Parent class\n",
    "class Vehicle:\n",
    "    def __init__(self, brand):\n",
    "        self.brand = brand\n",
    "\n",
    "# Child class\n",
    "class Car(Vehicle):\n",
    "    def drive(self):\n",
    "        return f\"The {self.brand} car is driving.\"\n",
    "\n",
    "# Creating an object of the child class\n",
    "my_car = Car(\"Toyota\")\n",
    "print(my_car.drive())  # Output: The Toyota car is driving.\n"
   ]
  },
  {
   "cell_type": "markdown",
   "id": "f6b6c6ef",
   "metadata": {},
   "source": [
    "#  Multiple Inheritance\n",
    "A child class can inherit from more than one parent class."
   ]
  },
  {
   "cell_type": "code",
   "execution_count": 21,
   "id": "8dbfcf4d",
   "metadata": {},
   "outputs": [
    {
     "name": "stdout",
     "output_type": "stream",
     "text": [
      "Engine started.\n",
      "Radio is playing.\n"
     ]
    }
   ],
   "source": [
    "# Parent class 1\n",
    "class Engine:\n",
    "    def start_engine(self):\n",
    "        return \"Engine started.\"\n",
    "\n",
    "# Parent class 2\n",
    "class Radio:\n",
    "    def play_radio(self):\n",
    "        return \"Radio is playing.\"\n",
    "\n",
    "# Child class inheriting from both Engine and Radio\n",
    "class Car(Engine, Radio):\n",
    "    pass\n",
    "\n",
    "# Creating an object of the child class\n",
    "my_car = Car()\n",
    "print(my_car.start_engine())  # Output: Engine started.\n",
    "print(my_car.play_radio())    # Output: Radio is playing.\n"
   ]
  },
  {
   "cell_type": "markdown",
   "id": "29ead8bc",
   "metadata": {},
   "source": [
    "# Multilevel Inheritance\n",
    "A child class inherits from a parent class, and another child class inherits from this child class."
   ]
  },
  {
   "cell_type": "code",
   "execution_count": 22,
   "id": "d5e02b4a",
   "metadata": {},
   "outputs": [
    {
     "name": "stdout",
     "output_type": "stream",
     "text": [
      "Buddy is walking.\n",
      "Buddy is barking.\n"
     ]
    }
   ],
   "source": [
    "# Parent class\n",
    "class Animal:\n",
    "    def __init__(self, name):\n",
    "        self.name = name\n",
    "\n",
    "# Child class inheriting from Animal\n",
    "class Mammal(Animal):\n",
    "    def walk(self):\n",
    "        return f\"{self.name} is walking.\"\n",
    "\n",
    "# Another child class inheriting from Mammal\n",
    "class Dog(Mammal):\n",
    "    def bark(self):\n",
    "        return f\"{self.name} is barking.\"\n",
    "\n",
    "# Creating an object of the Dog class\n",
    "my_dog = Dog(\"Buddy\")\n",
    "print(my_dog.walk())  # Output: Buddy is walking.\n",
    "print(my_dog.bark())  # Output: Buddy is barking.\n"
   ]
  },
  {
   "cell_type": "markdown",
   "id": "0a03df9d",
   "metadata": {},
   "source": [
    "# Hierarchical Inheritance\n",
    "Multiple child classes inherit from a single parent class."
   ]
  },
  {
   "cell_type": "code",
   "execution_count": 23,
   "id": "409ab796",
   "metadata": {},
   "outputs": [
    {
     "name": "stdout",
     "output_type": "stream",
     "text": [
      "Buddy barks.\n",
      "Whiskers meows.\n"
     ]
    }
   ],
   "source": [
    "# Parent class\n",
    "class Animal:\n",
    "    def __init__(self, name):\n",
    "        self.name = name\n",
    "\n",
    "# Child class 1\n",
    "class Dog(Animal):\n",
    "    def speak(self):\n",
    "        return f\"{self.name} barks.\"\n",
    "\n",
    "# Child class 2\n",
    "class Cat(Animal):\n",
    "    def speak(self):\n",
    "        return f\"{self.name} meows.\"\n",
    "\n",
    "# Creating objects of both child classes\n",
    "dog = Dog(\"Buddy\")\n",
    "cat = Cat(\"Whiskers\")\n",
    "print(dog.speak())  # Output: Buddy barks.\n",
    "print(cat.speak())  # Output: Whiskers meows.\n"
   ]
  },
  {
   "cell_type": "markdown",
   "id": "7a661358",
   "metadata": {},
   "source": [
    "# Overriding Methods\n",
    "When a child class defines a method with the same name as a method in the parent class, the child class's method overrides the parent class's method."
   ]
  },
  {
   "cell_type": "code",
   "execution_count": 24,
   "id": "e8ea56d0",
   "metadata": {},
   "outputs": [
    {
     "name": "stdout",
     "output_type": "stream",
     "text": [
      "Penguins can't fly.\n"
     ]
    }
   ],
   "source": [
    "# Parent class\n",
    "class Bird:\n",
    "    def fly(self):\n",
    "        return \"Bird is flying.\"\n",
    "\n",
    "# Child class overriding the fly method\n",
    "class Penguin(Bird):\n",
    "    def fly(self):\n",
    "        return \"Penguins can't fly.\"\n",
    "\n",
    "# Creating an object of the Penguin class\n",
    "penguin = Penguin()\n",
    "print(penguin.fly())  # Output: Penguins can't fly.\n"
   ]
  },
  {
   "cell_type": "markdown",
   "id": "e473871f",
   "metadata": {},
   "source": [
    "# Using super() to Access Parent Class Methods\n",
    "The super() function is used to call a method from the parent class inside a child class. This is especially useful when you want to extend the functionality of the parent method rather than completely overriding it."
   ]
  },
  {
   "cell_type": "code",
   "execution_count": 25,
   "id": "944b9ef0",
   "metadata": {},
   "outputs": [
    {
     "name": "stdout",
     "output_type": "stream",
     "text": [
      "Hi, I'm Yashu and I'm 25 years old. My student ID is S12345.\n"
     ]
    }
   ],
   "source": [
    "# Parent class\n",
    "class Person:\n",
    "    def __init__(self, name, age):\n",
    "        self.name = name\n",
    "        self.age = age\n",
    "\n",
    "    def introduce(self):\n",
    "        return f\"Hi, I'm {self.name} and I'm {self.age} years old.\"\n",
    "\n",
    "# Child class\n",
    "class Student(Person):\n",
    "    def __init__(self, name, age, student_id):\n",
    "        # Call the constructor of the parent class\n",
    "        super().__init__(name, age)\n",
    "        self.student_id = student_id\n",
    "\n",
    "    def introduce(self):\n",
    "        # Extend the functionality of the parent method\n",
    "        return super().introduce() + f\" My student ID is {self.student_id}.\"\n",
    "\n",
    "# Creating an object of the Student class\n",
    "student = Student(\"Yashu\", 25, \"S12345\")\n",
    "print(student.introduce())  # Output: Hi, I'm Yashu and I'm 25 years old. My student ID is S12345.\n"
   ]
  },
  {
   "cell_type": "markdown",
   "id": "02fac728",
   "metadata": {},
   "source": [
    "# Private Members and Inheritance\n",
    "Private members of a parent class (attributes or methods with a name starting with `__`) are not directly accessible in child classes. However, they can be accessed using name mangling."
   ]
  },
  {
   "cell_type": "code",
   "execution_count": 26,
   "id": "6a6c1f88",
   "metadata": {},
   "outputs": [
    {
     "name": "stdout",
     "output_type": "stream",
     "text": [
      "This is private\n"
     ]
    }
   ],
   "source": [
    "# Parent class\n",
    "class Parent:\n",
    "    def __init__(self):\n",
    "        self.__private_var = \"This is private\"\n",
    "\n",
    "# Child class\n",
    "class Child(Parent):\n",
    "    def get_private_var(self):\n",
    "        return self._Parent__private_var  # Accessing private variable\n",
    "\n",
    "# Creating an object of the Child class\n",
    "child = Child()\n",
    "print(child.get_private_var())  # Output: This is private\n"
   ]
  },
  {
   "cell_type": "code",
   "execution_count": null,
   "id": "7f267520",
   "metadata": {},
   "outputs": [],
   "source": []
  },
  {
   "cell_type": "code",
   "execution_count": null,
   "id": "11d1dd32",
   "metadata": {},
   "outputs": [],
   "source": []
  },
  {
   "cell_type": "markdown",
   "id": "26c26eae",
   "metadata": {},
   "source": [
    "# Encapsulation in Python\n",
    "Encapsulation is one of the fundamental concepts in object-oriented programming (OOP). It refers to the bundling of data (attributes) and methods (functions) that operate on the data into a single unit or class. It also restricts access to certain components of an object, making it easier to protect the data from unintended modification.\n",
    "\n",
    "## 1. What is Encapsulation?\n",
    "Encapsulation is the technique of hiding the internal state of an object and only exposing certain parts of it. This is done by defining attributes (variables) as private or protected, and providing public methods to access and modify these attributes.\n",
    "\n",
    "## 2. Public, Private, and Protected Members\n",
    "In Python, there are three types of attributes:\n",
    "\n",
    "* Public Members: Accessible from anywhere.\n",
    "* Private Members: Accessible only within the class.\n",
    "* Protected Members: Accessible within the class and its subclasses."
   ]
  },
  {
   "cell_type": "markdown",
   "id": "3fadda63",
   "metadata": {},
   "source": [
    "## Public Members\n",
    "By default, all attributes and methods in Python are public. This means they can be accessed from outside the class."
   ]
  },
  {
   "cell_type": "code",
   "execution_count": 32,
   "id": "043cef3f",
   "metadata": {},
   "outputs": [
    {
     "name": "stdout",
     "output_type": "stream",
     "text": [
      "Tesla\n",
      "Red\n",
      "Model: Tesla, Color: Red\n"
     ]
    }
   ],
   "source": [
    "class Car:\n",
    "    def __init__(self, model, color):\n",
    "        self.model = model  # public attribute\n",
    "        self.color = color  # public attribute\n",
    "\n",
    "    def display(self):\n",
    "        return f\"Model: {self.model}, Color: {self.color}\"\n",
    "\n",
    "# Creating an object of the Car class\n",
    "my_car = Car(\"Tesla\", \"Red\")\n",
    "\n",
    "# Accessing public attributes and methods\n",
    "print(my_car.model)  # Output: Tesla\n",
    "print(my_car.color)  # Output: Red\n",
    "print(my_car.display())  # Output: Model: Tesla, Color: Red\n"
   ]
  },
  {
   "cell_type": "markdown",
   "id": "44790d4d",
   "metadata": {},
   "source": [
    "## Private Members\n",
    "Private members are defined by prefixing the attribute name with two underscores (__). They cannot be accessed directly from outside the class."
   ]
  },
  {
   "cell_type": "code",
   "execution_count": 36,
   "id": "88c298c7",
   "metadata": {},
   "outputs": [
    {
     "name": "stdout",
     "output_type": "stream",
     "text": [
      "Model: Tesla, Color: Red\n"
     ]
    }
   ],
   "source": [
    "class Car:\n",
    "    def __init__(self, model, color):\n",
    "        self.__model = model  # private attribute\n",
    "        self.__color = color  # private attribute\n",
    "\n",
    "    def display(self):\n",
    "        return f\"Model: {self.__model}, Color: {self.__color}\"\n",
    "\n",
    "# Creating an object of the Car class\n",
    "my_car = Car(\"Tesla\", \"Red\")\n",
    "\n",
    "# Trying to access private attributes directly will raise an AttributeError\n",
    "#print(my_car.__model)  # AttributeError: 'Car' object has no attribute '__model'\n",
    "\n",
    "# Accessing private attributes through public methods\n",
    "print(my_car.display())  # Output: Model: Tesla, Color: Red\n"
   ]
  },
  {
   "cell_type": "markdown",
   "id": "90356049",
   "metadata": {},
   "source": [
    "## Protected Members\n",
    "Protected members are defined by prefixing the attribute name with a single underscore (_). They can be accessed within the class and its subclasses, but it's a convention to treat them as non-public."
   ]
  },
  {
   "cell_type": "code",
   "execution_count": 37,
   "id": "6eb00558",
   "metadata": {},
   "outputs": [
    {
     "name": "stdout",
     "output_type": "stream",
     "text": [
      "Model: Ferrari, Color: Yellow, Max Speed: 300\n"
     ]
    }
   ],
   "source": [
    "class Car:\n",
    "    def __init__(self, model, color):\n",
    "        self._model = model  # protected attribute\n",
    "        self._color = color  # protected attribute\n",
    "\n",
    "    def display(self):\n",
    "        return f\"Model: {self._model}, Color: {self._color}\"\n",
    "\n",
    "# Subclass of Car\n",
    "class SportsCar(Car):\n",
    "    def __init__(self, model, color, max_speed):\n",
    "        super().__init__(model, color)\n",
    "        self.max_speed = max_speed\n",
    "\n",
    "    def display_details(self):\n",
    "        return f\"Model: {self._model}, Color: {self._color}, Max Speed: {self.max_speed}\"\n",
    "\n",
    "# Creating an object of the SportsCar class\n",
    "my_sports_car = SportsCar(\"Ferrari\", \"Yellow\", 300)\n",
    "\n",
    "# Accessing protected attributes from the subclass\n",
    "print(my_sports_car.display_details())  # Output: Model: Ferrari, Color: Yellow, Max Speed: 300\n"
   ]
  },
  {
   "cell_type": "markdown",
   "id": "bfdd452d",
   "metadata": {},
   "source": [
    "# Getters and Setters\n",
    "To access or modify private attributes, you can define public methods known as getters and setters. Getters retrieve the value of an attribute, while setters allow you to change the value."
   ]
  },
  {
   "cell_type": "code",
   "execution_count": 38,
   "id": "54acb176",
   "metadata": {},
   "outputs": [
    {
     "name": "stdout",
     "output_type": "stream",
     "text": [
      "Tesla\n",
      "Red\n",
      "BMW\n",
      "Blue\n"
     ]
    }
   ],
   "source": [
    "class Car:\n",
    "    def __init__(self, model, color):\n",
    "        self.__model = model  # private attribute\n",
    "        self.__color = color  # private attribute\n",
    "\n",
    "    # Getter method for model\n",
    "    def get_model(self):\n",
    "        return self.__model\n",
    "\n",
    "    # Setter method for model\n",
    "    def set_model(self, model):\n",
    "        self.__model = model\n",
    "\n",
    "    # Getter method for color\n",
    "    def get_color(self):\n",
    "        return self.__color\n",
    "\n",
    "    # Setter method for color\n",
    "    def set_color(self, color):\n",
    "        self.__color = color\n",
    "\n",
    "# Creating an object of the Car class\n",
    "my_car = Car(\"Tesla\", \"Red\")\n",
    "\n",
    "# Using getter methods to access private attributes\n",
    "print(my_car.get_model())  # Output: Tesla\n",
    "print(my_car.get_color())  # Output: Red\n",
    "\n",
    "# Using setter methods to modify private attributes\n",
    "my_car.set_model(\"BMW\")\n",
    "my_car.set_color(\"Blue\")\n",
    "\n",
    "# Accessing modified attributes through getter methods\n",
    "print(my_car.get_model())  # Output: BMW\n",
    "print(my_car.get_color())  # Output: Blue\n"
   ]
  },
  {
   "cell_type": "markdown",
   "id": "3854fa95",
   "metadata": {},
   "source": [
    "# Encapsulation in Real-World Scenarios\n",
    "Encapsulation is widely used in real-world applications to protect the integrity of data. For example, in a banking system, account details such as balance should not be directly accessible or modifiable by users. Instead, users interact with the account through methods that ensure proper validation."
   ]
  },
  {
   "cell_type": "code",
   "execution_count": 39,
   "id": "94c6da85",
   "metadata": {},
   "outputs": [
    {
     "name": "stdout",
     "output_type": "stream",
     "text": [
      "Deposited 500. New balance: 1500\n",
      "Withdrew 300. New balance: 1200\n",
      "1200\n"
     ]
    }
   ],
   "source": [
    "class BankAccount:\n",
    "    def __init__(self, owner, balance=0):\n",
    "        self.owner = owner  # public attribute\n",
    "        self.__balance = balance  # private attribute\n",
    "\n",
    "    # Method to deposit money\n",
    "    def deposit(self, amount):\n",
    "        if amount > 0:\n",
    "            self.__balance += amount\n",
    "            return f\"Deposited {amount}. New balance: {self.__balance}\"\n",
    "        else:\n",
    "            return \"Invalid deposit amount.\"\n",
    "\n",
    "    # Method to withdraw money\n",
    "    def withdraw(self, amount):\n",
    "        if 0 < amount <= self.__balance:\n",
    "            self.__balance -= amount\n",
    "            return f\"Withdrew {amount}. New balance: {self.__balance}\"\n",
    "        else:\n",
    "            return \"Invalid or insufficient funds.\"\n",
    "\n",
    "    # Getter method for balance\n",
    "    def get_balance(self):\n",
    "        return self.__balance\n",
    "\n",
    "# Creating an object of the BankAccount class\n",
    "account = BankAccount(\"Alice\", 1000)\n",
    "\n",
    "# Depositing money\n",
    "print(account.deposit(500))  # Output: Deposited 500. New balance: 1500\n",
    "\n",
    "# Withdrawing money\n",
    "print(account.withdraw(300))  # Output: Withdrew 300. New balance: 1200\n",
    "\n",
    "# Trying to access private balance directly (will raise an AttributeError)\n",
    "# print(account.__balance)  # AttributeError: 'BankAccount' object has no attribute '__balance'\n",
    "\n",
    "# Accessing balance using the getter method\n",
    "print(account.get_balance())  # Output: 1200\n"
   ]
  },
  {
   "cell_type": "markdown",
   "id": "ebc6a821",
   "metadata": {},
   "source": [
    "# Advantages of Encapsulation\n",
    "* Data Hiding: Encapsulation allows you to hide the internal state of objects from the outside world. This prevents unauthorized access and modification of data.\n",
    "* Data Integrity: By controlling how data is accessed and modified, encapsulation helps maintain the integrity of the data.\n",
    "* Simplifies Maintenance: Encapsulation makes it easier to update and maintain the code since the internal implementation details are hidden.\n",
    "* Improves Security: Encapsulation provides a way to protect sensitive data by controlling access to it through well-defined interfaces."
   ]
  },
  {
   "cell_type": "code",
   "execution_count": null,
   "id": "2da811bb",
   "metadata": {},
   "outputs": [],
   "source": []
  },
  {
   "cell_type": "code",
   "execution_count": null,
   "id": "a911c66e",
   "metadata": {},
   "outputs": [],
   "source": []
  },
  {
   "cell_type": "code",
   "execution_count": null,
   "id": "7df6cb7e",
   "metadata": {},
   "outputs": [],
   "source": []
  },
  {
   "cell_type": "markdown",
   "id": "cbf655e2",
   "metadata": {},
   "source": [
    "# Polymorphism in Python\n",
    "Polymorphism is one of the core concepts in object-oriented programming (OOP). It refers to the ability of different objects to respond to the same method in a way that is appropriate to their types. Polymorphism allows for methods to be used in different ways, depending on the object that is invoking the method.\n",
    "\n",
    "## 1. What is Polymorphism?\n",
    "The word \"polymorphism\" means \"many shapes\" or \"many forms.\" In the context of programming, it means that a single method or function can operate on objects of different types. This allows for flexibility and the ability to define one interface and have multiple implementations.\n",
    "\n",
    "## 2. Types of Polymorphism\n",
    "There are two main types of polymorphism:\n",
    "\n",
    "* Compile-time Polymorphism (or Static Polymorphism): Achieved using method overloading or operator overloading. Python does not support method overloading by default, but operator overloading can be done.\n",
    "\n",
    "* Run-time Polymorphism (or Dynamic Polymorphism): Achieved using method overriding. This is the most common type of polymorphism in Python."
   ]
  },
  {
   "cell_type": "markdown",
   "id": "74197487",
   "metadata": {},
   "source": [
    "## Polymorphism Through Method Overriding\n",
    "Method overriding occurs when a subclass provides a specific implementation of a method that is already defined in its superclass."
   ]
  },
  {
   "cell_type": "code",
   "execution_count": 40,
   "id": "6d4e8b24",
   "metadata": {},
   "outputs": [
    {
     "name": "stdout",
     "output_type": "stream",
     "text": [
      "Bark\n",
      "Meow\n"
     ]
    }
   ],
   "source": [
    "class Animal:\n",
    "    def sound(self):\n",
    "        return \"Some generic animal sound\"\n",
    "\n",
    "class Dog(Animal):\n",
    "    def sound(self):\n",
    "        return \"Bark\"\n",
    "\n",
    "class Cat(Animal):\n",
    "    def sound(self):\n",
    "        return \"Meow\"\n",
    "\n",
    "# Polymorphism in action\n",
    "def make_sound(animal):\n",
    "    print(animal.sound())\n",
    "\n",
    "# Creating instances of different classes\n",
    "dog = Dog()\n",
    "cat = Cat()\n",
    "\n",
    "make_sound(dog)  # Output: Bark\n",
    "make_sound(cat)  # Output: Meow\n"
   ]
  },
  {
   "cell_type": "markdown",
   "id": "284e8fa1",
   "metadata": {},
   "source": [
    "#  Polymorphism with Common Methods\n",
    "Polymorphism can also be seen when different classes implement a common method. Even though the method name is the same, the classes can implement it in their own way."
   ]
  },
  {
   "cell_type": "code",
   "execution_count": 41,
   "id": "799e0ad8",
   "metadata": {},
   "outputs": [
    {
     "name": "stdout",
     "output_type": "stream",
     "text": [
      "Bird is flying\n",
      "Airplane is flying\n",
      "Superman is flying\n"
     ]
    }
   ],
   "source": [
    "class Bird:\n",
    "    def fly(self):\n",
    "        return \"Bird is flying\"\n",
    "\n",
    "class Airplane:\n",
    "    def fly(self):\n",
    "        return \"Airplane is flying\"\n",
    "\n",
    "class Superman:\n",
    "    def fly(self):\n",
    "        return \"Superman is flying\"\n",
    "\n",
    "# Polymorphism in action\n",
    "def make_it_fly(flying_object):\n",
    "    print(flying_object.fly())\n",
    "\n",
    "# Creating instances of different classes\n",
    "bird = Bird()\n",
    "airplane = Airplane()\n",
    "superman = Superman()\n",
    "\n",
    "make_it_fly(bird)      # Output: Bird is flying\n",
    "make_it_fly(airplane)  # Output: Airplane is flying\n",
    "make_it_fly(superman)  # Output: Superman is flying\n"
   ]
  },
  {
   "cell_type": "markdown",
   "id": "13f303fe",
   "metadata": {},
   "source": [
    "# Polymorphism with Inheritance\n",
    "Polymorphism is often used with inheritance, where a base class defines a method, and derived classes provide their own implementation."
   ]
  },
  {
   "cell_type": "code",
   "execution_count": 42,
   "id": "11528ace",
   "metadata": {},
   "outputs": [
    {
     "name": "stdout",
     "output_type": "stream",
     "text": [
      "Area: 50\n",
      "Area: 153.93791\n"
     ]
    }
   ],
   "source": [
    "class Shape:\n",
    "    def area(self):\n",
    "        pass\n",
    "\n",
    "class Rectangle(Shape):\n",
    "    def __init__(self, width, height):\n",
    "        self.width = width\n",
    "        self.height = height\n",
    "    \n",
    "    def area(self):\n",
    "        return self.width * self.height\n",
    "\n",
    "class Circle(Shape):\n",
    "    def __init__(self, radius):\n",
    "        self.radius = radius\n",
    "    \n",
    "    def area(self):\n",
    "        return 3.14159 * self.radius * self.radius\n",
    "\n",
    "# Polymorphism in action\n",
    "def print_area(shape):\n",
    "    print(f\"Area: {shape.area()}\")\n",
    "\n",
    "# Creating instances of different classes\n",
    "rectangle = Rectangle(10, 5)\n",
    "circle = Circle(7)\n",
    "\n",
    "print_area(rectangle)  # Output: Area: 50\n",
    "print_area(circle)     # Output: Area: 153.93791\n"
   ]
  },
  {
   "cell_type": "markdown",
   "id": "ce3042e7",
   "metadata": {},
   "source": [
    "# Operator Overloading\n",
    "Python allows the same operator to have different meanings based on the context, which is another form of polymorphism called operator overloading. You can define how operators like +, -, *, etc., behave with objects of a class."
   ]
  },
  {
   "cell_type": "code",
   "execution_count": 43,
   "id": "2f7ea7c5",
   "metadata": {},
   "outputs": [
    {
     "name": "stdout",
     "output_type": "stream",
     "text": [
      "(6, 8)\n"
     ]
    }
   ],
   "source": [
    "class Point:\n",
    "    def __init__(self, x, y):\n",
    "        self.x = x\n",
    "        self.y = y\n",
    "    \n",
    "    # Overloading the + operator\n",
    "    def __add__(self, other):\n",
    "        return Point(self.x + other.x, self.y + other.y)\n",
    "    \n",
    "    def __str__(self):\n",
    "        return f\"({self.x}, {self.y})\"\n",
    "\n",
    "# Creating instances of Point\n",
    "p1 = Point(2, 3)\n",
    "p2 = Point(4, 5)\n",
    "\n",
    "# Using the overloaded + operator\n",
    "p3 = p1 + p2\n",
    "print(p3)  # Output: (6, 8)\n"
   ]
  },
  {
   "cell_type": "markdown",
   "id": "ff567311",
   "metadata": {},
   "source": [
    "# Duck Typing\n",
    "In Python, polymorphism can also be achieved through duck typing, where the type or class of an object is less important than the methods it defines. If an object implements the required methods, it can be used as if it belongs to a particular class."
   ]
  },
  {
   "cell_type": "code",
   "execution_count": 44,
   "id": "c46665cb",
   "metadata": {},
   "outputs": [
    {
     "name": "stdout",
     "output_type": "stream",
     "text": [
      "Quack!\n",
      "Bark like a duck!\n"
     ]
    }
   ],
   "source": [
    "class Duck:\n",
    "    def quack(self):\n",
    "        return \"Quack!\"\n",
    "\n",
    "class Dog:\n",
    "    def quack(self):\n",
    "        return \"Bark like a duck!\"\n",
    "\n",
    "# Polymorphism through duck typing\n",
    "def make_quack(animal):\n",
    "    print(animal.quack())\n",
    "\n",
    "# Creating instances of different classes\n",
    "duck = Duck()\n",
    "dog = Dog()\n",
    "\n",
    "make_quack(duck)  # Output: Quack!\n",
    "make_quack(dog)   # Output: Bark like a duck!\n"
   ]
  },
  {
   "cell_type": "markdown",
   "id": "ba800f6e",
   "metadata": {},
   "source": [
    "# Advantages of Polymorphism\n",
    "* Flexibility: Polymorphism allows for flexibility in code, as the same interface can be used for different underlying forms (data types).\n",
    "* Reusability: It promotes code reusability, as you can use the same code with different types of objects.\n",
    "* Extensibility: It is easy to introduce new classes without changing existing code, making it easier to extend the program."
   ]
  },
  {
   "cell_type": "code",
   "execution_count": null,
   "id": "5f4ff922",
   "metadata": {},
   "outputs": [],
   "source": []
  },
  {
   "cell_type": "code",
   "execution_count": null,
   "id": "536e5a99",
   "metadata": {},
   "outputs": [],
   "source": []
  },
  {
   "cell_type": "markdown",
   "id": "52ddc4d0",
   "metadata": {},
   "source": [
    "# 1. What is Abstraction?\n",
    "Abstraction is the concept of hiding the internal details and showing only the essential features of an object. It helps in managing complexity by allowing you to focus on what an object does instead of how it does it.\n",
    "\n",
    "# 2. Abstract Classes and Methods\n",
    "In Python, abstraction is achieved using abstract classes and abstract methods. Abstract classes are classes that contain one or more abstract methods. An abstract method is a method that is declared, but not implemented in the abstract class. Subclasses of the abstract class must implement the abstract methods.\n",
    "\n",
    "# 3. Creating an Abstract Class\n",
    "To create an abstract class in Python, you need to import ABC (Abstract Base Class) and abstractmethod from the abc module."
   ]
  },
  {
   "cell_type": "code",
   "execution_count": 28,
   "id": "00dfcb76",
   "metadata": {},
   "outputs": [],
   "source": [
    "from abc import ABC, abstractmethod\n",
    "\n",
    "# Abstract class\n",
    "class Animal(ABC):\n",
    "    \n",
    "    # Abstract method\n",
    "    @abstractmethod\n",
    "    def sound(self):\n",
    "        pass\n"
   ]
  },
  {
   "cell_type": "markdown",
   "id": "d35c7b3f",
   "metadata": {},
   "source": [
    "# Creating a Concrete Class\n",
    "A concrete class is a subclass of the abstract class that provides an implementation for all the abstract methods."
   ]
  },
  {
   "cell_type": "code",
   "execution_count": 29,
   "id": "210ba2a8",
   "metadata": {},
   "outputs": [
    {
     "name": "stdout",
     "output_type": "stream",
     "text": [
      "Bark\n"
     ]
    }
   ],
   "source": [
    "# Concrete class inheriting from the abstract class\n",
    "class Dog(Animal):\n",
    "    def sound(self):\n",
    "        return \"Bark\"\n",
    "\n",
    "# Creating an object of the concrete class\n",
    "dog = Dog()\n",
    "print(dog.sound())  # Output: Bark\n"
   ]
  },
  {
   "cell_type": "markdown",
   "id": "86d3da58",
   "metadata": {},
   "source": [
    "# Another Example with Multiple Concrete Classes"
   ]
  },
  {
   "cell_type": "code",
   "execution_count": 30,
   "id": "ff9ff564",
   "metadata": {},
   "outputs": [
    {
     "name": "stdout",
     "output_type": "stream",
     "text": [
      "Rectangle Area: 50\n",
      "Rectangle Perimeter: 30\n",
      "Circle Area: 153.93791\n",
      "Circle Perimeter: 43.98226\n"
     ]
    }
   ],
   "source": [
    "from abc import ABC, abstractmethod\n",
    "\n",
    "# Abstract class\n",
    "class Shape(ABC):\n",
    "    \n",
    "    # Abstract method\n",
    "    @abstractmethod\n",
    "    def area(self):\n",
    "        pass\n",
    "    \n",
    "    @abstractmethod\n",
    "    def perimeter(self):\n",
    "        pass\n",
    "\n",
    "# Concrete class for Rectangle\n",
    "class Rectangle(Shape):\n",
    "    def __init__(self, width, height):\n",
    "        self.width = width\n",
    "        self.height = height\n",
    "    \n",
    "    def area(self):\n",
    "        return self.width * self.height\n",
    "    \n",
    "    def perimeter(self):\n",
    "        return 2 * (self.width + self.height)\n",
    "\n",
    "# Concrete class for Circle\n",
    "class Circle(Shape):\n",
    "    def __init__(self, radius):\n",
    "        self.radius = radius\n",
    "    \n",
    "    def area(self):\n",
    "        return 3.14159 * self.radius * self.radius\n",
    "    \n",
    "    def perimeter(self):\n",
    "        return 2 * 3.14159 * self.radius\n",
    "\n",
    "# Creating objects of the concrete classes\n",
    "rectangle = Rectangle(10, 5)\n",
    "circle = Circle(7)\n",
    "\n",
    "print(f\"Rectangle Area: {rectangle.area()}\")  # Output: Rectangle Area: 50\n",
    "print(f\"Rectangle Perimeter: {rectangle.perimeter()}\")  # Output: Rectangle Perimeter: 30\n",
    "\n",
    "print(f\"Circle Area: {circle.area()}\")  # Output: Circle Area: 153.93791\n",
    "print(f\"Circle Perimeter: {circle.perimeter()}\")  # Output: Circle Perimeter: 43.98226\n"
   ]
  },
  {
   "cell_type": "markdown",
   "id": "f6268001",
   "metadata": {},
   "source": [
    "# Why Use Abstraction?\n",
    "Abstraction allows you to:\n",
    "\n",
    "* Hide complexity: Users of your classes don't need to know the inner workings of the methods, just how to use them.\n",
    "* Promote code reusability: You can define a standard interface in the abstract class and have multiple implementations in different concrete classes.\n",
    "* Ensure consistency: By forcing subclasses to implement the abstract methods, you ensure that they all provide a consistent interface."
   ]
  },
  {
   "cell_type": "markdown",
   "id": "f8a2586c",
   "metadata": {},
   "source": [
    "# Practical Example: Payment Processing\n",
    "Let’s consider a simple payment processing system where we define an abstract class PaymentProcessor and different payment methods as concrete classes."
   ]
  },
  {
   "cell_type": "code",
   "execution_count": 31,
   "id": "b4597a0d",
   "metadata": {},
   "outputs": [
    {
     "name": "stdout",
     "output_type": "stream",
     "text": [
      "Authenticating Credit Card.\n",
      "Processing Credit Card payment of $100.\n",
      "Authenticating PayPal account.\n",
      "Processing PayPal payment of $150.\n"
     ]
    }
   ],
   "source": [
    "from abc import ABC, abstractmethod\n",
    "\n",
    "# Abstract class\n",
    "class PaymentProcessor(ABC):\n",
    "    \n",
    "    @abstractmethod\n",
    "    def authenticate(self):\n",
    "        pass\n",
    "    \n",
    "    @abstractmethod\n",
    "    def process_payment(self, amount):\n",
    "        pass\n",
    "\n",
    "# Concrete class for Credit Card payment\n",
    "class CreditCardPayment(PaymentProcessor):\n",
    "    def authenticate(self):\n",
    "        return \"Authenticating Credit Card.\"\n",
    "    \n",
    "    def process_payment(self, amount):\n",
    "        return f\"Processing Credit Card payment of ${amount}.\"\n",
    "\n",
    "# Concrete class for PayPal payment\n",
    "class PayPalPayment(PaymentProcessor):\n",
    "    def authenticate(self):\n",
    "        return \"Authenticating PayPal account.\"\n",
    "    \n",
    "    def process_payment(self, amount):\n",
    "        return f\"Processing PayPal payment of ${amount}.\"\n",
    "\n",
    "# Using the classes\n",
    "credit_card_payment = CreditCardPayment()\n",
    "paypal_payment = PayPalPayment()\n",
    "\n",
    "print(credit_card_payment.authenticate())  # Output: Authenticating Credit Card.\n",
    "print(credit_card_payment.process_payment(100))  # Output: Processing Credit Card payment of $100.\n",
    "\n",
    "print(paypal_payment.authenticate())  # Output: Authenticating PayPal account.\n",
    "print(paypal_payment.process_payment(150))  # Output: Processing PayPal payment of $150.\n"
   ]
  },
  {
   "cell_type": "markdown",
   "id": "5c0d8f20",
   "metadata": {},
   "source": [
    "## Summary\n",
    "* Abstraction: Hides the internal implementation details and exposes only the essential features.\n",
    "* Abstract Class: A class that contains one or more abstract methods and cannot be instantiated directly.\n",
    "* Abstract Method: A method that is declared but not implemented in the abstract class.\n",
    "* Concrete Class: A class that inherits from an abstract class and implements all of its abstract methods.\n",
    "* Benefits: Abstraction helps in managing complexity, promoting code reusability, and ensuring consistency across different implementations."
   ]
  },
  {
   "cell_type": "markdown",
   "id": "003cb322",
   "metadata": {},
   "source": [
    "# 'Thank you'"
   ]
  }
 ],
 "metadata": {
  "kernelspec": {
   "display_name": "venv",
   "language": "python",
   "name": "python3"
  },
  "language_info": {
   "codemirror_mode": {
    "name": "ipython",
    "version": 3
   },
   "file_extension": ".py",
   "mimetype": "text/x-python",
   "name": "python",
   "nbconvert_exporter": "python",
   "pygments_lexer": "ipython3",
   "version": "3.10.7"
  }
 },
 "nbformat": 4,
 "nbformat_minor": 5
}
