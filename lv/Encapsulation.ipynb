{
 "cells": [
  {
   "cell_type": "markdown",
   "id": "dc10ebad",
   "metadata": {},
   "source": [
    "# Achieveing Encapsulation by private"
   ]
  },
  {
   "cell_type": "code",
   "execution_count": 11,
   "id": "9da92b15",
   "metadata": {},
   "outputs": [
    {
     "ename": "AttributeError",
     "evalue": "'B' object has no attribute '_B__a'",
     "output_type": "error",
     "traceback": [
      "\u001b[1;31m---------------------------------------------------------------------------\u001b[0m",
      "\u001b[1;31mAttributeError\u001b[0m                            Traceback (most recent call last)",
      "\u001b[1;32m<ipython-input-11-a7c40cf13767>\u001b[0m in \u001b[0;36m<module>\u001b[1;34m\u001b[0m\n\u001b[0;32m     17\u001b[0m \u001b[1;33m\u001b[0m\u001b[0m\n\u001b[0;32m     18\u001b[0m \u001b[0mobj\u001b[0m \u001b[1;33m=\u001b[0m \u001b[0mB\u001b[0m\u001b[1;33m(\u001b[0m\u001b[1;36m20\u001b[0m\u001b[1;33m)\u001b[0m\u001b[1;33m\u001b[0m\u001b[1;33m\u001b[0m\u001b[0m\n\u001b[1;32m---> 19\u001b[1;33m \u001b[0mobj\u001b[0m\u001b[1;33m.\u001b[0m\u001b[0mshowB\u001b[0m\u001b[1;33m(\u001b[0m\u001b[1;33m)\u001b[0m\u001b[1;33m\u001b[0m\u001b[1;33m\u001b[0m\u001b[0m\n\u001b[0m",
      "\u001b[1;32m<ipython-input-11-a7c40cf13767>\u001b[0m in \u001b[0;36mshowB\u001b[1;34m(self)\u001b[0m\n\u001b[0;32m     12\u001b[0m \u001b[1;33m\u001b[0m\u001b[0m\n\u001b[0;32m     13\u001b[0m     \u001b[1;32mdef\u001b[0m \u001b[0mshowB\u001b[0m\u001b[1;33m(\u001b[0m\u001b[0mself\u001b[0m\u001b[1;33m)\u001b[0m\u001b[1;33m:\u001b[0m\u001b[1;33m\u001b[0m\u001b[1;33m\u001b[0m\u001b[0m\n\u001b[1;32m---> 14\u001b[1;33m         \u001b[0mprint\u001b[0m\u001b[1;33m(\u001b[0m\u001b[0mself\u001b[0m\u001b[1;33m.\u001b[0m\u001b[0m__a\u001b[0m\u001b[1;33m)\u001b[0m\u001b[1;33m\u001b[0m\u001b[1;33m\u001b[0m\u001b[0m\n\u001b[0m\u001b[0;32m     15\u001b[0m \u001b[1;33m\u001b[0m\u001b[0m\n\u001b[0;32m     16\u001b[0m \u001b[1;31m# creating an object of class B\u001b[0m\u001b[1;33m\u001b[0m\u001b[1;33m\u001b[0m\u001b[1;33m\u001b[0m\u001b[0m\n",
      "\u001b[1;31mAttributeError\u001b[0m: 'B' object has no attribute '_B__a'"
     ]
    }
   ],
   "source": [
    "class A: # Parent Class\n",
    "    def __init__(self,a):\n",
    "        self.__a=a # the variable is a private variable\n",
    "        \n",
    "    def show(self):\n",
    "        # Printing a private using function\n",
    "        print(\"Private Variable : \",self._a)\n",
    "        \n",
    "class B(A): # Child Class\n",
    "    def __init__(self,b):\n",
    "        super().__init__(b)\n",
    "        \n",
    "    def showB(self):\n",
    "        print(self.__a)\n",
    "        \n",
    "# creating an object of class B\n",
    "\n",
    "obj = B(20)\n",
    "obj.showB()"
   ]
  },
  {
   "cell_type": "markdown",
   "id": "afc54290",
   "metadata": {},
   "source": [
    "# Achieveing Encapsulation by Protected"
   ]
  },
  {
   "cell_type": "code",
   "execution_count": 12,
   "id": "43e2c47c",
   "metadata": {},
   "outputs": [
    {
     "name": "stdout",
     "output_type": "stream",
     "text": [
      "Variable Value :  30\n"
     ]
    }
   ],
   "source": [
    "class A: # Parent Class\n",
    "    def __init__(self,a):\n",
    "        self._a=a # this variable a is a protected variable\n",
    "        \n",
    "    def show(self):\n",
    "        print(\"Protected Variable : \",self._a)\n",
    "        \n",
    "        \n",
    "class B(A): # Child Class\n",
    "    def __init__(self,b):\n",
    "        super().__init__(b)\n",
    "        \n",
    "    def showB(self):\n",
    "        print(\"Variable Value : \",self._a)\n",
    "        \n",
    "        \n",
    "# Creating an object of class B\n",
    "\n",
    "obj = B(30)\n",
    "obj.showB()"
   ]
  },
  {
   "cell_type": "markdown",
   "id": "0e20e6b5",
   "metadata": {},
   "source": [
    "# Basic Encapsulation with Private Variables"
   ]
  },
  {
   "cell_type": "code",
   "execution_count": 1,
   "id": "f622f53b",
   "metadata": {},
   "outputs": [
    {
     "name": "stdout",
     "output_type": "stream",
     "text": [
      "John\n",
      "30\n",
      "35\n"
     ]
    }
   ],
   "source": [
    "class Person:\n",
    "    def __init__(self, name, age):\n",
    "        self.name = name          # Public attribute\n",
    "        self.__age = age          # Private attribute (cannot be accessed directly)\n",
    "    \n",
    "    def get_age(self):\n",
    "        return self.__age         # Public method to access private attribute\n",
    "\n",
    "    def set_age(self, age):\n",
    "        if age > 0:\n",
    "            self.__age = age      # Public method to modify private attribute\n",
    "        else:\n",
    "            print(\"Invalid age\")\n",
    "\n",
    "# Usage\n",
    "person = Person(\"John\", 30)\n",
    "print(person.name)              # Output: John (public attribute)\n",
    "print(person.get_age())         # Output: 30 (accessing private attribute through method)\n",
    "\n",
    "person.set_age(35)              # Modifying private attribute through method\n",
    "print(person.get_age())         # Output: 35\n"
   ]
  },
  {
   "cell_type": "code",
   "execution_count": 2,
   "id": "af5bcc54",
   "metadata": {},
   "outputs": [],
   "source": [
    "# Encapsulation with Getter and Setter Methods"
   ]
  },
  {
   "cell_type": "code",
   "execution_count": 3,
   "id": "759bcd73",
   "metadata": {},
   "outputs": [
    {
     "name": "stdout",
     "output_type": "stream",
     "text": [
      "1500\n",
      "1300\n"
     ]
    }
   ],
   "source": [
    "class BankAccount:\n",
    "    def __init__(self, balance):\n",
    "        self.__balance = balance  # Private attribute\n",
    "\n",
    "    def deposit(self, amount):\n",
    "        if amount > 0:\n",
    "            self.__balance += amount\n",
    "        else:\n",
    "            print(\"Invalid deposit amount\")\n",
    "\n",
    "    def withdraw(self, amount):\n",
    "        if 0 < amount <= self.__balance:\n",
    "            self.__balance -= amount\n",
    "        else:\n",
    "            print(\"Invalid withdrawal amount\")\n",
    "\n",
    "    def get_balance(self):\n",
    "        return self.__balance  # Public method to access private attribute\n",
    "\n",
    "# Usage\n",
    "account = BankAccount(1000)\n",
    "account.deposit(500)\n",
    "print(account.get_balance())    # Output: 1500\n",
    "\n",
    "account.withdraw(200)\n",
    "print(account.get_balance())    # Output: 1300\n"
   ]
  },
  {
   "cell_type": "code",
   "execution_count": 5,
   "id": "9f59eb4c",
   "metadata": {},
   "outputs": [
    {
     "name": "stdout",
     "output_type": "stream",
     "text": [
      "Updated balance: 8000.0\n",
      "Updated balance: 5000.0\n"
     ]
    }
   ],
   "source": [
    "withdraw"
   ]
  },
  {
   "cell_type": "code",
   "execution_count": null,
   "id": "da1740eb",
   "metadata": {},
   "outputs": [],
   "source": []
  }
 ],
 "metadata": {
  "kernelspec": {
   "display_name": "Python 3",
   "language": "python",
   "name": "python3"
  },
  "language_info": {
   "codemirror_mode": {
    "name": "ipython",
    "version": 3
   },
   "file_extension": ".py",
   "mimetype": "text/x-python",
   "name": "python",
   "nbconvert_exporter": "python",
   "pygments_lexer": "ipython3",
   "version": "3.10.7"
  }
 },
 "nbformat": 4,
 "nbformat_minor": 5
}
