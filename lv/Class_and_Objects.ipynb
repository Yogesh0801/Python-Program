{
 "cells": [
  {
   "cell_type": "markdown",
   "id": "449a9c8f",
   "metadata": {},
   "source": [
    "# How to create a Class?"
   ]
  },
  {
   "cell_type": "code",
   "execution_count": 2,
   "id": "c74209e7",
   "metadata": {},
   "outputs": [
    {
     "name": "stdout",
     "output_type": "stream",
     "text": [
      "<class '__main__.myclass'>\n"
     ]
    }
   ],
   "source": [
    "class myclass:\n",
    "    x = 5 # Property of class\n",
    "    \n",
    "print(myclass)"
   ]
  },
  {
   "cell_type": "markdown",
   "id": "8cfdb893",
   "metadata": {},
   "source": [
    "# How to create object?\n"
   ]
  },
  {
   "cell_type": "code",
   "execution_count": 6,
   "id": "6dd2e7fd",
   "metadata": {},
   "outputs": [
    {
     "name": "stdout",
     "output_type": "stream",
     "text": [
      "5\n"
     ]
    }
   ],
   "source": [
    "class myclass:\n",
    "    x = 5 # Property of class\n",
    "    \n",
    "# creating object of myclass\n",
    "m1 = myclass() # m1 is an object of class myclass\n",
    "print(m1.x)"
   ]
  },
  {
   "cell_type": "markdown",
   "id": "d75af537",
   "metadata": {},
   "source": [
    "# Calling a function by object"
   ]
  },
  {
   "cell_type": "code",
   "execution_count": 9,
   "id": "00f82299",
   "metadata": {},
   "outputs": [
    {
     "name": "stdout",
     "output_type": "stream",
     "text": [
      "Hello myFunction\n"
     ]
    }
   ],
   "source": [
    "class myclass:\n",
    "    def myfunction(self): # Property of myclass\n",
    "        print(\"Hello myFunction\")\n",
    "# Creating an object\n",
    "m1 = myclass()\n",
    "m1.myfunction()"
   ]
  },
  {
   "cell_type": "markdown",
   "id": "d8a8f401",
   "metadata": {},
   "source": [
    "# How create constructor"
   ]
  },
  {
   "cell_type": "code",
   "execution_count": 11,
   "id": "b2445afc",
   "metadata": {},
   "outputs": [
    {
     "name": "stdout",
     "output_type": "stream",
     "text": [
      "This is my constructor\n"
     ]
    }
   ],
   "source": [
    "class myclass:\n",
    "    # Creating a constructor\n",
    "    def __init__(self):\n",
    "        print(\"This is my constructor\")\n",
    "        \n",
    "# creating an object\n",
    "m1 = myclass()\n"
   ]
  },
  {
   "cell_type": "markdown",
   "id": "d29c70dd",
   "metadata": {},
   "source": [
    "# Change the value by object"
   ]
  },
  {
   "cell_type": "code",
   "execution_count": 3,
   "id": "ffd953ac",
   "metadata": {},
   "outputs": [
    {
     "name": "stdout",
     "output_type": "stream",
     "text": [
      "Age :  26\n",
      "age is deleted\n"
     ]
    },
    {
     "ename": "AttributeError",
     "evalue": "'myclass' object has no attribute 'age'",
     "output_type": "error",
     "traceback": [
      "\u001b[1;31m---------------------------------------------------------------------------\u001b[0m",
      "\u001b[1;31mAttributeError\u001b[0m                            Traceback (most recent call last)",
      "Cell \u001b[1;32mIn[3], line 22\u001b[0m\n\u001b[0;32m     20\u001b[0m \u001b[38;5;28;01mdel\u001b[39;00m m1\u001b[38;5;241m.\u001b[39mage\n\u001b[0;32m     21\u001b[0m \u001b[38;5;28mprint\u001b[39m(\u001b[38;5;124m\"\u001b[39m\u001b[38;5;124mage is deleted\u001b[39m\u001b[38;5;124m\"\u001b[39m)\n\u001b[1;32m---> 22\u001b[0m \u001b[38;5;28mprint\u001b[39m(\u001b[38;5;124m\"\u001b[39m\u001b[38;5;124mAge : \u001b[39m\u001b[38;5;124m\"\u001b[39m,\u001b[43mm1\u001b[49m\u001b[38;5;241;43m.\u001b[39;49m\u001b[43mage\u001b[49m)\n",
      "\u001b[1;31mAttributeError\u001b[0m: 'myclass' object has no attribute 'age'"
     ]
    }
   ],
   "source": [
    "class myclass:\n",
    "    def __init__(self,name,age):\n",
    "        self.name = name\n",
    "        self.age = age\n",
    "        \n",
    "    def myfunction(self):\n",
    "        print(\"My Name is  : \"+self.name)\n",
    "        \n",
    "# creating an object\n",
    "m1 = myclass(\"Sunit\",25)\n",
    "m1.age\n",
    "m1.name\n",
    "\n",
    "# Changing the age using object\n",
    "m1.age = 26\n",
    "print(\"Age : \",m1.age)\n",
    "\n",
    "\n",
    "# Delete the object\n",
    "del m1.age\n",
    "print(\"age is deleted\")\n",
    "print(\"Age : \",m1.age)"
   ]
  },
  {
   "cell_type": "code",
   "execution_count": null,
   "id": "8d5c9437",
   "metadata": {},
   "outputs": [],
   "source": []
  }
 ],
 "metadata": {
  "kernelspec": {
   "display_name": "Python 3",
   "language": "python",
   "name": "python3"
  },
  "language_info": {
   "codemirror_mode": {
    "name": "ipython",
    "version": 3
   },
   "file_extension": ".py",
   "mimetype": "text/x-python",
   "name": "python",
   "nbconvert_exporter": "python",
   "pygments_lexer": "ipython3",
   "version": "3.10.7"
  }
 },
 "nbformat": 4,
 "nbformat_minor": 5
}
