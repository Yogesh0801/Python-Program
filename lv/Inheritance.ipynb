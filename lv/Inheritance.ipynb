{
 "cells": [
  {
   "cell_type": "markdown",
   "id": "068ed15d",
   "metadata": {},
   "source": [
    "# Single Inheritance"
   ]
  },
  {
   "cell_type": "code",
   "execution_count": 3,
   "id": "12ce5144",
   "metadata": {},
   "outputs": [
    {
     "name": "stdout",
     "output_type": "stream",
     "text": [
      "Parent Class Function Called\n",
      "Child Class Function Called\n"
     ]
    }
   ],
   "source": [
    "class ParentClass: # Parent Class\n",
    "    def myfunction1(self): # Parent Class Property\n",
    "        print(\"Parent Class Function Called\")\n",
    "        \n",
    "class ChildClass(ParentClass): # Child Class which inhrit Parent Class\n",
    "    def myfunction2(self): # Child Class Property\n",
    "        \n",
    "        print(\"Child Class Function Called\")\n",
    "        \n",
    "# Creating an object of ChildClass\n",
    "\n",
    "c1 = ChildClass()\n",
    "c1.myfunction1()\n",
    "c1.myfunction2()"
   ]
  },
  {
   "cell_type": "markdown",
   "id": "187b79ae",
   "metadata": {},
   "source": [
    "1.\tQuestion: Create a base class Person with attributes name and age, and a method display() that prints these details. Then, create a subclass Employee that inherits Person and adds an additional attribute salary and a method show_salary(). Demonstrate how the subclass inherits the display() method from the parent class."
   ]
  },
  {
   "cell_type": "code",
   "execution_count": 1,
   "id": "7eea6bd8",
   "metadata": {},
   "outputs": [
    {
     "name": "stdout",
     "output_type": "stream",
     "text": [
      "Name: John Doe\n",
      "Age: 30\n",
      "Salary: 50000\n"
     ]
    }
   ],
   "source": [
    "# Base class Person\n",
    "class Person:\n",
    "    def __init__(self, name, age):\n",
    "        self.name = name\n",
    "        self.age = age\n",
    "\n",
    "    def display(self):\n",
    "        print(f\"Name: {self.name}\")\n",
    "        print(f\"Age: {self.age}\")\n",
    "\n",
    "# Subclass Employee inheriting from Person\n",
    "class Employee(Person):\n",
    "    def __init__(self, name, age, salary):\n",
    "        # Initialize the attributes of Person class using super()\n",
    "        super().__init__(name, age)\n",
    "        self.salary = salary\n",
    "\n",
    "    def show_salary(self):\n",
    "        print(f\"Salary: {self.salary}\")\n",
    "\n",
    "# Creating an object of the Employee class\n",
    "employee = Employee(\"John Doe\", 30, 50000)\n",
    "\n",
    "# Demonstrating inheritance: calling display() from the parent class Person\n",
    "employee.display()\n",
    "\n",
    "# Calling the method specific to Employee class\n",
    "employee.show_salary()\n"
   ]
  },
  {
   "cell_type": "markdown",
   "id": "c484bb52",
   "metadata": {},
   "source": [
    "# Multilevel Inheritance"
   ]
  },
  {
   "cell_type": "code",
   "execution_count": 4,
   "id": "0fc4fe6f",
   "metadata": {},
   "outputs": [
    {
     "name": "stdout",
     "output_type": "stream",
     "text": [
      "Class A function called\n",
      "Class B function called\n",
      "Class C function called\n"
     ]
    }
   ],
   "source": [
    "class A: # Parent Class\n",
    "    def myFunct(self):\n",
    "        print(\"Class A function called\")\n",
    "\n",
    "class B(A): # Sub-Parent Class\n",
    "    def myfunction2(self):\n",
    "        print(\"Class B function called\")\n",
    "\n",
    "class C(B): # Child Class\n",
    "    def myfunction3(self):\n",
    "        print(\"Class C function called\")\n",
    "        \n",
    "# Creating an object of Class C\n",
    "c1 = C()\n",
    "c1.myFunct()\n",
    "c1.myfunction2()\n",
    "c1.myfunction3()"
   ]
  },
  {
   "cell_type": "markdown",
   "id": "0df17dcd",
   "metadata": {},
   "source": [
    "3.\tQuestion: Create a class LivingBeing with a method breathe(), which prints \"Living beings breathe\". Then create a subclass Animal that inherits LivingBeing and has a method move(), which prints \"Animals can move\". Finally, create another subclass Bird that inherits Animal and adds a method fly(), which prints \"Birds can fly\". Demonstrate how methods are inherited across multiple levels."
   ]
  },
  {
   "cell_type": "code",
   "execution_count": 3,
   "id": "988e94ff",
   "metadata": {},
   "outputs": [
    {
     "name": "stdout",
     "output_type": "stream",
     "text": [
      "Living beings breathe\n",
      "Animals can move\n",
      "Birds can fly\n"
     ]
    }
   ],
   "source": [
    "# Base class LivingBeing\n",
    "class LivingBeing:\n",
    "    def breathe(self):\n",
    "        print(\"Living beings breathe\")\n",
    "\n",
    "# Subclass Animal inheriting from LivingBeing\n",
    "class Animal(LivingBeing):\n",
    "    def move(self):\n",
    "        print(\"Animals can move\")\n",
    "\n",
    "# Subclass Bird inheriting from Animal (and implicitly from LivingBeing)\n",
    "class Bird(Animal):\n",
    "    def fly(self):\n",
    "        print(\"Birds can fly\")\n",
    "\n",
    "# Creating an object of Bird class\n",
    "bird = Bird()\n",
    "\n",
    "# Demonstrating inheritance across multiple levels\n",
    "bird.breathe()  # Inherited from LivingBeing\n",
    "bird.move()     # Inherited from Animal\n",
    "bird.fly()      # Defined in Bird\n"
   ]
  },
  {
   "cell_type": "markdown",
   "id": "d9410990",
   "metadata": {},
   "source": [
    "# Multiple Inheritance"
   ]
  },
  {
   "cell_type": "code",
   "execution_count": 7,
   "id": "8be6873e",
   "metadata": {},
   "outputs": [
    {
     "name": "stdout",
     "output_type": "stream",
     "text": [
      "Class A1 function called\n",
      "Class B1 function called\n",
      "Class C1 function called\n"
     ]
    }
   ],
   "source": [
    "class A1:# 1st Parent Class\n",
    "    def myfunction1(self):\n",
    "        print(\"Class A1 function called\")\n",
    "class B1: #2nd Parent Class\n",
    "    def myfunction2(self):\n",
    "        print(\"Class B1 function called\")\n",
    "        \n",
    "class C1(A1,B1): # Child Class\n",
    "    def myfunction3(self):\n",
    "        print(\"Class C1 function called\")\n",
    "        \n",
    "# Creating an object of Class c1\n",
    "\n",
    "c1 = C1()\n",
    "c1.myfunction1()\n",
    "c1.myfunction2()\n",
    "c1.myfunction3()"
   ]
  },
  {
   "cell_type": "markdown",
   "id": "f91a4e79",
   "metadata": {},
   "source": [
    " 2.\tQuestion: Create two parent classes, Scientist with an attribute field and a method show_field(), and Writer with an attribute genre and a method show_genre(). Then, create a subclass AuthorScientist that inherits from both Scientist and Writer, and has a method display_all() to show all attributes. Demonstrate how multiple inheritance works."
   ]
  },
  {
   "cell_type": "code",
   "execution_count": 2,
   "id": "ff40a914",
   "metadata": {},
   "outputs": [
    {
     "name": "stdout",
     "output_type": "stream",
     "text": [
      "Name: Dr. John Smith\n",
      "Field of Study: Physics\n",
      "Genre: Science Fiction\n"
     ]
    }
   ],
   "source": [
    "# Parent class Scientist\n",
    "class Scientist:\n",
    "    def __init__(self, field):\n",
    "        self.field = field\n",
    "\n",
    "    def show_field(self):\n",
    "        print(f\"Field of Study: {self.field}\")\n",
    "\n",
    "# Parent class Writer\n",
    "class Writer:\n",
    "    def __init__(self, genre):\n",
    "        self.genre = genre\n",
    "\n",
    "    def show_genre(self):\n",
    "        print(f\"Genre: {self.genre}\")\n",
    "\n",
    "# Subclass AuthorScientist inheriting from both Scientist and Writer\n",
    "class AuthorScientist(Scientist, Writer):\n",
    "    def __init__(self, field, genre, name):\n",
    "        # Initialize attributes of both parent classes using super()\n",
    "        Scientist.__init__(self, field)\n",
    "        Writer.__init__(self, genre)\n",
    "        self.name = name\n",
    "\n",
    "    def display_all(self):\n",
    "        print(f\"Name: {self.name}\")\n",
    "        self.show_field()  # Calling method from Scientist class\n",
    "        self.show_genre()  # Calling method from Writer class\n",
    "\n",
    "# Creating an object of AuthorScientist class\n",
    "author_scientist = AuthorScientist(\"Physics\", \"Science Fiction\", \"Dr. John Smith\")\n",
    "\n",
    "# Demonstrating multiple inheritance\n",
    "author_scientist.display_all()\n"
   ]
  },
  {
   "cell_type": "markdown",
   "id": "c4591334",
   "metadata": {},
   "source": [
    "# Hierarchical Inheritance"
   ]
  },
  {
   "cell_type": "code",
   "execution_count": 11,
   "id": "a1f6ec34",
   "metadata": {},
   "outputs": [
    {
     "name": "stdout",
     "output_type": "stream",
     "text": [
      "Class A1 Function Called\n",
      "Class A2 Function Called\n",
      "Class A1 Function Called\n",
      "Class A3 Function called\n"
     ]
    }
   ],
   "source": [
    "class A1: # Parent Class\n",
    "    def myFunction1(self):\n",
    "        print(\"Class A1 Function Called\")\n",
    "        \n",
    "class A2(A1): # Child Class\n",
    "    def myFunction2(self):\n",
    "        print(\"Class A2 Function Called\")\n",
    "        \n",
    "class A3(A1): # Child Class\n",
    "    def myFunction3(self):\n",
    "        print(\"Class A3 Function called\")\n",
    "        \n",
    "        \n",
    "# Creating 2 objects 1 for class A2 and 1 for class A3\n",
    "\n",
    "a2 = A2()\n",
    "\n",
    "a3 = A3()\n",
    "\n",
    "a2.myFunction1()  # Function of Class A1\n",
    "a2.myFunction2()  # Function of Class A2\n",
    "\n",
    "\n",
    "a3.myFunction1() # Function of Class A1\n",
    "a3.myFunction3() # Function of Class A3"
   ]
  },
  {
   "cell_type": "markdown",
   "id": "eab97f72",
   "metadata": {},
   "source": [
    "4.\tQuestion: Create a base class Vehicle with an attribute max_speed and a method drive() that prints a statement with the speed. Then, create two subclasses: Car and Bike, both of which inherit from Vehicle and override the drive() method with custom behavior for each vehicle type. Demonstrate how both Car and Bike inherit from Vehicle."
   ]
  },
  {
   "cell_type": "code",
   "execution_count": 4,
   "id": "a2ef8613",
   "metadata": {},
   "outputs": [
    {
     "name": "stdout",
     "output_type": "stream",
     "text": [
      "The Toyota car is driving at 150 km/h\n",
      "The Mountain bike is riding at 80 km/h\n"
     ]
    }
   ],
   "source": [
    "# Base class Vehicle\n",
    "class Vehicle:\n",
    "    def __init__(self, max_speed):\n",
    "        self.max_speed = max_speed\n",
    "\n",
    "    def drive(self):\n",
    "        print(f\"Driving at {self.max_speed} km/h\")\n",
    "\n",
    "# Subclass Car inheriting from Vehicle\n",
    "class Car(Vehicle):\n",
    "    def __init__(self, max_speed, brand):\n",
    "        super().__init__(max_speed)  # Calling parent class constructor\n",
    "        self.brand = brand\n",
    "\n",
    "    def drive(self):\n",
    "        print(f\"The {self.brand} car is driving at {self.max_speed} km/h\")\n",
    "\n",
    "# Subclass Bike inheriting from Vehicle\n",
    "class Bike(Vehicle):\n",
    "    def __init__(self, max_speed, type_of_bike):\n",
    "        super().__init__(max_speed)  # Calling parent class constructor\n",
    "        self.type_of_bike = type_of_bike\n",
    "\n",
    "    def drive(self):\n",
    "        print(f\"The {self.type_of_bike} bike is riding at {self.max_speed} km/h\")\n",
    "\n",
    "# Creating objects of Car and Bike\n",
    "car = Car(150, \"Toyota\")\n",
    "bike = Bike(80, \"Mountain\")\n",
    "\n",
    "# Demonstrating inheritance and method overriding\n",
    "car.drive()  # Custom drive method in Car class\n",
    "bike.drive()  # Custom drive method in Bike class\n"
   ]
  },
  {
   "cell_type": "markdown",
   "id": "b85d2729",
   "metadata": {},
   "source": [
    "# Hybrid Inheritance"
   ]
  },
  {
   "cell_type": "code",
   "execution_count": 5,
   "id": "f8208af0",
   "metadata": {},
   "outputs": [
    {
     "name": "stdout",
     "output_type": "stream",
     "text": [
      "Function of class B1\n",
      "Function of class B2\n",
      "Function of class B3\n",
      "Function of class B4\n"
     ]
    }
   ],
   "source": [
    "class B1: # Parent Class\n",
    "    def myFunction1(self):\n",
    "        print(\"Function of class B1\")\n",
    "class B2(B1): # Child Class\n",
    "    def myFunction2(self):\n",
    "        print(\"Function of class B2\")\n",
    "\n",
    "class B3(B1): # Child Class\n",
    "    def myFunction3(self):\n",
    "        print(\"Function of class B3\")\n",
    "\n",
    "class B4(B2,B3): # Child Class\n",
    "    def myFunction4(self):\n",
    "        print(\"Function of class B4\")\n",
    "        \n",
    "\n",
    "# Creating an object of class B4\n",
    "\n",
    "b = B4() # Object of B4 class\n",
    "b.myFunction1()\n",
    "b.myFunction2()\n",
    "b.myFunction3()\n",
    "b.myFunction4()"
   ]
  },
  {
   "cell_type": "markdown",
   "id": "bedf4970",
   "metadata": {},
   "source": [
    "5.\tQuestion: Design a class structure with the following hierarchy:\n",
    "o\tAppliance as the base class with a method switch_on().\n",
    "o\tKitchenAppliance inheriting Appliance with a method cook().\n",
    "o\tElectronic inheriting Appliance with a method charge().\n",
    "o\tSmartOven inheriting from both KitchenAppliance and Electronic, with an additional method bake().\n",
    "Demonstrate how SmartOven can access methods from both KitchenAppliance and Electronic.\n"
   ]
  },
  {
   "cell_type": "code",
   "execution_count": 5,
   "id": "c80d3a64",
   "metadata": {},
   "outputs": [
    {
     "name": "stdout",
     "output_type": "stream",
     "text": [
      "The appliance is now ON.\n",
      "Cooking food...\n",
      "Charging the appliance...\n",
      "Baking food in the Smart Oven...\n"
     ]
    }
   ],
   "source": [
    "# Base class Appliance\n",
    "class Appliance:\n",
    "    def switch_on(self):\n",
    "        print(\"The appliance is now ON.\")\n",
    "\n",
    "# Subclass KitchenAppliance inheriting from Appliance\n",
    "class KitchenAppliance(Appliance):\n",
    "    def cook(self):\n",
    "        print(\"Cooking food...\")\n",
    "\n",
    "# Subclass Electronic inheriting from Appliance\n",
    "class Electronic(Appliance):\n",
    "    def charge(self):\n",
    "        print(\"Charging the appliance...\")\n",
    "\n",
    "# Subclass SmartOven inheriting from both KitchenAppliance and Electronic\n",
    "class SmartOven(KitchenAppliance, Electronic):\n",
    "    def bake(self):\n",
    "        print(\"Baking food in the Smart Oven...\")\n",
    "\n",
    "# Creating an object of SmartOven class\n",
    "oven = SmartOven()\n",
    "\n",
    "# Demonstrating how SmartOven can access methods from both KitchenAppliance and Electronic\n",
    "oven.switch_on()  # Inherited from Appliance\n",
    "oven.cook()       # Inherited from KitchenAppliance\n",
    "oven.charge()     # Inherited from Electronic\n",
    "oven.bake()       # Defined in SmartOven\n"
   ]
  },
  {
   "cell_type": "code",
   "execution_count": 1,
   "id": "4bb5b6c9",
   "metadata": {},
   "outputs": [
    {
     "name": "stdout",
     "output_type": "stream",
     "text": [
      "Deposited 1000. New Balance: 1000\n",
      "30.0\n",
      "Deposited 2000. New Balance: 2000\n",
      "Total loan amount after interest: 5250.0\n",
      "Withdrew 700. New Balance: -400\n",
      "Overdraft limit exceeded\n",
      "Maturity Amount after 2 years: 5600.000000000001\n"
     ]
    }
   ],
   "source": [
    "# Base Class\n",
    "class Person:\n",
    "    def __init__(self, name, age):\n",
    "        self.name = name\n",
    "        self.age = age\n",
    "    \n",
    "    def show_details(self):\n",
    "        return f\"Name: {self.name}, Age: {self.age}\"\n",
    "\n",
    "# Single Inheritance\n",
    "class BankAccount(Person):\n",
    "    def __init__(self, name, age, account_number, balance=0):\n",
    "        super().__init__(name, age)\n",
    "        self.account_number = account_number\n",
    "        self.balance = balance\n",
    "    \n",
    "    def deposit(self, amount):\n",
    "        self.balance += amount\n",
    "        return f\"Deposited {amount}. New Balance: {self.balance}\"\n",
    "    \n",
    "    def withdraw(self, amount):\n",
    "        if amount <= self.balance:\n",
    "            self.balance -= amount\n",
    "            return f\"Withdrew {amount}. New Balance: {self.balance}\"\n",
    "        else:\n",
    "            return \"Insufficient balance\"\n",
    "\n",
    "# Multilevel Inheritance\n",
    "class SavingsAccount(BankAccount):\n",
    "    def __init__(self, name, age, account_number, balance=0, interest_rate=0.03):\n",
    "        super().__init__(name, age, account_number, balance)\n",
    "        self.interest_rate = interest_rate\n",
    "\n",
    "    def calculate_interest(self):\n",
    "        return self.balance * self.interest_rate\n",
    "\n",
    "# Mixin Class for Multiple Inheritance\n",
    "class Loan:\n",
    "    def __init__(self, loan_amount=0, loan_interest_rate=0.05):\n",
    "        self.loan_amount = loan_amount\n",
    "        self.loan_interest_rate = loan_interest_rate\n",
    "\n",
    "    def apply_for_loan(self):\n",
    "        total_loan = self.loan_amount * (1 + self.loan_interest_rate)\n",
    "        return f\"Total loan amount after interest: {total_loan}\"\n",
    "\n",
    "# Multiple Inheritance with Mixin\n",
    "class PersonalLoanAccount(BankAccount, Loan):\n",
    "    def __init__(self, name, age, account_number, balance=0, loan_amount=0, loan_interest_rate=0.05):\n",
    "        BankAccount.__init__(self, name, age, account_number, balance)\n",
    "        Loan.__init__(self, loan_amount, loan_interest_rate)\n",
    "\n",
    "# Hierarchical Inheritance\n",
    "class CheckingAccount(BankAccount):\n",
    "    def __init__(self, name, age, account_number, balance=0, overdraft_limit=500):\n",
    "        super().__init__(name, age, account_number, balance)\n",
    "        self.overdraft_limit = overdraft_limit\n",
    "    \n",
    "    def withdraw(self, amount):\n",
    "        if amount <= self.balance + self.overdraft_limit:\n",
    "            self.balance -= amount\n",
    "            return f\"Withdrew {amount}. New Balance: {self.balance}\"\n",
    "        else:\n",
    "            return \"Overdraft limit exceeded\"\n",
    "\n",
    "class FixedDepositAccount(BankAccount):\n",
    "    def __init__(self, name, age, account_number, balance=0, duration=1, maturity_amount=0):\n",
    "        super().__init__(name, age, account_number, balance)\n",
    "        self.duration = duration\n",
    "        self.maturity_amount = maturity_amount\n",
    "    \n",
    "    def calculate_maturity_amount(self):\n",
    "        self.maturity_amount = self.balance * (1 + 0.06 * self.duration)  # Simple interest calculation\n",
    "        return f\"Maturity Amount after {self.duration} years: {self.maturity_amount}\"\n",
    "\n",
    "acc = SavingsAccount(\"Alice\", 30, \"SA123\")\n",
    "print(acc.deposit(1000))  # \"Deposited 1000. New Balance: 1000\"\n",
    "print(acc.calculate_interest())  # Interest based on balance\n",
    "\n",
    "loan_acc = PersonalLoanAccount(\"Bob\", 40, \"PA456\", loan_amount=5000)\n",
    "print(loan_acc.deposit(2000))  # \"Deposited 2000. New Balance: 2000\"\n",
    "print(loan_acc.apply_for_loan())  # Total loan amount with interest\n",
    "\n",
    "check_acc = CheckingAccount(\"Eve\", 25, \"CA789\", balance=300, overdraft_limit=500)\n",
    "print(check_acc.withdraw(700))  # Should be within overdraft limit\n",
    "print(check_acc.withdraw(2000))  # Should exceed overdraft limit\n",
    "\n",
    "fd_acc = FixedDepositAccount(\"Chris\", 60, \"FD101\", balance=5000, duration=2)\n",
    "print(fd_acc.calculate_maturity_amount())  # Calculate maturity amount after 2 years\n",
    "\n"
   ]
  },
  {
   "cell_type": "code",
   "execution_count": null,
   "id": "2ca6c859",
   "metadata": {},
   "outputs": [],
   "source": []
  }
 ],
 "metadata": {
  "kernelspec": {
   "display_name": "venv",
   "language": "python",
   "name": "python3"
  },
  "language_info": {
   "codemirror_mode": {
    "name": "ipython",
    "version": 3
   },
   "file_extension": ".py",
   "mimetype": "text/x-python",
   "name": "python",
   "nbconvert_exporter": "python",
   "pygments_lexer": "ipython3",
   "version": "3.10.7"
  }
 },
 "nbformat": 4,
 "nbformat_minor": 5
}
