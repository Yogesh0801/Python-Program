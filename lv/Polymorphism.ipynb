{
 "cells": [
  {
   "cell_type": "markdown",
   "id": "97fec90b",
   "metadata": {},
   "source": [
    "# Method Overloading"
   ]
  },
  {
   "cell_type": "code",
   "execution_count": 1,
   "id": "dd1661be",
   "metadata": {},
   "outputs": [],
   "source": [
    "# Method Overloading means having same name methods in same class,But different arguments.\n",
    "# In method overloading inheritence is not required."
   ]
  },
  {
   "cell_type": "code",
   "execution_count": 5,
   "id": "94148c98",
   "metadata": {},
   "outputs": [
    {
     "name": "stdout",
     "output_type": "stream",
     "text": [
      "Function with 2 arguments\n"
     ]
    }
   ],
   "source": [
    "class MO:\n",
    "    def myFunction(self): # No arguments\n",
    "        print(\"Function with no arguments\")\n",
    "        \n",
    "    def myFunction(self,a): # 1 arguments\n",
    "        print(\"Function with 1 argument\")\n",
    "        \n",
    "    def myFunction(self,a,b): # 2 arguments\n",
    "        print(\"Function with 2 arguments\")\n",
    "\n",
    "# Creating an object of Class MO\n",
    "m = MO()\n",
    "m.myFunction(10,20)\n",
    "\n",
    "# Note : Method Overloading is not supported in python because python is a interperted \n",
    "# Language"
   ]
  },
  {
   "cell_type": "markdown",
   "id": "3f0eab09",
   "metadata": {},
   "source": [
    "# Method Overriding"
   ]
  },
  {
   "cell_type": "code",
   "execution_count": 2,
   "id": "5eba6db9",
   "metadata": {},
   "outputs": [],
   "source": [
    "# method overriding means having same name methods, but into different class, arguments are also same\n",
    "# in method overriding inheritence is compulsory.\n"
   ]
  },
  {
   "cell_type": "code",
   "execution_count": 14,
   "id": "201ca381",
   "metadata": {},
   "outputs": [
    {
     "name": "stdout",
     "output_type": "stream",
     "text": [
      "Class MO3 function called\n",
      "Class MO2 function called\n",
      "Class MO1 function Called\n"
     ]
    }
   ],
   "source": [
    "class MO1: # Parent Class\n",
    "    def myFunction(self,a):\n",
    "        print(\"Class MO1 function Called\")\n",
    "        \n",
    "class MO2(MO1): # Child Class\n",
    "    def myFunction(self,a):\n",
    "        print(\"Class MO2 function called\")\n",
    "        # Super method calling the method of class MO1\n",
    "        super().myFunction(10)\n",
    "        \n",
    "class MO3(MO2): # Child Class\n",
    "    def myFunction(self,a):\n",
    "        print(\"Class MO3 function called\")\n",
    "        # Super method calling the method of class MO2\n",
    "        super().myFunction(10)\n",
    "        \n",
    "# Creating an object of class MO3\n",
    "\n",
    "m = MO3() # Object of MO3\n",
    "m.myFunction(10)"
   ]
  },
  {
   "cell_type": "markdown",
   "id": "6022fb72",
   "metadata": {},
   "source": [
    "# Basic Method Overriding"
   ]
  },
  {
   "cell_type": "code",
   "execution_count": null,
   "id": "0c277b50",
   "metadata": {},
   "outputs": [],
   "source": [
    "class Animal:\n",
    "    def sound(self):\n",
    "        return \"Some sound\"\n",
    "\n",
    "class Dog(Animal):\n",
    "    def sound(self):\n",
    "        return \"Bark\"\n",
    "\n",
    "animal = Animal()\n",
    "dog = Dog()\n",
    "print(animal.sound())  # Output: Some sound\n",
    "print(dog.sound())     # Output: Bark\n"
   ]
  },
  {
   "cell_type": "code",
   "execution_count": null,
   "id": "9bb99af7",
   "metadata": {},
   "outputs": [],
   "source": [
    "class Vehicle:\n",
    "    def speed(self):\n",
    "        return \"Average speed is 60 km/h\"\n",
    "\n",
    "class SportsCar(Vehicle):\n",
    "    def speed(self):\n",
    "        return \"Top speed is 200 km/h\"\n",
    "\n",
    "car = Vehicle()\n",
    "sports_car = SportsCar()\n",
    "print(car.speed())        # Output: Average speed is 60 km/h\n",
    "print(sports_car.speed()) # Output: Top speed is 200 km/h\n"
   ]
  },
  {
   "cell_type": "markdown",
   "id": "ebd64cfd",
   "metadata": {},
   "source": [
    "# Calling Parent Class Method using super()"
   ]
  },
  {
   "cell_type": "code",
   "execution_count": 4,
   "id": "3ea1728d",
   "metadata": {},
   "outputs": [
    {
     "name": "stdout",
     "output_type": "stream",
     "text": [
      "Bird is flying but cannot fly high.\n"
     ]
    }
   ],
   "source": [
    "class Bird:\n",
    "    def fly(self):\n",
    "        return \"Bird is flying\"\n",
    "\n",
    "class Penguin(Bird):\n",
    "    def fly(self):\n",
    "        return super().fly() + \" but cannot fly high.\"\n",
    "\n",
    "penguin = Penguin()\n",
    "print(penguin.fly())  # Output: Bird is flying but cannot fly high.\n",
    "\n"
   ]
  },
  {
   "cell_type": "code",
   "execution_count": 7,
   "id": "82b95d8d",
   "metadata": {},
   "outputs": [
    {
     "name": "stdout",
     "output_type": "stream",
     "text": [
      "5\n",
      "6\n"
     ]
    }
   ],
   "source": [
    "# Overriding Methods with Different Parameters\n",
    "class Calculator:\n",
    "    def calculate(self, a, b):\n",
    "        return a + b\n",
    "\n",
    "class ScientificCalculator(Calculator):\n",
    "    def calculate(self, a, b):\n",
    "        return a * b\n",
    "\n",
    "calc = Calculator()\n",
    "sci_calc = ScientificCalculator()\n",
    "print(calc.calculate(2, 3))      # Output: 5\n",
    "print(sci_calc.calculate(2, 3))  # Output: 6\n"
   ]
  },
  {
   "cell_type": "code",
   "execution_count": 15,
   "id": "b145e076",
   "metadata": {},
   "outputs": [
    {
     "name": "stdout",
     "output_type": "stream",
     "text": [
      "devide 0.5056179775280899\n",
      "Multi 4005\n",
      "Subtraction -44\n",
      "sum 134\n"
     ]
    }
   ],
   "source": [
    "class A:\n",
    "    def cal(self,a,b):\n",
    "        self.a = a\n",
    "        self.b = b\n",
    "        c = self.a+self.b\n",
    "        print(\"sum\",c)\n",
    "class B(A):\n",
    "    def cal(self,a,b):\n",
    "        self.a = a\n",
    "        self.b = b\n",
    "        c = self.a-self.b\n",
    "        print(\"Subtraction\",c)\n",
    "        super().cal(45,89)\n",
    "class C(B):\n",
    "    def cal(self,a,b):\n",
    "        self.a = a\n",
    "        self.b = b\n",
    "        c = self.a*self.b\n",
    "        print(\"Multi\",c)\n",
    "        super().cal(45,89)\n",
    "class D(C):\n",
    "    def cal(self,a,b):\n",
    "        self.a = a\n",
    "        self.b = b\n",
    "        c = self.a/self.b\n",
    "        print(\"devide\",c)\n",
    "        super().cal(45,89)\n",
    "h = D()\n",
    "h.cal(45,89)"
   ]
  },
  {
   "cell_type": "code",
   "execution_count": null,
   "id": "ecca1486",
   "metadata": {},
   "outputs": [],
   "source": [
    "class A:\n",
    "    def cal(self, a, b):\n",
    "        self.a = a\n",
    "        self.b = b\n",
    "        c = self.a + self.b\n",
    "        print(\"Sum:\", c)\n",
    "\n",
    "class B(A):\n",
    "    def cal(self, a, b):\n",
    "        self.a = a\n",
    "        self.b = b\n",
    "        c = self.a - self.b\n",
    "        print(\"Subtraction:\", c)\n",
    "        super().cal(45, 89)  # Call the method from class A with fixed values\n",
    "\n",
    "class C(B):\n",
    "    def cal(self, a, b):\n",
    "        self.a = a\n",
    "        self.b = b\n",
    "        c = self.a * self.b\n",
    "        print(\"Multiplication:\", c)\n",
    "        super().cal(45, 89)  # Call the method from class B with fixed values\n",
    "\n",
    "class D(C):\n",
    "    def cal(self, a, b):\n",
    "        self.a = a\n",
    "        self.b = b\n",
    "        c = self.a / self.b\n",
    "        print(\"Division:\", c)\n",
    "        super().cal(45, 89)  # Call the method from class C with fixed values\n",
    "\n",
    "# Get user input\n",
    "a = float(input(\"Enter the first number: \"))\n",
    "b = float(input(\"Enter the second number: \"))\n",
    "\n",
    "# Create an instance of D and call the method\n",
    "h = D()\n",
    "h.cal(a, b)\n"
   ]
  },
  {
   "cell_type": "code",
   "execution_count": null,
   "id": "fdd31026",
   "metadata": {},
   "outputs": [],
   "source": [
    "class A:\n",
    "    def cal(self, a, b):\n",
    "        return a + b  # Return the sum\n",
    "\n",
    "class B(A):\n",
    "    def cal(self, a, b):\n",
    "        result_a = super().cal(a, b)  # Call the method in class A\n",
    "        return a - b, result_a  # Return the subtraction and result from class A\n",
    "\n",
    "class C(B):\n",
    "    def cal(self, a, b):\n",
    "        result_b, result_a = super().cal(a, b)  # Call the method in class B\n",
    "        return a * b, result_b, result_a  # Return multiplication, subtraction, and sum\n",
    "\n",
    "class D(C):\n",
    "    def cal(self, a, b):\n",
    "        result_c, result_b, result_a = super().cal(a, b)  # Call the method in class C\n",
    "        return a / b, result_c, result_b, result_a  # Return division, multiplication, subtraction, and sum\n",
    "\n",
    "# Get user input\n",
    "a = float(input(\"Enter the first number: \"))\n",
    "b = float(input(\"Enter the second number: \"))\n",
    "\n",
    "# Create an instance of D and call the method\n",
    "h = D()\n",
    "result = h.cal(a, b)\n",
    "print(f\"Results:\\nDivision: {result[0]}\\nMultiplication: {result[1]}\\nSubtraction: {result[2]}\\nSum: {result[3]}\")\n"
   ]
  }
 ],
 "metadata": {
  "kernelspec": {
   "display_name": "Python 3",
   "language": "python",
   "name": "python3"
  },
  "language_info": {
   "codemirror_mode": {
    "name": "ipython",
    "version": 3
   },
   "file_extension": ".py",
   "mimetype": "text/x-python",
   "name": "python",
   "nbconvert_exporter": "python",
   "pygments_lexer": "ipython3",
   "version": "3.10.7"
  }
 },
 "nbformat": 4,
 "nbformat_minor": 5
}
