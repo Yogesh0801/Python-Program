{
 "cells": [
  {
   "cell_type": "code",
   "execution_count": null,
   "id": "c14dadb5",
   "metadata": {},
   "outputs": [],
   "source": [
    "# A class that consists of one or more abstract method is called the abstract class.\n",
    "# abstract method do not contain their implementation\n",
    "# abstract class can be inherited by the subclass and abstract method gets its definition in the subclass."
   ]
  },
  {
   "cell_type": "code",
   "execution_count": 2,
   "id": "7d5f7942",
   "metadata": {},
   "outputs": [
    {
     "name": "stdout",
     "output_type": "stream",
     "text": [
      "SBI Interest is 5%\n",
      "HDFC Interest is 2%\n"
     ]
    }
   ],
   "source": [
    "class RBI: # Abtract Class\n",
    "    def Interest(self): # Abstract Method\n",
    "        pass\n",
    "    \n",
    "class SBI(RBI): # Child Class\n",
    "    def Interest(self): # RBI Interest Implements here\n",
    "        print(\"SBI Interest is 5%\")\n",
    "        \n",
    "class HDFC(RBI): # Child Class\n",
    "    def Interest(self): # RBI Interest Implements here\n",
    "        print(\"HDFC Interest is 2%\")\n",
    "\n",
    "        \n",
    "# Creating an object of CLass SBI\n",
    "s = SBI()\n",
    "\n",
    "# Creating an object of Class HDFC\n",
    "h = HDFC()\n",
    "\n",
    "\n",
    "s.Interest() # SBI Interest Method Called\n",
    "h.Interest() # HDFC Interest Method Called\n"
   ]
  },
  {
   "cell_type": "code",
   "execution_count": 3,
   "id": "b1e37c4e",
   "metadata": {},
   "outputs": [
    {
     "name": "stdout",
     "output_type": "stream",
     "text": [
      "I can bark\n",
      "I can hisss\n"
     ]
    }
   ],
   "source": [
    "class Animal: # Abstract Class/Parent Class\n",
    "    def move(self): # Abstract Method\n",
    "        pass\n",
    "    \n",
    "class Dog(Animal): # Child Class\n",
    "    def move(self): # Class Animal Implements method here\n",
    "        print(\"I can bark\")\n",
    "        \n",
    "class Snake(Animal): # Child Class\n",
    "    def move(self):\n",
    "        print(\"I can hisss\")\n",
    "        \n",
    "# Creating an object of Class Dog\n",
    "d = Dog()\n",
    "\n",
    "# Creating an object of class Snake\n",
    "s = Snake()\n",
    "\n",
    "\n",
    "d.move() \n",
    "s.move()\n",
    "        "
   ]
  },
  {
   "cell_type": "markdown",
   "id": "1e07b4fb",
   "metadata": {},
   "source": [
    "# Use abstractmethod"
   ]
  },
  {
   "cell_type": "code",
   "execution_count": null,
   "id": "da5b6bb4",
   "metadata": {},
   "outputs": [],
   "source": [
    "from abc import ABC, abstractmethod\n",
    "\n",
    "class Operation(ABC):\n",
    "    @abstractmethod\n",
    "    def calculate(self, a, b):\n",
    "        pass\n",
    "class Addition(Operation):\n",
    "    def calculate(self, a, b):\n",
    "        return f\"Addition: {a} + {b} = {a + b}\"\n",
    "\n",
    "class Subtraction(Operation):\n",
    "    def calculate(self, a, b):\n",
    "        return f\"Subtraction: {a} - {b} = {a - b}\"\n",
    "\n",
    "class Multiplication(Operation):\n",
    "    def calculate(self, a, b):\n",
    "        return f\"Multiplication: {a} * {b} = {a * b}\"\n",
    "\n",
    "class Division(Operation):\n",
    "    def calculate(self, a, b):\n",
    "        if b == 0:\n",
    "            return \"Error! Division by zero.\"\n",
    "        return f\"Division: {a} / {b} = {a / b}\"\n",
    "# Create instances of operation classes\n",
    "add = Addition()\n",
    "sub = Subtraction()\n",
    "mul = Multiplication()\n",
    "div = Division()\n",
    "\n",
    "# Perform operations\n",
    "a, b = 10, 5\n",
    "print(add.calculate(a, b))   # Output: Addition: 10 + 5 = 15\n",
    "print(sub.calculate(a, b))   # Output: Subtraction: 10 - 5 = 5\n",
    "print(mul.calculate(a, b))   # Output: Multiplication: 10 * 5 = 50\n",
    "print(div.calculate(a, b))   # Output: Division: 10 / 5 = 2.0\n"
   ]
  },
  {
   "cell_type": "markdown",
   "id": "1095cb35",
   "metadata": {},
   "source": [
    "# ATM Machine Example\n"
   ]
  },
  {
   "cell_type": "code",
   "execution_count": 4,
   "id": "96f775bb",
   "metadata": {},
   "outputs": [
    {
     "name": "stdout",
     "output_type": "stream",
     "text": [
      "Your balance is: 5000.0\n",
      "Withdrawal successful! New balance: 4500.0\n"
     ]
    }
   ],
   "source": [
    "from abc import ABC, abstractmethod\n",
    "\n",
    "class Bank(ABC):\n",
    "    @abstractmethod\n",
    "    def check_balance(self):\n",
    "        pass\n",
    "\n",
    "    @abstractmethod\n",
    "    def withdraw_money(self, amount):\n",
    "        pass\n",
    "class BankATM(Bank):\n",
    "    def __init__(self, balance):\n",
    "        self.balance = balance\n",
    "\n",
    "    def check_balance(self):\n",
    "        return f\"Your balance is: {self.balance}\"\n",
    "\n",
    "    def withdraw_money(self, amount):\n",
    "        if amount > self.balance:\n",
    "            return \"Insufficient balance\"\n",
    "        self.balance -= amount\n",
    "        return f\"Withdrawal successful! New balance: {self.balance}\"\n",
    "\n",
    "# Create BankATM object\n",
    "initial_balance = float(input(\"Enter the initial balance for your account: \"))\n",
    "atm = BankATM(initial_balance)\n",
    "print(atm.check_balance())       # Output: Your balance is: 1000\n",
    "print(atm.withdraw_money(500))   # Output: Withdrawal successful! New balance: 500\n"
   ]
  },
  {
   "cell_type": "markdown",
   "id": "65ca2ab8",
   "metadata": {},
   "source": [
    "# Example: Payment System\n"
   ]
  },
  {
   "cell_type": "code",
   "execution_count": 2,
   "id": "76a0a7d6",
   "metadata": {},
   "outputs": [
    {
     "name": "stdout",
     "output_type": "stream",
     "text": [
      "Processed credit card payment of 100\n",
      "Processed PayPal payment of 200\n"
     ]
    }
   ],
   "source": [
    "from abc import ABC, abstractmethod\n",
    "\n",
    "class Payment(ABC):\n",
    "    @abstractmethod\n",
    "    def process_payment(self, amount):\n",
    "        pass\n",
    "class CreditCardPayment(Payment):\n",
    "    def process_payment(self, amount):\n",
    "        return f\"Processed credit card payment of {amount}\"\n",
    "\n",
    "credit_card = CreditCardPayment()\n",
    "print(credit_card.process_payment(100))  # Output: Processed credit card payment of 100\n",
    "class PayPalPayment(Payment):\n",
    "    def process_payment(self, amount):\n",
    "        return f\"Processed PayPal payment of {amount}\"\n",
    "\n",
    "paypal = PayPalPayment()\n",
    "print(paypal.process_payment(200))  # Output: Processed PayPal payment of 200\n"
   ]
  },
  {
   "cell_type": "code",
   "execution_count": 3,
   "id": "97e3d7c6",
   "metadata": {},
   "outputs": [
    {
     "name": "stdout",
     "output_type": "stream",
     "text": [
      "\n",
      "Choose operation:\n",
      "1. Add\n",
      "2. Subtract\n",
      "3. Multiply\n",
      "4. Divide\n",
      "5. Exit\n",
      "Result: 79.0\n",
      "\n",
      "Choose operation:\n",
      "1. Add\n",
      "2. Subtract\n",
      "3. Multiply\n",
      "4. Divide\n",
      "5. Exit\n",
      "Result: 1.5116279069767442\n",
      "\n",
      "Choose operation:\n",
      "1. Add\n",
      "2. Subtract\n",
      "3. Multiply\n",
      "4. Divide\n",
      "5. Exit\n",
      "Result: 3510.0\n",
      "\n",
      "Choose operation:\n",
      "1. Add\n",
      "2. Subtract\n",
      "3. Multiply\n",
      "4. Divide\n",
      "5. Exit\n",
      "Result: 119.0\n",
      "\n",
      "Choose operation:\n",
      "1. Add\n",
      "2. Subtract\n",
      "3. Multiply\n",
      "4. Divide\n",
      "5. Exit\n",
      "Exiting...\n"
     ]
    }
   ],
   "source": [
    "from abc import ABC, abstractmethod\n",
    "\n",
    "# Abstract class\n",
    "class Calculator(ABC):\n",
    "    @abstractmethod\n",
    "    def add(self, a, b):\n",
    "        pass\n",
    "    \n",
    "    @abstractmethod\n",
    "    def subtract(self, a, b):\n",
    "        pass\n",
    "    \n",
    "    @abstractmethod\n",
    "    def multiply(self, a, b):\n",
    "        pass\n",
    "    \n",
    "    @abstractmethod\n",
    "    def divide(self, a, b):\n",
    "        pass\n",
    "\n",
    "# Concrete class implementing abstract methods\n",
    "class SimpleCalculator(Calculator):\n",
    "    def add(self, a, b):\n",
    "        return a + b\n",
    "    \n",
    "    def subtract(self, a, b):\n",
    "        return a - b\n",
    "    \n",
    "    def multiply(self, a, b):\n",
    "        return a * b\n",
    "    \n",
    "    def divide(self, a, b):\n",
    "        if b == 0:\n",
    "            return \"Cannot divide by zero\"\n",
    "        return a / b\n",
    "\n",
    "# User input and operation selection\n",
    "def get_numbers():\n",
    "    a = float(input(\"Enter the first number: \"))\n",
    "    b = float(input(\"Enter the second number: \"))\n",
    "    return a, b\n",
    "\n",
    "calculator = SimpleCalculator()\n",
    "\n",
    "while True:\n",
    "    print(\"\\nChoose operation:\")\n",
    "    print(\"1. Add\")\n",
    "    print(\"2. Subtract\")\n",
    "    print(\"3. Multiply\")\n",
    "    print(\"4. Divide\")\n",
    "    print(\"5. Exit\")\n",
    "    \n",
    "    choice = input(\"Enter choice (1/2/3/4/5): \")\n",
    "\n",
    "    if choice in ['1', '2', '3', '4']:\n",
    "        a, b = get_numbers()\n",
    "\n",
    "        if choice == '1':\n",
    "            print(\"Result:\", calculator.add(a, b))\n",
    "        elif choice == '2':\n",
    "            print(\"Result:\", calculator.subtract(a, b))\n",
    "        elif choice == '3':\n",
    "            print(\"Result:\", calculator.multiply(a, b))\n",
    "        elif choice == '4':\n",
    "            print(\"Result:\", calculator.divide(a, b))\n",
    "\n",
    "    elif choice == '5':\n",
    "        print(\"Exiting...\")\n",
    "        break\n",
    "    else:\n",
    "        print(\"Invalid choice, try again!\")\n"
   ]
  },
  {
   "cell_type": "code",
   "execution_count": null,
   "id": "a2880ef0",
   "metadata": {},
   "outputs": [],
   "source": []
  }
 ],
 "metadata": {
  "kernelspec": {
   "display_name": "Python 3",
   "language": "python",
   "name": "python3"
  },
  "language_info": {
   "codemirror_mode": {
    "name": "ipython",
    "version": 3
   },
   "file_extension": ".py",
   "mimetype": "text/x-python",
   "name": "python",
   "nbconvert_exporter": "python",
   "pygments_lexer": "ipython3",
   "version": "3.10.7"
  }
 },
 "nbformat": 4,
 "nbformat_minor": 5
}
